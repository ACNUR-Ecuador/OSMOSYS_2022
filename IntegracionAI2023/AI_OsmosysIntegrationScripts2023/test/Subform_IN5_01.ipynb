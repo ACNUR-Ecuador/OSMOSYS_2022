{
 "cells": [
  {
   "cell_type": "code",
   "execution_count": 19,
   "metadata": {
    "collapsed": true
   },
   "outputs": [],
   "source": [
    "import pandas as pd\n",
    "\n",
    "import osmosys.osmosys\n",
    "import osmosys.Backups\n",
    "import activityinfo\n",
    "from activityinfo import Client\n",
    "from activityinfo import FormProcessing\n",
    "import importlib\n",
    "import model.modelAI\n",
    "from activityinfo.id import generate_id\n",
    "import json\n",
    "from requests.exceptions import HTTPError\n",
    "import os.path\n",
    "\n",
    "importlib.reload(osmosys.osmosys)\n",
    "importlib.reload(osmosys.Backups)\n",
    "importlib.reload(activityinfo.FormProcessing)\n",
    "importlib.reload(model.modelAI)\n",
    "import numpy as np"
   ]
  },
  {
   "cell_type": "code",
   "execution_count": 20,
   "outputs": [
    {
     "name": "stdout",
     "output_type": "stream",
     "text": [
      "--------------------------------------IN5_01------------------------------------------------------\n"
     ]
    }
   ],
   "source": [
    "## parameters\n",
    "indicatorCodeAI = 'IN5_01'\n",
    "month = 'ENERO'\n",
    "month_number = '2023-01'\n",
    "year = 2023\n",
    "test = False\n",
    "print(\n",
    "    '--------------------------------------' + indicatorCodeAI + '------------------------------------------------------')\n"
   ],
   "metadata": {
    "collapsed": false
   }
  },
  {
   "cell_type": "code",
   "execution_count": 21,
   "outputs": [
    {
     "name": "stdout",
     "output_type": "stream",
     "text": [
      "formIdAI: c7xnpifldnik44oign\n",
      "parentFormIdAI: cg7ke70ldnik44oih1\n",
      "indicatorIdAI: cuxpx86lcza9pft43\n",
      "indicatorIdsOsmosys: [273 279 280 284 287]\n"
     ]
    }
   ],
   "source": [
    "# busco matchs\n",
    "subformDf = osmosys.osmosys.getMatchSubforms(indicatorCodeAI)\n",
    "## print(subformDf.info)\n",
    "indicatorIdsOsmosys = subformDf.osmosys_indicator_id.unique()\n",
    "subformSeries = subformDf.iloc[0]\n",
    "formIdAI = subformSeries.form_id\n",
    "parentFormIdAI = subformSeries.parent_form_id\n",
    "indicatorIdAI = subformSeries.indicador_ai_id\n",
    "print(\"formIdAI: \" + formIdAI)\n",
    "print(\"parentFormIdAI: \" + parentFormIdAI)\n",
    "print(\"indicatorIdAI: \" + indicatorIdAI)\n",
    "print(\"indicatorIdsOsmosys: \" + str(indicatorIdsOsmosys))"
   ],
   "metadata": {
    "collapsed": false
   }
  },
  {
   "cell_type": "code",
   "execution_count": 22,
   "outputs": [
    {
     "name": "stdout",
     "output_type": "stream",
     "text": [
      "indicatorIdsOsmosys: [273 279 280 284 287]\n",
      "indicatorIdsOsmosysTranferencias: [273 287 280]\n",
      "indicatorIdsOsmosysServicios: [279 284]\n",
      "reported data Servicios: 1\n",
      "reported data transferencias: 5\n"
     ]
    }
   ],
   "source": [
    "\n",
    "## consulto los datos reportados\n",
    "print(\"indicatorIdsOsmosys: \" + str(indicatorIdsOsmosys))\n",
    "indicatorIdsOsmosysTranferencias = np.array([273, 287, 280])\n",
    "print(\"indicatorIdsOsmosysTranferencias: \" + str(indicatorIdsOsmosysTranferencias))\n",
    "indicatorIdsOsmosysServicios = np.setdiff1d(indicatorIdsOsmosys, indicatorIdsOsmosysTranferencias)\n",
    "print(\"indicatorIdsOsmosysServicios: \" + str(indicatorIdsOsmosysServicios))\n",
    "\n",
    "reportedDfServicios = osmosys.osmosys.getIesPartnerCantonsByIndicatorsIdsOsmosysAndMonth(\n",
    "    indicatorsIdsOmosys=indicatorIdsOsmosysServicios,\n",
    "    month=month, year=year)\n",
    "reportedDfTransferencias = osmosys.osmosys.getIesPartnerCantonsByIndicatorsIdsOsmosysAndMonth(\n",
    "    indicatorsIdsOmosys=indicatorIdsOsmosysTranferencias,\n",
    "    month=month, year=year)\n",
    "print('reported data Servicios: ' + str(reportedDfServicios.shape[0]))\n",
    "print('reported data transferencias: ' + str(reportedDfTransferencias.shape[0]))"
   ],
   "metadata": {
    "collapsed": false
   }
  },
  {
   "cell_type": "code",
   "execution_count": 23,
   "outputs": [],
   "source": [
    "## obtengo los parents de AI\n",
    "parentFormsIdsServicios = FormProcessing.getParentsIds(parentFormIdAI=parentFormIdAI, reportedDf=reportedDfServicios)\n",
    "parentFormsIdsTransferencias = FormProcessing.getParentsIds(parentFormIdAI=parentFormIdAI,\n",
    "                                                            reportedDf=reportedDfTransferencias)"
   ],
   "metadata": {
    "collapsed": false
   }
  },
  {
   "cell_type": "code",
   "execution_count": 24,
   "outputs": [
    {
     "name": "stdout",
     "output_type": "stream",
     "text": [
      "changes to charge: 4\n"
     ]
    }
   ],
   "source": [
    "## contruyo las estructuras de datos\n",
    "changesList = []\n",
    "newIds = []\n",
    "## los que  son servicios\n",
    "for index, row in parentFormsIdsServicios.iterrows():\n",
    "    # print(row)\n",
    "    orgAcron = row.acronym\n",
    "    cantonCode = row.canton_code\n",
    "    df = osmosys.osmosys.getRefValues(year=year, month=month, orgOsmosys=orgAcron,\n",
    "                                      indicatorsIdsOmosys=indicatorIdsOsmosysServicios, cantonCode=cantonCode)\n",
    "\n",
    "    poblacion_meta = [\"Refugiados/as y migrantes\", \"Comunidad de acogida\"]\n",
    "    IN5_01_RM_MM_N = int(df.loc[df['age_gender'] == 'ADULTAS'].iloc[0].value_a)\n",
    "    IN5_01_RM_HH_N = int(df.loc[df['age_gender'] == 'ADULTOS'].iloc[0].value_a)\n",
    "    IN5_01_RM_OTR_N = int(df.loc[df['age_gender'] == 'OTRO'].iloc[0].value_a)\n",
    "\n",
    "    dfCa = osmosys.osmosys.getCAValues(year=year, month=month, orgOsmosys=orgAcron,\n",
    "                                       indicatorsIdsOmosys=indicatorIdsOsmosysServicios, cantonCode=cantonCode)\n",
    "    IN5_01_CA_MM_N = int(dfCa.loc[df['age_gender'] == 'ADULTAS'].iloc[0].value_a)\n",
    "    IN5_01_CA_HH_N = int(dfCa.loc[df['age_gender'] == 'ADULTOS'].iloc[0].value_a)\n",
    "    IN5_01_CA_OTR_N = int(dfCa.loc[df['age_gender'] == 'OTRO'].iloc[0].value_a)\n",
    "\n",
    "    commentary = osmosys.osmosys.getCommentary(year=year, month=month, orgOsmosys=orgAcron,\n",
    "                                               indicatorsIdsOmosys=indicatorIdsOsmosysServicios).iloc[\n",
    "        0].value_a\n",
    "\n",
    "    dfDiversidad = osmosys.osmosys.getRefLgbtiDiscapacitadosValues(year=year, month=month, orgOsmosys=orgAcron,\n",
    "                                                                   indicatorsIdsOmosys=indicatorIdsOsmosysServicios,\n",
    "                                                                   cantonCode=cantonCode)\n",
    "    IN5_01_RM_LGBT_N = int(dfDiversidad.loc[(dfDiversidad['diversity_type'] == 'LGBTI') & (\n",
    "            dfDiversidad['country_of_origin'] == 'VENEZUELA')].iloc[0].value_a)\n",
    "\n",
    "    IN5_01_CA_LGBT_N = int(dfDiversidad.loc[(dfDiversidad['diversity_type'] == 'LGBTI') & (\n",
    "            dfDiversidad['country_of_origin'] == 'ECUADOR')].iloc[0].value_a)\n",
    "\n",
    "    subform = model.modelAI.SubFormIN5_01(\n",
    "        mes=month_number,\n",
    "        colltmgkykvhxgij6=indicatorIdAI,\n",
    "        rmrp='Si',\n",
    "        poblacion_meta=poblacion_meta,\n",
    "        poblacion_meta_freq='Primera vez',\n",
    "        modalidad_impl='cmo12q1kykwwosjka', ##'Provisión de servicio',\n",
    "        mecanismos=None,\n",
    "        transferencia=None,\n",
    "        usd_transfer=None,\n",
    "        semilla='Si',\n",
    "        IN5_01_RM_MM_N=IN5_01_RM_MM_N,\n",
    "        IN5_01_RM_HH_N=IN5_01_RM_HH_N,\n",
    "        IN5_01_RM_OTR_N=IN5_01_RM_OTR_N,\n",
    "        IN5_01_RM_LGBT_N=IN5_01_RM_LGBT_N,\n",
    "        IN5_01_CA_MM_N=IN5_01_CA_MM_N,\n",
    "        IN5_01_CA_HH_N=IN5_01_CA_HH_N,\n",
    "        IN5_01_CA_OTR_N=IN5_01_CA_OTR_N,\n",
    "        IN5_01_CA_LGBT_N=IN5_01_CA_LGBT_N,\n",
    "        IN5_01_CUAL = commentary\n",
    "    )\n",
    "    newId = generate_id()\n",
    "    newIds.append(newId)\n",
    "    record = model.modelAI.Record(formId=formIdAI, recordId=newId, parentRecordId=row['@id'], fields=subform)\n",
    "    changesList.append(record)\n",
    "## Los que son transferencias\n",
    "for index, row in parentFormsIdsTransferencias.iterrows():\n",
    "    # print(row)\n",
    "    orgAcron = row.acronym\n",
    "    cantonCode = row.canton_code\n",
    "    df = osmosys.osmosys.getRefValues(year=year, month=month, orgOsmosys=orgAcron,\n",
    "                                      indicatorsIdsOmosys=indicatorIdsOsmosysTranferencias, cantonCode=cantonCode)\n",
    "\n",
    "    poblacion_meta = [\"Refugiados/as y migrantes\", \"Comunidad de acogida\"]\n",
    "    IN5_01_RM_MM_N = int(df.loc[df['age_gender'] == 'ADULTAS'].iloc[0].value_a)\n",
    "    IN5_01_RM_HH_N = int(df.loc[df['age_gender'] == 'ADULTOS'].iloc[0].value_a)\n",
    "    IN5_01_RM_OTR_N = int(df.loc[df['age_gender'] == 'OTRO'].iloc[0].value_a)\n",
    "\n",
    "    dfCa = osmosys.osmosys.getCAValues(year=year, month=month, orgOsmosys=orgAcron,\n",
    "                                       indicatorsIdsOmosys=indicatorIdsOsmosysTranferencias, cantonCode=cantonCode)\n",
    "    IN5_01_CA_MM_N = int(dfCa.loc[df['age_gender'] == 'ADULTAS'].iloc[0].value_a)\n",
    "    IN5_01_CA_HH_N = int(dfCa.loc[df['age_gender'] == 'ADULTOS'].iloc[0].value_a)\n",
    "    IN5_01_CA_OTR_N = int(dfCa.loc[df['age_gender'] == 'OTRO'].iloc[0].value_a)\n",
    "\n",
    "    commentary = osmosys.osmosys.getCommentary(year=year, month=month, orgOsmosys=orgAcron,\n",
    "                                               indicatorsIdsOmosys=indicatorIdsOsmosysTranferencias).iloc[\n",
    "        0].value_a\n",
    "\n",
    "    dfDiversidad = osmosys.osmosys.getRefLgbtiDiscapacitadosValues(year=year, month=month, orgOsmosys=orgAcron,\n",
    "                                                                   indicatorsIdsOmosys=indicatorIdsOsmosysTranferencias,\n",
    "                                                                   cantonCode=cantonCode)\n",
    "    IN5_01_RM_LGBT_N = int(dfDiversidad.loc[(dfDiversidad['diversity_type'] == 'LGBTI') & (\n",
    "            dfDiversidad['country_of_origin'] == 'VENEZUELA')].iloc[0].value_a)\n",
    "\n",
    "    IN5_01_CA_LGBT_N = int(dfDiversidad.loc[(dfDiversidad['diversity_type'] == 'LGBTI') & (\n",
    "            dfDiversidad['country_of_origin'] == 'ECUADOR')].iloc[0].value_a)\n",
    "\n",
    "    usd_transfer = int(osmosys.osmosys.getCBIBudget(year=year, month=month, orgOsmosys=orgAcron,\n",
    "                                                    indicatorsIdsOmosys=indicatorIdsOsmosysTranferencias,\n",
    "                                                    cantonCode=cantonCode).iloc[0].budget)\n",
    "\n",
    "    subform = model.modelAI.SubFormIN5_01(\n",
    "        mes=month_number,\n",
    "        colltmgkykvhxgij6=indicatorIdAI,\n",
    "        rmrp='Si',\n",
    "        poblacion_meta=poblacion_meta,\n",
    "        poblacion_meta_freq='Primera vez',\n",
    "        modalidad_impl='c3jf6gykykwwemuk7', ##'Efectivo',\n",
    "        mecanismos='c3de3pmkym0dbino',## Entrega en ATM/Cajero automático\n",
    "        transferencia='Incondicional',\n",
    "        usd_transfer=usd_transfer,\n",
    "        semilla='Si',\n",
    "        IN5_01_RM_MM_N=IN5_01_RM_MM_N,\n",
    "        IN5_01_RM_HH_N=IN5_01_RM_HH_N,\n",
    "        IN5_01_RM_OTR_N=IN5_01_RM_OTR_N,\n",
    "        IN5_01_RM_LGBT_N=IN5_01_RM_LGBT_N,\n",
    "        IN5_01_CA_MM_N=IN5_01_CA_MM_N,\n",
    "        IN5_01_CA_HH_N=IN5_01_CA_HH_N,\n",
    "        IN5_01_CA_OTR_N=IN5_01_CA_OTR_N,\n",
    "        IN5_01_CA_LGBT_N=IN5_01_CA_LGBT_N,\n",
    "        IN5_01_CUAL = commentary\n",
    "    )\n",
    "    newId = generate_id()\n",
    "    newIds.append(newId)\n",
    "    record = model.modelAI.Record(formId=formIdAI, recordId=newId, parentRecordId=row['@id'], fields=subform)\n",
    "    changesList.append(record)\n",
    "print('changes to charge: ' + str(len(changesList)))"
   ],
   "metadata": {
    "collapsed": false
   }
  },
  {
   "cell_type": "code",
   "execution_count": 25,
   "outputs": [],
   "source": [
    "changes = model.modelAI.Changes(changesList)\n",
    "finalJson = json.dumps(changes, default=model.modelAI.default)\n"
   ],
   "metadata": {
    "collapsed": false
   }
  },
  {
   "cell_type": "code",
   "execution_count": 26,
   "outputs": [
    {
     "name": "stdout",
     "output_type": "stream",
     "text": [
      "<class 'list'>\n",
      " creado respaldo: 2023-ENERO\\data_IN5_01-[273 279 280 284 287].json\n"
     ]
    }
   ],
   "source": [
    "## creo respaldo\n",
    "osmosys.Backups.do_backup(indicatorCodeAI=indicatorCodeAI, indicatorIdsOsmosys= indicatorIdsOsmosys, month=month, year=year, changesList=changesList, finalJson=finalJson)"
   ],
   "metadata": {
    "collapsed": false
   }
  },
  {
   "cell_type": "code",
   "execution_count": 27,
   "outputs": [
    {
     "name": "stdout",
     "output_type": "stream",
     "text": [
      "--------------------------------------IN5_01-[273 279 280 284 287]------------------------------------------------------\n"
     ]
    }
   ],
   "source": [
    "## envio a AI\n",
    "if (test):\n",
    "    print(\n",
    "        '--------------------------------------' + indicatorCodeAI + '-' + str(\n",
    "            indicatorIdsOsmosys) + '------------------------------------------------------')\n",
    "else:\n",
    "    try:\n",
    "        if len(changesList) > 0:\n",
    "            print('se envia a AI')\n",
    "            client = Client(token=osmosys.osmosys.getToken(), base_url='https://www.activityinfo.org/resources')\n",
    "            client.post_resource(path='update', body=finalJson)\n",
    "            print(\n",
    "                '--------------------------------------' + indicatorCodeAI + '-' + str(\n",
    "                    indicatorIdsOsmosys) + '------------------------------------------------------')\n",
    "        else:\n",
    "            print('nada que enviar a AI')\n",
    "    except HTTPError as e:\n",
    "        code = e.response.status_code\n",
    "        print('error:')\n",
    "        print(code)\n",
    "\n",
    "        print(e)"
   ],
   "metadata": {
    "collapsed": false
   }
  },
  {
   "cell_type": "code",
   "execution_count": 87,
   "outputs": [],
   "source": [],
   "metadata": {
    "collapsed": false
   }
  }
 ],
 "metadata": {
  "kernelspec": {
   "display_name": "Python 3",
   "language": "python",
   "name": "python3"
  },
  "language_info": {
   "codemirror_mode": {
    "name": "ipython",
    "version": 2
   },
   "file_extension": ".py",
   "mimetype": "text/x-python",
   "name": "python",
   "nbconvert_exporter": "python",
   "pygments_lexer": "ipython2",
   "version": "2.7.6"
  }
 },
 "nbformat": 4,
 "nbformat_minor": 0
}
