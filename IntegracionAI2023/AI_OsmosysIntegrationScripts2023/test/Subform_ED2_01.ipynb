{
 "cells": [
  {
   "cell_type": "code",
   "execution_count": 76,
   "metadata": {
    "collapsed": true
   },
   "outputs": [
    {
     "data": {
      "text/plain": "<module 'model.modelAI' from 'D:\\\\proyectos\\\\OSMOSYS_2023\\\\IntegracionAI2023\\\\AI_OsmosysIntegrationScripts2023\\\\model\\\\modelAI.py'>"
     },
     "execution_count": 76,
     "metadata": {},
     "output_type": "execute_result"
    }
   ],
   "source": [
    "import pandas as pd\n",
    "\n",
    "import osmosys.osmosys\n",
    "import activityinfo\n",
    "from activityinfo import Client\n",
    "from activityinfo import FormProcessing\n",
    "import importlib\n",
    "import model.modelAI\n",
    "from activityinfo.id import generate_id\n",
    "import json\n",
    "from requests.exceptions import HTTPError\n",
    "import os.path\n",
    "\n",
    "importlib.reload(osmosys.osmosys)\n",
    "importlib.reload(activityinfo.FormProcessing)\n",
    "importlib.reload(model.modelAI)"
   ]
  },
  {
   "cell_type": "code",
   "execution_count": 77,
   "outputs": [
    {
     "name": "stdout",
     "output_type": "stream",
     "text": [
      "--------------------------------------ED2_01------------------------------------------------------\n"
     ]
    }
   ],
   "source": [
    "## parameters\n",
    "indicatorCodeAI = 'ED2_01'\n",
    "month = 'ENERO'\n",
    "month_number = '2023-01'\n",
    "year = 2023\n",
    "test = True\n",
    "print(\n",
    "    '--------------------------------------' + indicatorCodeAI + '------------------------------------------------------')\n"
   ],
   "metadata": {
    "collapsed": false
   }
  },
  {
   "cell_type": "code",
   "execution_count": 78,
   "outputs": [
    {
     "name": "stdout",
     "output_type": "stream",
     "text": [
      "Index(['folder', 'form', 'form_id', 'parent_form_id', 'parent_form',\n",
      "       'actividad', 'indicador_ai_id', 'indicador_ai_codigo', 'indicador_ai',\n",
      "       'osmosys_indicator_id', 'osmosys_indicator_code', 'osmosys_indicator',\n",
      "       'osmosys_indicator_category'],\n",
      "      dtype='object')\n",
      "formIdAI: cdmp8ozldnik44oig0\n",
      "parentFormIdAI: cpfsjn6ldnik44oig2\n",
      "indicatorIdAI: cs9q1bnlcza9pfs3n\n",
      "indicatorIdsOsmosys: [210 217]\n",
      "osmosys_indicator_code: ['10L02' '10L09']\n"
     ]
    }
   ],
   "source": [
    "# busco matchs\n",
    "subformDf = osmosys.osmosys.getMatchSubforms(indicatorCodeAI)\n",
    "print(subformDf.columns)\n",
    "indicatorIdsOsmosys = subformDf.osmosys_indicator_id.unique()\n",
    "subformSeries = subformDf.iloc[0]\n",
    "formIdAI = subformSeries.form_id\n",
    "parentFormIdAI = subformSeries.parent_form_id\n",
    "indicatorIdAI = subformSeries.indicador_ai_id\n",
    "osmosys_indicator_code = subformDf.osmosys_indicator_code.unique()\n",
    "print(\"formIdAI: \" + formIdAI)\n",
    "print(\"parentFormIdAI: \" + parentFormIdAI)\n",
    "print(\"indicatorIdAI: \" + indicatorIdAI)\n",
    "print(\"indicatorIdsOsmosys: \" + str(indicatorIdsOsmosys))\n",
    "print(\"osmosys_indicator_code: \" + str(osmosys_indicator_code))"
   ],
   "metadata": {
    "collapsed": false
   }
  },
  {
   "cell_type": "code",
   "execution_count": 79,
   "outputs": [
    {
     "name": "stdout",
     "output_type": "stream",
     "text": [
      "indicatorIdsOsmosys: [210 217]\n",
      "reported data: [210]: 1\n",
      "reported data: [217]: 0\n"
     ]
    }
   ],
   "source": [
    "print(\"indicatorIdsOsmosys: \" + str(indicatorIdsOsmosys))\n",
    "## consulto los datos reportados, este indicador tiene 2 diferentes modos de servicio, por lo que tendra diferentes condiciones\n",
    "## 210 10L02\tNo. de niños, niñas y adolescentes que reciben acompañamiento individual y acceden a la educación\n",
    "## 217 10L09\tNo. de personas por las cuales ACNUR trabaja que reciben transferencias monetarias\n",
    "indicatorIdsOsmosys_10L02 = [210]\n",
    "indicatorIdsOsmosys_10L09 = [217]\n",
    "reportedDf_10L02 = osmosys.osmosys.getIesPartnerCantonsByIndicatorsIdsOsmosysAndMonth(\n",
    "    indicatorsIdsOmosys=indicatorIdsOsmosys_10L02,\n",
    "    month=month, year=year)\n",
    "reportedDf_10L09 = osmosys.osmosys.getIesPartnerCantonsByIndicatorsIdsOsmosysAndMonth(\n",
    "    indicatorsIdsOmosys=indicatorIdsOsmosys_10L09,\n",
    "    month=month, year=year)\n",
    "print('reported data: ' + str(indicatorIdsOsmosys_10L02) + ': ' + str(reportedDf_10L02.shape[0]))\n",
    "print('reported data: ' + str(indicatorIdsOsmosys_10L09) + ': ' + str(reportedDf_10L09.shape[0]))\n"
   ],
   "metadata": {
    "collapsed": false
   }
  },
  {
   "cell_type": "code",
   "execution_count": 80,
   "outputs": [],
   "source": [
    "## obtengo los parents de AI\n",
    "parentFormsIds_10L02 = FormProcessing.getParentsIds(parentFormIdAI=parentFormIdAI, reportedDf=reportedDf_10L02)\n",
    "parentFormsIds_10L09 = FormProcessing.getParentsIds(parentFormIdAI=parentFormIdAI, reportedDf=reportedDf_10L09)\n"
   ],
   "metadata": {
    "collapsed": false
   }
  },
  {
   "cell_type": "code",
   "execution_count": 85,
   "outputs": [
    {
     "name": "stdout",
     "output_type": "stream",
     "text": [
      "changes to charge: 1\n"
     ]
    }
   ],
   "source": [
    "## contruyo las estructuras de datos\n",
    "\n",
    "changesList = []\n",
    "newIds = []\n",
    "\n",
    "## 210 10L02\tNo. de niños, niñas y adolescentes que reciben acompañamiento individual y acceden a la educación\n",
    "for index, row in parentFormsIds_10L02.iterrows():\n",
    "    # print(row)\n",
    "    orgAcron = row.acronym\n",
    "    cantonCode = row.canton_code\n",
    "    df = osmosys.osmosys.getRefValues(year=year, month=month, orgOsmosys=orgAcron,\n",
    "                                      indicatorsIdsOmosys=indicatorIdsOsmosys_10L02, cantonCode=cantonCode)\n",
    "\n",
    "    poblacion_meta = [\"Refugiados/as y migrantes\", \"Comunidad de acogida\"]\n",
    "\n",
    "    ED2_01_RM_NA = int(df.loc[df['age_gender'] == 'NINAS'].iloc[0].value_a)\n",
    "    ED2_01_RM_NN = int(df.loc[df['age_gender'] == 'NINOS'].iloc[0].value_a)\n",
    "    ED2_01_RM_OTR = 0\n",
    "    ED2_01_RM_ADM = 0\n",
    "    ED2_01_RM_ADH = 0\n",
    "    ED2_01_RM_ADOTR = 0\n",
    "    ED2_01_RM_MM = int(df.loc[df['age_gender'] == 'ADULTAS'].iloc[0].value_a)\n",
    "    ED2_01_RM_HH = int(df.loc[df['age_gender'] == 'ADULTOS'].iloc[0].value_a)\n",
    "\n",
    "    dfCa = osmosys.osmosys.getCAValues(year=year, month=month, orgOsmosys=orgAcron,\n",
    "                                       indicatorsIdsOmosys=indicatorIdsOsmosys_10L02, cantonCode=cantonCode)\n",
    "\n",
    "\n",
    "    ED2_01_CA_NA = int(dfCa.loc[df['age_gender'] == 'NINAS'].iloc[0].value_a)\n",
    "    ED2_01_CA_NN = int(dfCa.loc[df['age_gender'] == 'NINOS'].iloc[0].value_a)\n",
    "    ED2_01_CA_OTR = 0\n",
    "    ED2_01_CA_ADM = 0\n",
    "    ED2_01_CA_ADH = 0\n",
    "    ED2_01_CA_ADOTR = 0\n",
    "    ED2_01_CA_MM = int(dfCa.loc[df['age_gender'] == 'ADULTAS'].iloc[0].value_a)\n",
    "    ED2_01_CA_HH = int(dfCa.loc[df['age_gender'] == 'ADULTOS'].iloc[0].value_a)\n",
    "\n",
    "    ED2_01_RM_DS = 0\n",
    "\n",
    "    ED2_01_CA_DS = 0\n",
    "    commentary = osmosys.osmosys.getCommentary(year=year, month=month, orgOsmosys=orgAcron,\n",
    "                                               indicatorsIdsOmosys=indicatorIdsOsmosys_10L02).iloc[\n",
    "        0].value_a\n",
    "\n",
    "    subform = model.modelAI.SubFormED2_01(\n",
    "        mes=month_number,\n",
    "        colltmgkykvhxgij6=indicatorIdAI,\n",
    "        rmrp='Si',\n",
    "        poblacion_meta=poblacion_meta,\n",
    "        modalidad_impl= 'cmo12q1kykwwosjka', ##'Provisión de servicio',\n",
    "        mecanismos=None,\n",
    "        transferencia=None,\n",
    "        usd_transfer=None,\n",
    "        ED2_01_RM_NA=ED2_01_RM_NA,\n",
    "        ED2_01_RM_NN=ED2_01_RM_NN,\n",
    "        ED2_01_RM_OTR=ED2_01_RM_OTR,\n",
    "        ED2_01_RM_ADM=ED2_01_RM_ADM,\n",
    "        ED2_01_RM_ADH=ED2_01_RM_ADH,\n",
    "        ED2_01_RM_ADOTR=ED2_01_RM_ADOTR,\n",
    "        ED2_01_RM_MM=ED2_01_RM_MM,\n",
    "        ED2_01_RM_HH=ED2_01_RM_HH,\n",
    "        ED2_01_RM_DS=ED2_01_RM_DS,\n",
    "        ED2_01_CA_NA=ED2_01_CA_NA,\n",
    "        ED2_01_CA_NN=ED2_01_CA_NN,\n",
    "        ED2_01_CA_OTR=ED2_01_CA_OTR,\n",
    "        ED2_01_CA_ADM=ED2_01_CA_ADM,\n",
    "        ED2_01_CA_ADH=ED2_01_CA_ADH,\n",
    "        ED2_01_CA_ADOTR=ED2_01_CA_ADOTR,\n",
    "        ED2_01_CA_MM=ED2_01_CA_MM,\n",
    "        ED2_01_CA_HH=ED2_01_CA_HH,\n",
    "        ED2_01_CA_DS=ED2_01_CA_DS,\n",
    "        ED2_01_CUAL=commentary,\n",
    "\n",
    "    )\n",
    "    newId = generate_id()\n",
    "    newIds.append(newId)\n",
    "    record = model.modelAI.Record(formId=formIdAI, recordId=newId, parentRecordId=row['@id'], fields=subform)\n",
    "    changesList.append(record)\n",
    "## 217\t10L09\tNo. de personas por las cuales ACNUR trabaja que reciben transferencias monetarias\tEducación\n",
    "for index, row in parentFormsIds_10L09.iterrows():\n",
    "    # print(row)\n",
    "    orgAcron = row.acronym\n",
    "    cantonCode = row.canton_code\n",
    "    df = osmosys.osmosys.getRefValues(year=year, month=month, orgOsmosys=orgAcron,\n",
    "                                      indicatorsIdsOmosys=indicatorIdsOsmosys_10L02, cantonCode=cantonCode)\n",
    "\n",
    "    poblacion_meta = [\"Refugiados/as y migrantes\", \"Comunidad de acogida\"]\n",
    "\n",
    "    ED2_01_RM_NA = int(df.loc[df['age_gender'] == 'NINAS'].iloc[0].value_a)\n",
    "    ED2_01_RM_NN = int(df.loc[df['age_gender'] == 'NINOS'].iloc[0].value_a)\n",
    "    ED2_01_RM_OTR = 0\n",
    "    ED2_01_RM_ADM = 0\n",
    "    ED2_01_RM_ADH = 0\n",
    "    ED2_01_RM_ADOTR = 0\n",
    "    ED2_01_RM_MM = int(df.loc[df['age_gender'] == 'ADULTAS'].iloc[0].value_a)\n",
    "    ED2_01_RM_HH = int(df.loc[df['age_gender'] == 'ADULTOS'].iloc[0].value_a)\n",
    "\n",
    "    dfCa = osmosys.osmosys.getCAValues(year=year, month=month, orgOsmosys=orgAcron,\n",
    "                                       indicatorsIdsOmosys=indicatorIdsOsmosys_10L02, cantonCode=cantonCode)\n",
    "\n",
    "\n",
    "    ED2_01_CA_NA = int(dfCa.loc[df['age_gender'] == 'NINAS'].iloc[0].value_a)\n",
    "    ED2_01_CA_NN = int(dfCa.loc[df['age_gender'] == 'NINOS'].iloc[0].value_a)\n",
    "    ED2_01_CA_OTR = 0\n",
    "    ED2_01_CA_ADM = 0\n",
    "    ED2_01_CA_ADH = 0\n",
    "    ED2_01_CA_ADOTR = 0\n",
    "    ED2_01_CA_MM = int(dfCa.loc[df['age_gender'] == 'ADULTAS'].iloc[0].value_a)\n",
    "    ED2_01_CA_HH = int(dfCa.loc[df['age_gender'] == 'ADULTOS'].iloc[0].value_a)\n",
    "\n",
    "    ED2_01_RM_DS = 0\n",
    "\n",
    "    ED2_01_CA_DS = 0\n",
    "    commentary = osmosys.osmosys.getCommentary(year=year, month=month, orgOsmosys=orgAcron,\n",
    "                                               indicatorsIdsOmosys=indicatorIdsOsmosys_10L02).iloc[\n",
    "        0].value_a\n",
    "    usd_transfer = int(osmosys.osmosys.getCBIBudget(year=year, month=month, orgOsmosys=orgAcron,\n",
    "                                                    indicatorsIdsOmosys=indicatorIdsOsmosys,\n",
    "                                                    cantonCode=cantonCode).iloc[0].budget)\n",
    "    subform = model.modelAI.SubFormED2_01(\n",
    "        mes=month_number,\n",
    "        colltmgkykvhxgij6=indicatorIdAI,\n",
    "        rmrp='Si',\n",
    "        poblacion_meta=poblacion_meta,\n",
    "        modalidad_impl='c3jf6gykykwwemuk7', ## 'Efectivo',\n",
    "        mecanismos= 'c3de3pmkym0dbino', ##'Entrega en ATM/Cajero automático',\n",
    "        transferencia='Incondicional',\n",
    "        usd_transfer=usd_transfer,\n",
    "        ED2_01_RM_NA=ED2_01_RM_NA,\n",
    "        ED2_01_RM_NN=ED2_01_RM_NN,\n",
    "        ED2_01_RM_OTR=ED2_01_RM_OTR,\n",
    "        ED2_01_RM_ADM=ED2_01_RM_ADM,\n",
    "        ED2_01_RM_ADH=ED2_01_RM_ADH,\n",
    "        ED2_01_RM_ADOTR=ED2_01_RM_ADOTR,\n",
    "        ED2_01_RM_MM=ED2_01_RM_MM,\n",
    "        ED2_01_RM_HH=ED2_01_RM_HH,\n",
    "        ED2_01_RM_DS=ED2_01_RM_DS,\n",
    "        ED2_01_CA_NA=ED2_01_CA_NA,\n",
    "        ED2_01_CA_NN=ED2_01_CA_NN,\n",
    "        ED2_01_CA_OTR=ED2_01_CA_OTR,\n",
    "        ED2_01_CA_ADM=ED2_01_CA_ADM,\n",
    "        ED2_01_CA_ADH=ED2_01_CA_ADH,\n",
    "        ED2_01_CA_ADOTR=ED2_01_CA_ADOTR,\n",
    "        ED2_01_CA_MM=ED2_01_CA_MM,\n",
    "        ED2_01_CA_HH=ED2_01_CA_HH,\n",
    "        ED2_01_CA_DS=ED2_01_CA_DS,\n",
    "        ED2_01_CUAL=commentary,\n",
    "\n",
    "    )\n",
    "    newId = generate_id()\n",
    "    newIds.append(newId)\n",
    "    record = model.modelAI.Record(formId=formIdAI, recordId=newId, parentRecordId=row['@id'], fields=subform)\n",
    "    changesList.append(record)\n",
    "\n",
    "print('changes to charge: ' + str(len(changesList)))"
   ],
   "metadata": {
    "collapsed": false
   }
  },
  {
   "cell_type": "code",
   "execution_count": 86,
   "outputs": [
    {
     "name": "stdout",
     "output_type": "stream",
     "text": [
      "{\"changes\": [{\"formId\": \"cdmp8ozldnik44oig0\", \"recordId\": \"cle4minym0003ocmni4t03epk\", \"parentRecordId\": \"cle2zs2dt00fpw0mnrz6st0k9\", \"fields\": {\"mes\": \"2023-01\", \"colltmgkykvhxgij6\": \"cs9q1bnlcza9pfs3n\", \"rmrp\": \"Si\", \"poblacion_meta\": [\"Refugiados/as y migrantes\", \"Comunidad de acogida\"], \"modalidad_impl\": \"Provisi\\u00f3n de servicio\", \"mecanismos\": null, \"transferencia\": null, \"usd_transfer\": null, \"ED2_01_RM_NA\": 23, \"ED2_01_RM_NN\": 10, \"ED2_01_RM_OTR\": 0, \"ED2_01_RM_ADM\": 0, \"ED2_01_RM_ADH\": 0, \"ED2_01_RM_ADOTR\": 0, \"ED2_01_RM_MM\": 0, \"ED2_01_RM_HH\": 0, \"ED2_01_RM_DS\": 0, \"ED2_01_CA_NA\": 0, \"ED2_01_CA_NN\": 0, \"ED2_01_CA_OTR\": 0, \"ED2_01_CA_ADM\": 0, \"ED2_01_CA_ADH\": 0, \"ED2_01_CA_ADOTR\": 0, \"ED2_01_CA_MM\": 0, \"ED2_01_CA_HH\": 0, \"ED2_01_CA_DS\": 0, \"ED2_01_CUAL\": \"EN LAS OFICINAS DE HIAS SE REALIZA EL PROCESO DE INSERCI\\u00d3N ESCOLAR A TRAV\\u00c9S DE LA MATRICULA EXTRAORDINARIA Y DEL PROCESO DE APRESTAMIENTO\"}}]}\n"
     ]
    }
   ],
   "source": [
    "## creo respaldo\n",
    "changes = model.modelAI.Changes(changesList)\n",
    "finalJson = json.dumps(changes, default=model.modelAI.default)\n",
    "print(finalJson)"
   ],
   "metadata": {
    "collapsed": false
   }
  },
  {
   "cell_type": "code",
   "execution_count": 83,
   "outputs": [
    {
     "name": "stdout",
     "output_type": "stream",
     "text": [
      " creado respaldo: ENERO\\data_ED2_01-[210 217].json\n"
     ]
    }
   ],
   "source": [
    "#open text file\n",
    "try:\n",
    "    os.mkdir(month)\n",
    "except Exception:\n",
    "    pass\n",
    "text_file = open(os.path.join(month, \"data_\" + indicatorCodeAI + '-' + str(indicatorIdsOsmosys) + \".json\"), \"w\")\n",
    "#write string to file\n",
    "n = text_file.write(finalJson)\n",
    "\n",
    "#close file\n",
    "text_file.close()\n",
    "print(\" creado respaldo: \" + text_file.name)\n",
    "newIdsDict = {\"newIds\": newIds}\n",
    "newIdsDf = pd.DataFrame(newIdsDict)\n",
    "newIdsDf.to_csv(os.path.join(month, \"new_ids_\" + indicatorCodeAI + \".csv\"))"
   ],
   "metadata": {
    "collapsed": false
   }
  },
  {
   "cell_type": "code",
   "execution_count": 84,
   "outputs": [
    {
     "name": "stdout",
     "output_type": "stream",
     "text": [
      "se envia a AI\n",
      "--------------------------------------ED2_01-[210 217]------------------------------------------------------\n"
     ]
    }
   ],
   "source": [
    "## envio a AI\n",
    "if (False):\n",
    "    print(\n",
    "        '--------------------------------------' + indicatorCodeAI + '-' + str(\n",
    "            indicatorIdsOsmosys) + '------------------------------------------------------')\n",
    "else:\n",
    "    try:\n",
    "        if len(changesList) > 0:\n",
    "            print('se envia a AI')\n",
    "            client = Client(token=osmosys.osmosys.getToken(), base_url='https://www.activityinfo.org/resources')\n",
    "            client.post_resource(path='update', body=finalJson)\n",
    "            print(\n",
    "                '--------------------------------------' + indicatorCodeAI + '-' + str(\n",
    "                    indicatorIdsOsmosys) + '------------------------------------------------------')\n",
    "        else:\n",
    "            print('nada que enviar a AI')\n",
    "    except HTTPError as e:\n",
    "        code = e.response.status_code\n",
    "        print('error:')\n",
    "        print(code)\n",
    "\n",
    "        print(e)"
   ],
   "metadata": {
    "collapsed": false
   }
  },
  {
   "cell_type": "code",
   "execution_count": null,
   "outputs": [],
   "source": [],
   "metadata": {
    "collapsed": false
   }
  }
 ],
 "metadata": {
  "kernelspec": {
   "display_name": "Python 3",
   "language": "python",
   "name": "python3"
  },
  "language_info": {
   "codemirror_mode": {
    "name": "ipython",
    "version": 2
   },
   "file_extension": ".py",
   "mimetype": "text/x-python",
   "name": "python",
   "nbconvert_exporter": "python",
   "pygments_lexer": "ipython2",
   "version": "2.7.6"
  }
 },
 "nbformat": 4,
 "nbformat_minor": 0
}
