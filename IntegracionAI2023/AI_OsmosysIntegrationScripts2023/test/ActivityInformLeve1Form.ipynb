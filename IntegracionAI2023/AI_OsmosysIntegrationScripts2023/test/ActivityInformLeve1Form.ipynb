{
 "cells": [
  {
   "cell_type": "code",
   "execution_count": 1,
   "metadata": {
    "collapsed": true
   },
   "outputs": [
    {
     "data": {
      "text/plain": "<module 'activityinfo' from 'D:\\\\proyectos\\\\OSMOSYS_2023\\\\IntegracionAI2023\\\\AI_OsmosysIntegrationScripts2023\\\\activityinfo\\\\__init__.py'>"
     },
     "execution_count": 1,
     "metadata": {},
     "output_type": "execute_result"
    }
   ],
   "source": [
    "## imports\n",
    "import importlib\n",
    "import osmosys.osmosys\n",
    "import osmosys.Backups\n",
    "import activityinfo\n",
    "import pandas as pd\n",
    "import model.modelAI\n",
    "from IPython.display import display\n",
    "import json\n",
    "import os.path\n",
    "from urllib.error import HTTPError\n",
    "\n",
    "importlib.reload(osmosys.osmosys)\n",
    "importlib.reload(activityinfo)"
   ]
  },
  {
   "cell_type": "code",
   "execution_count": 35,
   "outputs": [],
   "source": [],
   "metadata": {
    "collapsed": false
   }
  },
  {
   "cell_type": "code",
   "execution_count": 2,
   "outputs": [
    {
     "name": "stdout",
     "output_type": "stream",
     "text": [
      "<class 'pandas.core.frame.DataFrame'>\n",
      "RangeIndex: 260 entries, 0 to 259\n",
      "Data columns (total 10 columns):\n",
      " #   Column              Non-Null Count  Dtype \n",
      "---  ------              --------------  ----- \n",
      " 0   folder              260 non-null    object\n",
      " 1   form                260 non-null    object\n",
      " 2   form_id             260 non-null    object\n",
      " 3   parent_form         260 non-null    object\n",
      " 4   parent_form_id      260 non-null    object\n",
      " 5   org_acron           260 non-null    object\n",
      " 6   id_registro_imp     259 non-null    object\n",
      " 7   osmosys_code        260 non-null    object\n",
      " 8   canton              260 non-null    object\n",
      " 9   canton_id_registro  260 non-null    object\n",
      "dtypes: object(10)\n",
      "memory usage: 20.4+ KB\n",
      "None\n"
     ]
    }
   ],
   "source": [
    "month = 'ENERO'\n",
    "osmosysData = osmosys.osmosys.get_ai_form_level_1()\n",
    "print(osmosysData.info())"
   ],
   "metadata": {
    "collapsed": false
   }
  },
  {
   "cell_type": "code",
   "execution_count": 5,
   "outputs": [
    {
     "name": "stdout",
     "output_type": "stream",
     "text": [
      "['ch4yhkpldnik44oigh' 'cpfsjn6ldnik44oig2' 'cg7ke70ldnik44oih1'\n",
      " 'c235tqcldnik44oigt' 'crphcl4ldnik44oig8' 'cbky5k2ldnik44oige'\n",
      " 'cmmtdkuldnik44oigw' 'cab54y8ldnik44oih3' 'cgdo4q4ldnik44oig6']\n",
      "<class 'numpy.ndarray'>\n",
      "parent_form                               parent_form_id    \n",
      "Alojamiento                               cgdo4q4ldnik44oig6    21\n",
      "Comunicación                              ch4yhkpldnik44oigh     5\n",
      "Educación                                 cpfsjn6ldnik44oig2    35\n",
      "Integración                               cg7ke70ldnik44oih1    48\n",
      "Protección VBG                            cmmtdkuldnik44oigw    30\n",
      "Protección a la infancia                  crphcl4ldnik44oig8    31\n",
      "Protección general                        cbky5k2ldnik44oige    68\n",
      "Salud                                     cab54y8ldnik44oih3    20\n",
      "Transferencias monetarias multipropósito  c235tqcldnik44oigt     2\n",
      "dtype: int64\n"
     ]
    }
   ],
   "source": [
    "# get all unique form ids\n",
    "#osmosysData.form_id.value_counts()\n",
    "parentFormsIds = osmosysData.parent_form_id.unique()\n",
    "print(parentFormsIds)\n",
    "print(type(parentFormsIds))\n",
    "print(osmosysData.groupby(['parent_form', 'parent_form_id']).size())"
   ],
   "metadata": {
    "collapsed": false
   }
  },
  {
   "cell_type": "code",
   "execution_count": 6,
   "outputs": [
    {
     "name": "stdout",
     "output_type": "stream",
     "text": [
      "ch4yhkpldnik44oigh\n",
      "(6, 33)\n",
      "(6, 33)\n",
      "cpfsjn6ldnik44oig2\n",
      "(36, 33)\n",
      "(42, 34)\n",
      "cg7ke70ldnik44oih1\n",
      "(49, 33)\n",
      "(91, 35)\n",
      "c235tqcldnik44oigt\n",
      "(6, 33)\n",
      "(97, 36)\n",
      "crphcl4ldnik44oig8\n",
      "(32, 33)\n",
      "(129, 37)\n",
      "cbky5k2ldnik44oige\n",
      "(68, 33)\n",
      "(197, 38)\n",
      "cmmtdkuldnik44oigw\n",
      "(31, 33)\n",
      "(228, 39)\n",
      "cab54y8ldnik44oih3\n",
      "(35, 33)\n",
      "(263, 40)\n",
      "cgdo4q4ldnik44oig6\n",
      "(27, 33)\n",
      "(290, 41)\n"
     ]
    }
   ],
   "source": [
    "importlib.reload(osmosys.osmosys)\n",
    "aiToken = osmosys.osmosys.getToken()\n",
    "formTotalDf = None\n",
    "for parentFormsId in parentFormsIds:\n",
    "    print(parentFormsId)\n",
    "    client = activityinfo.Client(token=aiToken, base_url='https://www.activityinfo.org/resources')\n",
    "    try:\n",
    "        dbsJson = client.get_resource('form/{parentFormsId}/query'.format(parentFormsId=parentFormsId))\n",
    "        dbsDf = pd.DataFrame.from_records(dbsJson)\n",
    "        dbsDf['parent_form_id'] = parentFormsId\n",
    "        print(dbsDf.shape)\n",
    "        if formTotalDf is None:\n",
    "            formTotalDf = dbsDf\n",
    "        else:\n",
    "            formTotalDf = pd.concat([formTotalDf, dbsDf], axis=0)\n",
    "    except Exception:\n",
    "        print(\"Oops!  No existe el registro\")\n",
    "        print(Exception)\n",
    "    print(formTotalDf.shape)"
   ],
   "metadata": {
    "collapsed": false
   }
  },
  {
   "cell_type": "code",
   "execution_count": 51,
   "outputs": [
    {
     "name": "stdout",
     "output_type": "stream",
     "text": [
      "formTotalDf: (2, 34)\n",
      "formPartnersDf: (1, 34)\n"
     ]
    }
   ],
   "source": [
    "# ordeno para quitar duplicados\n",
    "# filtro implementaciòn indirecta y doante acnur\n",
    "print('formTotalDf: ' + str(formTotalDf.shape))\n",
    "formPartnersDf = formTotalDf.loc[\n",
    "    (formTotalDf['implementacion'] == 'Indirecta') & (formTotalDf['donante.@id'] == 'chgxs46l02wy5i81e')]\n",
    "print('formPartnersDf: ' + str(formPartnersDf.shape))"
   ],
   "metadata": {
    "collapsed": false
   }
  },
  {
   "cell_type": "code",
   "execution_count": 52,
   "outputs": [
    {
     "name": "stdout",
     "output_type": "stream",
     "text": [
      "formPartnersDfClean: (1, 34)\n"
     ]
    }
   ],
   "source": [
    "formPartnersDfClean = formPartnersDf.sort_values('@lastEditTime', ascending=False).drop_duplicates(\n",
    "    subset=['implementador.@id', 'ubicacion.@id', 'parent_form_id'])\n",
    "print('formPartnersDfClean: ' + str(formPartnersDfClean.shape))\n",
    "formPartnersDfClean = formPartnersDfClean[\n",
    "    [\"@id\", \"@lastEditTime\", \"implementacion\", \"donante.@id\", \"donante.org_nombre\", \"donante.donante\",\n",
    "     \"implementador.@id\",\n",
    "     \"implementador.org_nombre\", \"implementador.donante\", \"ubicacion.@id\", \"ubicacion.name\", \"ubicacion.code\",\n",
    "     \"ubicacion.parent.name\", \"ubicacion.parent.code\", \"codigo_referencia\", \"parent_form_id\"\n",
    "     ]]"
   ],
   "metadata": {
    "collapsed": false
   }
  },
  {
   "cell_type": "code",
   "execution_count": 53,
   "outputs": [
    {
     "name": "stdout",
     "output_type": "stream",
     "text": [
      "Forms to create: 273\n"
     ]
    }
   ],
   "source": [
    "## hago merge para buscar cuales falta por crear\n",
    "mergeDf = pd.merge(osmosysData, formPartnersDfClean, how='left',\n",
    "                   left_on=['parent_form_id', 'id_registro_imp', 'canton_id_registro'],\n",
    "                   right_on=['parent_form_id', 'implementador.@id', 'ubicacion.@id'])\n",
    "formsToCreate = mergeDf[mergeDf['@id'].isna()]\n",
    "numberOfFormTocreate = formsToCreate.shape[0]\n",
    "print('Forms to create: ' + str(numberOfFormTocreate))"
   ],
   "metadata": {
    "collapsed": false
   }
  },
  {
   "cell_type": "code",
   "execution_count": 57,
   "outputs": [],
   "source": [
    "importlib.reload(model.modelAI)\n",
    "\n",
    "## creo las estructuras de datos\n",
    "changesList = []\n",
    "newIds = []\n",
    "for index, row in formsToCreate.iterrows():\n",
    "    form = model.modelAI.Form(cqes12jkykah3la9='40038', org_user='cc9fjcdkyyk18oj6', implementacion='c89eykqkykc8oig1b',\n",
    "                              donante='chgxs46l02wy5i81e',\n",
    "                              implementador=row['id_registro_imp'],\n",
    "                              ubicacion=row['canton_id_registro'])\n",
    "    newId = activityinfo.generate_id()\n",
    "    newIds.append(newId)\n",
    "    record = model.modelAI.Record(row['parent_form_id'], newId, None, form)\n",
    "    changesList.append(record)\n",
    "\n",
    "changes = model.modelAI.Changes(changesList)\n",
    "finalJson = json.dumps(changes, default=model.modelAI.default)"
   ],
   "metadata": {
    "collapsed": false
   }
  },
  {
   "cell_type": "code",
   "execution_count": 59,
   "outputs": [
    {
     "name": "stdout",
     "output_type": "stream",
     "text": [
      "<class 'list'>\n",
      " creado respaldo: 2023-ENERO\\data_form1_canton_org-.json\n"
     ]
    }
   ],
   "source": [
    "osmosys.Backups.do_backup('form1_canton_org','',month,2023, changesList, finalJson)"
   ],
   "metadata": {
    "collapsed": false
   }
  },
  {
   "cell_type": "code",
   "execution_count": 60,
   "outputs": [
    {
     "name": "stdout",
     "output_type": "stream",
     "text": [
      "Enviado a AI\n"
     ]
    }
   ],
   "source": [
    "## send to AI\n",
    "try:\n",
    "    if (numberOfFormTocreate > 0):\n",
    "        client.post_resource('update', body=finalJson)\n",
    "        print(\"Enviado a AI\")\n",
    "    else:\n",
    "        print(\"nada por crear en AI\")\n",
    "except HTTPError as e:\n",
    "    code = e.response.status_code\n",
    "    print('error:')\n",
    "    print(code)\n",
    "    print(e)"
   ],
   "metadata": {
    "collapsed": false
   }
  }
 ],
 "metadata": {
  "kernelspec": {
   "display_name": "Python 3",
   "language": "python",
   "name": "python3"
  },
  "language_info": {
   "codemirror_mode": {
    "name": "ipython",
    "version": 2
   },
   "file_extension": ".py",
   "mimetype": "text/x-python",
   "name": "python",
   "nbconvert_exporter": "python",
   "pygments_lexer": "ipython2",
   "version": "2.7.6"
  }
 },
 "nbformat": 4,
 "nbformat_minor": 0
}
