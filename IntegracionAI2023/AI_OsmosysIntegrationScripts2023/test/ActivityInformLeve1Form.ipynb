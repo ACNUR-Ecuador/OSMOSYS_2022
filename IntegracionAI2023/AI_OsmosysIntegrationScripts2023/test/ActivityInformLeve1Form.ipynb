{
 "cells": [
  {
   "cell_type": "code",
   "execution_count": 13,
   "metadata": {
    "collapsed": true
   },
   "outputs": [
    {
     "data": {
      "text/plain": "<module 'activityinfo' from 'D:\\\\proyectos\\\\OSMOSYS_2023\\\\IntegracionAI2023\\\\AI_OsmosysIntegrationScripts2023\\\\activityinfo\\\\__init__.py'>"
     },
     "execution_count": 13,
     "metadata": {},
     "output_type": "execute_result"
    }
   ],
   "source": [
    "## imports\n",
    "import importlib\n",
    "import osmosys.osmosys\n",
    "import osmosys.Backups\n",
    "import activityinfo\n",
    "import pandas as pd\n",
    "import model.modelAI\n",
    "from IPython.display import display\n",
    "import json\n",
    "import os.path\n",
    "from urllib.error import HTTPError\n",
    "\n",
    "importlib.reload(osmosys.osmosys)\n",
    "importlib.reload(activityinfo)"
   ]
  },
  {
   "cell_type": "code",
   "execution_count": 35,
   "outputs": [],
   "source": [],
   "metadata": {
    "collapsed": false
   }
  },
  {
   "cell_type": "code",
   "execution_count": 14,
   "outputs": [
    {
     "name": "stdout",
     "output_type": "stream",
     "text": [
      "<class 'pandas.core.frame.DataFrame'>\n",
      "RangeIndex: 260 entries, 0 to 259\n",
      "Data columns (total 10 columns):\n",
      " #   Column              Non-Null Count  Dtype \n",
      "---  ------              --------------  ----- \n",
      " 0   folder              260 non-null    object\n",
      " 1   form                260 non-null    object\n",
      " 2   form_id             260 non-null    object\n",
      " 3   parent_form         260 non-null    object\n",
      " 4   parent_form_id      260 non-null    object\n",
      " 5   org_acron           260 non-null    object\n",
      " 6   id_registro_imp     248 non-null    object\n",
      " 7   osmosys_code        260 non-null    object\n",
      " 8   canton              260 non-null    object\n",
      " 9   canton_id_registro  260 non-null    object\n",
      "dtypes: object(10)\n",
      "memory usage: 20.4+ KB\n",
      "None\n",
      "              folder                              form              form_id  \\\n",
      "0    GT Comunicación  ACTIVIDAD INDICADOR COMUNICACIÓN  ckq6yrylct8vun42s3r   \n",
      "1    GT Comunicación  ACTIVIDAD INDICADOR COMUNICACIÓN  ckq6yrylct8vun42s3r   \n",
      "2    GT Comunicación  ACTIVIDAD INDICADOR COMUNICACIÓN  ckq6yrylct8vun42s3r   \n",
      "3    GT Comunicación  ACTIVIDAD INDICADOR COMUNICACIÓN  ckq6yrylct8vun42s3r   \n",
      "4    GT Comunicación  ACTIVIDAD INDICADOR COMUNICACIÓN  ckq6yrylct8vun42s3r   \n",
      "..               ...                               ...                  ...   \n",
      "255           GT WAN             ACTIVIDAD ALOJAMIENTO    cdwy3u9ld0h9xwqp1   \n",
      "256           GT WAN             ACTIVIDAD ALOJAMIENTO    cdwy3u9ld0h9xwqp1   \n",
      "257           GT WAN             ACTIVIDAD ALOJAMIENTO    cdwy3u9ld0h9xwqp1   \n",
      "258           GT WAN             ACTIVIDAD ALOJAMIENTO    cdwy3u9ld0h9xwqp1   \n",
      "259           GT WAN             ACTIVIDAD ALOJAMIENTO    cdwy3u9ld0h9xwqp1   \n",
      "\n",
      "      parent_form       parent_form_id org_acron    id_registro_imp  \\\n",
      "0    Comunicación  ch1uwsolct8vun42s4h    CRISFE  cq2w7rrl02wz7lk3i   \n",
      "1    Comunicación  ch1uwsolct8vun42s4h    FUDELA   cyf42nl02wz7lk3t   \n",
      "2    Comunicación  ch1uwsolct8vun42s4h    FUDELA   cyf42nl02wz7lk3t   \n",
      "3    Comunicación  ch1uwsolct8vun42s4h    FUDELA   cyf42nl02wz7lk3t   \n",
      "4    Comunicación  ch1uwsolct8vun42s4h    FUDELA   cyf42nl02wz7lk3t   \n",
      "..            ...                  ...       ...                ...   \n",
      "255   Alojamiento  cdb314blct8vun42s43      HIAS  cdo7phbl02wz7lk40   \n",
      "256   Alojamiento  cdb314blct8vun42s43        MS  cdn94x9l02wz7lk32   \n",
      "257   Alojamiento  cdb314blct8vun42s43        MS  cdn94x9l02wz7lk32   \n",
      "258   Alojamiento  cdb314blct8vun42s43        PE  c6mzlaxl02wz7lk3k   \n",
      "259   Alojamiento  cdb314blct8vun42s43       SJR  ce7axi1l02wz7lj2b   \n",
      "\n",
      "    osmosys_code              canton canton_id_registro  \n",
      "0           1701               QUITO        z2147278572  \n",
      "1           0401              TULCAN        z2147278619  \n",
      "2           0402             BOLIVAR        z2147278424  \n",
      "3           0405            MONTUFAR        z2147278520  \n",
      "4           0406  SAN PEDRO DE HUACA        z2147278589  \n",
      "..           ...                 ...                ...  \n",
      "255         2301       SANTO DOMINGO        z2147278601  \n",
      "256         1001              IBARRA        z2147278485  \n",
      "257         2301       SANTO DOMINGO        z2147278601  \n",
      "258         1114              PINDAL        z2147278555  \n",
      "259         1701               QUITO        z2147278572  \n",
      "\n",
      "[260 rows x 10 columns]\n"
     ]
    }
   ],
   "source": [
    "month = 'ENERO'\n",
    "osmosysData = osmosys.osmosys.get_ai_form_level_1()\n",
    "print(osmosysData.info())\n",
    "print(osmosysData)"
   ],
   "metadata": {
    "collapsed": false
   }
  },
  {
   "cell_type": "code",
   "execution_count": 16,
   "outputs": [
    {
     "name": "stdout",
     "output_type": "stream",
     "text": [
      "['ch1uwsolct8vun42s4h' 'c2ah0uulct8vun42s46' 'c17nojrlct8vun42s3f'\n",
      " 'camf3bulct8vun42s47' 'c8p7jzjlct8vun42s3k' 'c61zguqlct8vun42s3m'\n",
      " 'cxwkv3olct8vun42s3n' 'c7o1o4ylct8vun42s3z' 'cdb314blct8vun42s43']\n",
      "<class 'numpy.ndarray'>\n",
      "parent_form                               parent_form_id     \n",
      "Alojamiento                               cdb314blct8vun42s43    21\n",
      "Comunicación                              ch1uwsolct8vun42s4h     5\n",
      "Educación                                 c2ah0uulct8vun42s46    35\n",
      "Integración                               c17nojrlct8vun42s3f    48\n",
      "Protección VBG                            cxwkv3olct8vun42s3n    30\n",
      "Protección a la infancia                  c8p7jzjlct8vun42s3k    31\n",
      "Protección general                        c61zguqlct8vun42s3m    68\n",
      "Salud                                     c7o1o4ylct8vun42s3z    20\n",
      "Transferencias monetarias multipropósito  camf3bulct8vun42s47     2\n",
      "dtype: int64\n"
     ]
    }
   ],
   "source": [
    "# get all unique form ids\n",
    "#osmosysData.form_id.value_counts()\n",
    "parentFormsIds = osmosysData.parent_form_id.unique()\n",
    "print(parentFormsIds)\n",
    "print(type(parentFormsIds))\n",
    "print(osmosysData.groupby(['parent_form', 'parent_form_id']).size())"
   ],
   "metadata": {
    "collapsed": false
   }
  },
  {
   "cell_type": "code",
   "execution_count": 17,
   "outputs": [
    {
     "name": "stdout",
     "output_type": "stream",
     "text": [
      "ch1uwsolct8vun42s4h\n",
      "(21, 33)\n",
      "(21, 33)\n",
      "c2ah0uulct8vun42s46\n",
      "(30, 33)\n",
      "(51, 34)\n",
      "c17nojrlct8vun42s3f\n",
      "(63, 33)\n",
      "(114, 35)\n",
      "camf3bulct8vun42s47\n",
      "(48, 33)\n",
      "(162, 36)\n",
      "c8p7jzjlct8vun42s3k\n",
      "(57, 33)\n",
      "(219, 37)\n",
      "c61zguqlct8vun42s3m\n",
      "(89, 33)\n",
      "(308, 38)\n",
      "cxwkv3olct8vun42s3n\n",
      "(41, 33)\n",
      "(349, 39)\n",
      "c7o1o4ylct8vun42s3z\n",
      "(32, 33)\n",
      "(381, 40)\n",
      "cdb314blct8vun42s43\n",
      "(64, 33)\n",
      "(445, 41)\n"
     ]
    }
   ],
   "source": [
    "importlib.reload(osmosys.osmosys)\n",
    "aiToken = osmosys.osmosys.getToken()\n",
    "formTotalDf = None\n",
    "for parentFormsId in parentFormsIds:\n",
    "    print(parentFormsId)\n",
    "    client = activityinfo.Client(token=aiToken, base_url='https://www.activityinfo.org/resources')\n",
    "    try:\n",
    "        dbsJson = client.get_resource('form/{parentFormsId}/query'.format(parentFormsId=parentFormsId))\n",
    "        dbsDf = pd.DataFrame.from_records(dbsJson)\n",
    "        dbsDf['parent_form_id'] = parentFormsId\n",
    "        print(dbsDf.shape)\n",
    "        if formTotalDf is None:\n",
    "            formTotalDf = dbsDf\n",
    "        else:\n",
    "            formTotalDf = pd.concat([formTotalDf, dbsDf], axis=0)\n",
    "    except Exception:\n",
    "        print(\"Oops!  No existe el registro\")\n",
    "        print(Exception)\n",
    "    print(formTotalDf.shape)"
   ],
   "metadata": {
    "collapsed": false
   }
  },
  {
   "cell_type": "code",
   "execution_count": 18,
   "outputs": [
    {
     "name": "stdout",
     "output_type": "stream",
     "text": [
      "formTotalDf: (445, 41)\n",
      "formPartnersDf: (16, 41)\n"
     ]
    }
   ],
   "source": [
    "# ordeno para quitar duplicados\n",
    "# filtro implementaciòn indirecta y doante acnur\n",
    "print('formTotalDf: ' + str(formTotalDf.shape))\n",
    "formPartnersDf = formTotalDf.loc[\n",
    "    (formTotalDf['implementacion'] == 'Indirecta') & (formTotalDf['donante.@id'] == 'chgxs46l02wy5i81e')]\n",
    "print('formPartnersDf: ' + str(formPartnersDf.shape))"
   ],
   "metadata": {
    "collapsed": false
   }
  },
  {
   "cell_type": "code",
   "execution_count": 19,
   "outputs": [
    {
     "name": "stdout",
     "output_type": "stream",
     "text": [
      "formPartnersDfClean: (16, 41)\n"
     ]
    }
   ],
   "source": [
    "formPartnersDfClean = formPartnersDf.sort_values('@lastEditTime', ascending=False).drop_duplicates(\n",
    "    subset=['implementador.@id', 'ubicacion.@id', 'parent_form_id'])\n",
    "print('formPartnersDfClean: ' + str(formPartnersDfClean.shape))\n",
    "formPartnersDfClean = formPartnersDfClean[\n",
    "    [\"@id\", \"@lastEditTime\", \"implementacion\", \"donante.@id\", \"donante.org_nombre\", \"donante.donante\",\n",
    "     \"implementador.@id\",\n",
    "     \"implementador.org_nombre\", \"implementador.donante\", \"ubicacion.@id\", \"ubicacion.name\", \"ubicacion.code\",\n",
    "     \"ubicacion.parent.name\", \"ubicacion.parent.code\", \"codigo_referencia\", \"parent_form_id\"\n",
    "     ]]"
   ],
   "metadata": {
    "collapsed": false
   }
  },
  {
   "cell_type": "code",
   "execution_count": 20,
   "outputs": [
    {
     "name": "stdout",
     "output_type": "stream",
     "text": [
      "Forms to create: 260\n"
     ]
    }
   ],
   "source": [
    "## hago merge para buscar cuales falta por crear\n",
    "mergeDf = pd.merge(osmosysData, formPartnersDfClean, how='left',\n",
    "                   left_on=['parent_form_id', 'id_registro_imp', 'canton_id_registro'],\n",
    "                   right_on=['parent_form_id', 'implementador.@id', 'ubicacion.@id'])\n",
    "formsToCreate = mergeDf[mergeDf['@id'].isna()]\n",
    "numberOfFormTocreate = formsToCreate.shape[0]\n",
    "print('Forms to create: ' + str(numberOfFormTocreate))"
   ],
   "metadata": {
    "collapsed": false
   }
  },
  {
   "cell_type": "code",
   "execution_count": 57,
   "outputs": [],
   "source": [
    "importlib.reload(model.modelAI)\n",
    "\n",
    "## creo las estructuras de datos\n",
    "changesList = []\n",
    "newIds = []\n",
    "for index, row in formsToCreate.iterrows():\n",
    "    form = model.modelAI.Form(cqes12jkykah3la9='40038', org_user='cc9fjcdkyyk18oj6', implementacion='c89eykqkykc8oig1b',\n",
    "                              donante='chgxs46l02wy5i81e',\n",
    "                              implementador=row['id_registro_imp'],\n",
    "                              ubicacion=row['canton_id_registro'])\n",
    "    newId = activityinfo.generate_id()\n",
    "    newIds.append(newId)\n",
    "    record = model.modelAI.Record(row['parent_form_id'], newId, None, form)\n",
    "    changesList.append(record)\n",
    "\n",
    "changes = model.modelAI.Changes(changesList)\n",
    "finalJson = json.dumps(changes, default=model.modelAI.default)"
   ],
   "metadata": {
    "collapsed": false
   }
  },
  {
   "cell_type": "code",
   "execution_count": 59,
   "outputs": [
    {
     "name": "stdout",
     "output_type": "stream",
     "text": [
      "<class 'list'>\n",
      " creado respaldo: 2023-ENERO\\data_form1_canton_org-.json\n"
     ]
    }
   ],
   "source": [
    "osmosys.Backups.do_backup('form1_canton_org','',month,2023, changesList, finalJson)"
   ],
   "metadata": {
    "collapsed": false
   }
  },
  {
   "cell_type": "code",
   "execution_count": 60,
   "outputs": [
    {
     "name": "stdout",
     "output_type": "stream",
     "text": [
      "Enviado a AI\n"
     ]
    }
   ],
   "source": [
    "## send to AI\n",
    "try:\n",
    "    if (numberOfFormTocreate > 0):\n",
    "        client.post_resource('update', body=finalJson)\n",
    "        print(\"Enviado a AI\")\n",
    "    else:\n",
    "        print(\"nada por crear en AI\")\n",
    "except HTTPError as e:\n",
    "    code = e.response.status_code\n",
    "    print('error:')\n",
    "    print(code)\n",
    "    print(e)"
   ],
   "metadata": {
    "collapsed": false
   }
  }
 ],
 "metadata": {
  "kernelspec": {
   "display_name": "Python 3",
   "language": "python",
   "name": "python3"
  },
  "language_info": {
   "codemirror_mode": {
    "name": "ipython",
    "version": 2
   },
   "file_extension": ".py",
   "mimetype": "text/x-python",
   "name": "python",
   "nbconvert_exporter": "python",
   "pygments_lexer": "ipython2",
   "version": "2.7.6"
  }
 },
 "nbformat": 4,
 "nbformat_minor": 0
}
