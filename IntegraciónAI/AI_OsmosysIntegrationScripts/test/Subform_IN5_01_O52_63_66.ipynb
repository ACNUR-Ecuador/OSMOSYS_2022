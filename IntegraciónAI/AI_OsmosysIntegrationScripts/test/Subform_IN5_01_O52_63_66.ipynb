{
 "cells": [
  {
   "cell_type": "code",
   "execution_count": 1,
   "metadata": {
    "collapsed": true,
    "pycharm": {
     "name": "#%%\n"
    }
   },
   "outputs": [
    {
     "data": {
      "text/plain": "<module 'model.modelAI' from 'D:\\\\Proyectos\\\\OSMOSYS_2022\\\\IntegraciónAI\\\\AI_OsmosysIntegrationScripts\\\\model\\\\modelAI.py'>"
     },
     "execution_count": 1,
     "metadata": {},
     "output_type": "execute_result"
    }
   ],
   "source": [
    "import pandas as pd\n",
    "\n",
    "import osmosys.osmosys\n",
    "import activityinfo\n",
    "from activityinfo import Client\n",
    "from activityinfo import FormProcessing\n",
    "import importlib\n",
    "import model.modelAI\n",
    "from activityinfo.id import generate_id\n",
    "import json\n",
    "from requests.exceptions import HTTPError\n",
    "import os.path\n",
    "\n",
    "importlib.reload(osmosys.osmosys)\n",
    "importlib.reload(activityinfo.FormProcessing)\n",
    "importlib.reload(model.modelAI)"
   ]
  },
  {
   "cell_type": "code",
   "execution_count": 2,
   "outputs": [
    {
     "name": "stdout",
     "output_type": "stream",
     "text": [
      "--------------------------------------IN5_01------------------------------------------------------\n"
     ]
    }
   ],
   "source": [
    "## parameters\n",
    "indicatorCodeAI = 'IN5_01'\n",
    "month = 'JUNIO'\n",
    "month_number = '2022-06'\n",
    "year = 2022\n",
    "test = True\n",
    "print(\n",
    "    '--------------------------------------' + indicatorCodeAI + '------------------------------------------------------')\n"
   ],
   "metadata": {
    "collapsed": false,
    "pycharm": {
     "name": "#%%\n"
    }
   }
  },
  {
   "cell_type": "code",
   "execution_count": 3,
   "outputs": [
    {
     "name": "stdout",
     "output_type": "stream",
     "text": [
      "formIdAI: cby06aql4q3ommxdd\n",
      "parentFormIdAI: chmqarpl4q3ommxcz\n",
      "indicatorIdAI: cxjbtsykylzqu4g3u\n",
      "indicatorIdsOsmosys: [52 63 66 88 89]\n"
     ]
    }
   ],
   "source": [
    "# busco matchs\n",
    "subformDf = osmosys.osmosys.getMatchSubforms(indicatorCodeAI)\n",
    "## print(subformDf)\n",
    "indicatorIdsOsmosys = subformDf.osmosys_indicador_id.unique()\n",
    "subformSeries = subformDf.iloc[0]\n",
    "formIdAI = subformSeries.form_id\n",
    "parentFormIdAI = subformSeries.parent_form_id\n",
    "indicatorIdAI = subformSeries.indicator_id\n",
    "print(\"formIdAI: \" + formIdAI)\n",
    "print(\"parentFormIdAI: \" + parentFormIdAI)\n",
    "print(\"indicatorIdAI: \" + indicatorIdAI)\n",
    "print(\"indicatorIdsOsmosys: \" + str(indicatorIdsOsmosys))"
   ],
   "metadata": {
    "collapsed": false,
    "pycharm": {
     "name": "#%%\n"
    }
   }
  },
  {
   "cell_type": "code",
   "execution_count": 4,
   "outputs": [
    {
     "name": "stdout",
     "output_type": "stream",
     "text": [
      "solo indicador 52, 63, 66 servicios varios\n",
      "indicatorIdsOsmosys: [52, 63, 66]\n",
      "reported data: 7\n"
     ]
    }
   ],
   "source": [
    "print('solo indicador 52, 63, 66 servicios varios')\n",
    "indicatorIdsOsmosys = [52, 63, 66]\n",
    "print(\"indicatorIdsOsmosys: \" + str(indicatorIdsOsmosys))\n",
    "## consulto los datos reportados\n",
    "reportedDf = osmosys.osmosys.getIesPartnerCantonsByIndicatorsIdsOsmosysAndMonth(indicatorsIdsOmosys=indicatorIdsOsmosys,\n",
    "                                                                                month=month, year=year)\n",
    "print('reported data: ' + str(reportedDf.shape[0]))\n"
   ],
   "metadata": {
    "collapsed": false,
    "pycharm": {
     "name": "#%%\n"
    }
   }
  },
  {
   "cell_type": "code",
   "execution_count": 5,
   "outputs": [],
   "source": [
    "## obtengo los parents de AI\n",
    "parentFormsIds = FormProcessing.getParentsIds(parentFormIdAI=parentFormIdAI, reportedDf=reportedDf)"
   ],
   "metadata": {
    "collapsed": false,
    "pycharm": {
     "name": "#%%\n"
    }
   }
  },
  {
   "cell_type": "code",
   "execution_count": 6,
   "outputs": [
    {
     "name": "stdout",
     "output_type": "stream",
     "text": [
      "changes to charge: 7\n"
     ]
    }
   ],
   "source": [
    "## contruyo las estructuras de datos\n",
    "changesList = []\n",
    "newIds = []\n",
    "for index, row in parentFormsIds.iterrows():\n",
    "    # print(row)\n",
    "    orgAcron = row.acronym\n",
    "    cantonCode = row.canton_code\n",
    "    df = osmosys.osmosys.getRefValues(year=year, month=month, orgOsmosys=orgAcron,\n",
    "                                      indicatorsIdsOmosys=indicatorIdsOsmosys, cantonCode=cantonCode)\n",
    "\n",
    "    poblacion_meta = [\"Refugiados/as y migrantes\", \"Comunidad de acogida\"]\n",
    "\n",
    "    IN5_01_RM_MM_N = int(df.loc[df['age_gender'] == 'ADULTAS'].iloc[0].value_a)\n",
    "    IN5_01_RM_HH_N = int(df.loc[df['age_gender'] == 'ADULTOS'].iloc[0].value_a)\n",
    "    IN5_01_RM_OTR_N = int(df.loc[df['age_gender'] == 'OTRO'].iloc[0].value_a)\n",
    "\n",
    "    dfCa = osmosys.osmosys.getCAValues(year=year, month=month, orgOsmosys=orgAcron,\n",
    "                                       indicatorsIdsOmosys=indicatorIdsOsmosys, cantonCode=cantonCode)\n",
    "    IN5_01_CA_MM_N = int(dfCa.loc[df['age_gender'] == 'ADULTAS'].iloc[0].value_a)\n",
    "    IN5_01_CA_HH_N = int(dfCa.loc[df['age_gender'] == 'ADULTOS'].iloc[0].value_a)\n",
    "    IN5_01_CA_OTR_N = int(dfCa.loc[df['age_gender'] == 'OTRO'].iloc[0].value_a)\n",
    "\n",
    "    commentary = osmosys.osmosys.getCommentary(year=year, month=month, orgOsmosys=orgAcron,\n",
    "                                               indicatorsIdsOmosys=indicatorIdsOsmosys).iloc[\n",
    "        0].value_a\n",
    "\n",
    "    dfDiversidad = osmosys.osmosys.getRefLgbtiDiscapacitadosValues(year=year, month=month, orgOsmosys=orgAcron,\n",
    "                                                                   indicatorsIdsOmosys=indicatorIdsOsmosys,\n",
    "                                                                   cantonCode=cantonCode)\n",
    "    IN5_01_RM_LGBT_N = int(dfDiversidad.loc[(dfDiversidad['diversity_type'] == 'LGBTI') & (\n",
    "            dfDiversidad['country_of_origin'] == 'VENEZUELA')].iloc[0].value_a)\n",
    "\n",
    "    IN5_01_CA_LGBT_N = int(dfDiversidad.loc[(dfDiversidad['diversity_type'] == 'LGBTI') & (\n",
    "            dfDiversidad['country_of_origin'] == 'ECUADOR')].iloc[0].value_a)\n",
    "\n",
    "    subform = model.modelAI.SubFormIN5_01_O52_63_66(\n",
    "        mes=month_number,\n",
    "        colltmgkykvhxgij6=indicatorIdAI,\n",
    "        rmrp='Si',\n",
    "        covid='No',\n",
    "        espacion_apoyo='Si',\n",
    "        poblacion_meta=poblacion_meta,\n",
    "        poblacion_meta_freq='Primera vez',\n",
    "        modalidad_impl='cmo12q1kykwwosjka',  ## servicios\n",
    "        semilla='No',\n",
    "        IN5_01_RM_MM_N=IN5_01_RM_MM_N,\n",
    "        IN5_01_RM_HH_N=IN5_01_RM_HH_N,\n",
    "        IN5_01_RM_OTR_N=IN5_01_RM_OTR_N,\n",
    "        IN5_01_RM_LGBT_N=IN5_01_RM_LGBT_N,\n",
    "        IN5_01_CA_MM_N=IN5_01_CA_MM_N,\n",
    "        IN5_01_CA_HH_N=IN5_01_CA_HH_N,\n",
    "        IN5_01_CA_OTR_N=IN5_01_CA_OTR_N,\n",
    "        IN5_01_CA_LGBT_N=IN5_01_CA_LGBT_N,\n",
    "        IN5_01_CUAL=commentary\n",
    "\n",
    "    )\n",
    "    newId = generate_id()\n",
    "    newIds.append(newId)\n",
    "    record = model.modelAI.Record(formId=formIdAI, recordId=newId, parentRecordId=row['@id'], fields=subform)\n",
    "    changesList.append(record)\n",
    "print('changes to charge: ' + str(len(changesList)))"
   ],
   "metadata": {
    "collapsed": false,
    "pycharm": {
     "name": "#%%\n"
    }
   }
  },
  {
   "cell_type": "code",
   "execution_count": 7,
   "outputs": [],
   "source": [
    "## creo respaldo\n",
    "changes = model.modelAI.Changes(changesList)\n",
    "finalJson = json.dumps(changes, default=model.modelAI.default)"
   ],
   "metadata": {
    "collapsed": false,
    "pycharm": {
     "name": "#%%\n"
    }
   }
  },
  {
   "cell_type": "code",
   "execution_count": 8,
   "outputs": [
    {
     "name": "stdout",
     "output_type": "stream",
     "text": [
      " creado respaldo: JUNIO\\data_IN5_01-[52, 63, 66].json\n"
     ]
    }
   ],
   "source": [
    "#open text file\n",
    "try:\n",
    "    os.mkdir(month)\n",
    "except Exception:\n",
    "    pass\n",
    "text_file = open(os.path.join(month, \"data_\" + indicatorCodeAI + '-' + str(indicatorIdsOsmosys) + \".json\"), \"w\")\n",
    "#write string to file\n",
    "n = text_file.write(finalJson)\n",
    "\n",
    "#close file\n",
    "text_file.close()\n",
    "print(\" creado respaldo: \" + text_file.name)\n",
    "newIdsDict = {\"newIds\": newIds}\n",
    "newIdsDf = pd.DataFrame(newIdsDict)\n",
    "newIdsDf.to_csv(os.path.join(month, \"new_ids_\" + indicatorCodeAI + \".csv\"))"
   ],
   "metadata": {
    "collapsed": false,
    "pycharm": {
     "name": "#%%\n"
    }
   }
  },
  {
   "cell_type": "code",
   "execution_count": 9,
   "outputs": [
    {
     "name": "stdout",
     "output_type": "stream",
     "text": [
      "--------------------------------------IN5_01-[52, 63, 66]------------------------------------------------------\n"
     ]
    }
   ],
   "source": [
    "## envio a AI\n",
    "if (test):\n",
    "    print(\n",
    "        '--------------------------------------' + indicatorCodeAI + '-' + str(\n",
    "            indicatorIdsOsmosys) + '------------------------------------------------------')\n",
    "else:\n",
    "    try:\n",
    "        if len(changesList) > 0:\n",
    "            print('se envia a AI')\n",
    "            client = Client(token=osmosys.osmosys.getToken(), base_url='https://www.activityinfo.org/resources')\n",
    "            client.post_resource(path='update', body=finalJson)\n",
    "            print(\n",
    "                '--------------------------------------' + indicatorCodeAI + '-' + str(\n",
    "                    indicatorIdsOsmosys) + '------------------------------------------------------')\n",
    "        else:\n",
    "            print('nada que enviar a AI')\n",
    "    except HTTPError as e:\n",
    "        code = e.response.status_code\n",
    "        print('error:')\n",
    "        print(code)\n",
    "\n",
    "        print(e)"
   ],
   "metadata": {
    "collapsed": false,
    "pycharm": {
     "name": "#%%\n"
    }
   }
  },
  {
   "cell_type": "code",
   "execution_count": null,
   "outputs": [],
   "source": [],
   "metadata": {
    "collapsed": false,
    "pycharm": {
     "name": "#%%\n"
    }
   }
  }
 ],
 "metadata": {
  "kernelspec": {
   "display_name": "Python 3",
   "language": "python",
   "name": "python3"
  },
  "language_info": {
   "codemirror_mode": {
    "name": "ipython",
    "version": 2
   },
   "file_extension": ".py",
   "mimetype": "text/x-python",
   "name": "python",
   "nbconvert_exporter": "python",
   "pygments_lexer": "ipython2",
   "version": "2.7.6"
  }
 },
 "nbformat": 4,
 "nbformat_minor": 0
}