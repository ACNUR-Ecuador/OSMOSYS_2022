{
 "cells": [
  {
   "cell_type": "code",
   "execution_count": 31,
   "metadata": {
    "collapsed": true,
    "pycharm": {
     "name": "#%%\n"
    }
   },
   "outputs": [
    {
     "data": {
      "text/plain": "<module 'model.modelAI' from 'D:\\\\Proyectos\\\\OSMOSYS_2022\\\\IntegraciónAI\\\\AI_OsmosysIntegrationScripts\\\\model\\\\modelAI.py'>"
     },
     "execution_count": 31,
     "metadata": {},
     "output_type": "execute_result"
    }
   ],
   "source": [
    "import pandas as pd\n",
    "\n",
    "import osmosys.osmosys\n",
    "import activityinfo\n",
    "from activityinfo import Client\n",
    "from activityinfo import FormProcessing\n",
    "import importlib\n",
    "import model.modelAI\n",
    "from activityinfo.id import generate_id\n",
    "import json\n",
    "from requests.exceptions import HTTPError\n",
    "import os.path\n",
    "\n",
    "importlib.reload(osmosys.osmosys)\n",
    "importlib.reload(activityinfo.FormProcessing)\n",
    "importlib.reload(model.modelAI)"
   ]
  },
  {
   "cell_type": "code",
   "execution_count": 32,
   "outputs": [
    {
     "name": "stdout",
     "output_type": "stream",
     "text": [
      "--------------------------------------ED6_01------------------------------------------------------\n"
     ]
    }
   ],
   "source": [
    "## parameters\n",
    "indicatorCodeAI = 'ED6_01'\n",
    "month = 'JULIO'\n",
    "month_number = '2022-07'\n",
    "year = 2022\n",
    "test = True\n",
    "print(\n",
    "    '--------------------------------------' + indicatorCodeAI + '------------------------------------------------------')\n"
   ],
   "metadata": {
    "collapsed": false,
    "pycharm": {
     "name": "#%%\n"
    }
   }
  },
  {
   "cell_type": "code",
   "execution_count": 33,
   "outputs": [
    {
     "name": "stdout",
     "output_type": "stream",
     "text": [
      "formIdAI: ci7r5tmkytar1k23\n",
      "parentFormIdAI: csjlz2gkytar1k12\n",
      "indicatorIdAI: cwvehnnkylzqu4e3m\n",
      "indicatorIdsOsmosys: [51]\n"
     ]
    }
   ],
   "source": [
    "# busco matchs\n",
    "subformDf = osmosys.osmosys.getMatchSubforms(indicatorCodeAI)\n",
    "## print(subformDf)\n",
    "indicatorIdsOsmosys = subformDf.osmosys_indicador_id.unique()\n",
    "subformSeries = subformDf.iloc[0]\n",
    "formIdAI = subformSeries.form_id\n",
    "parentFormIdAI = subformSeries.parent_form_id\n",
    "indicatorIdAI = subformSeries.indicator_id\n",
    "print(\"formIdAI: \" + formIdAI)\n",
    "print(\"parentFormIdAI: \" + parentFormIdAI)\n",
    "print(\"indicatorIdAI: \" + indicatorIdAI)\n",
    "print(\"indicatorIdsOsmosys: \" + str(indicatorIdsOsmosys))"
   ],
   "metadata": {
    "collapsed": false,
    "pycharm": {
     "name": "#%%\n"
    }
   }
  },
  {
   "cell_type": "code",
   "execution_count": 34,
   "outputs": [
    {
     "name": "stdout",
     "output_type": "stream",
     "text": [
      "indicatorIdsOsmosys: [51]\n",
      "reported data: 2\n"
     ]
    }
   ],
   "source": [
    "print(\"indicatorIdsOsmosys: \" + str(indicatorIdsOsmosys))\n",
    "## consulto los datos reportados\n",
    "reportedDf = osmosys.osmosys.getIesPartnerCantonsByIndicatorsIdsOsmosysAndMonth(indicatorsIdsOmosys=indicatorIdsOsmosys,\n",
    "                                                                                month=month, year=year)\n",
    "print('reported data: ' + str(reportedDf.shape[0]))\n"
   ],
   "metadata": {
    "collapsed": false,
    "pycharm": {
     "name": "#%%\n"
    }
   }
  },
  {
   "cell_type": "code",
   "execution_count": 35,
   "outputs": [],
   "source": [
    "## obtengo los parents de AI\n",
    "parentFormsIds = FormProcessing.getParentsIds(parentFormIdAI=parentFormIdAI, reportedDf=reportedDf)"
   ],
   "metadata": {
    "collapsed": false,
    "pycharm": {
     "name": "#%%\n"
    }
   }
  },
  {
   "cell_type": "code",
   "execution_count": 38,
   "outputs": [
    {
     "name": "stdout",
     "output_type": "stream",
     "text": [
      "\n",
      "    SELECT \n",
      "    v.ie_id\t, ie.performance_indicator_id indicator_osmosys_id,\n",
      "     v.month_id\t,v.year\t,v.month_year_order\t,v.month\t,\n",
      "    org.id org_odmodyd_id,org.acronym osmosys_org, v.canton_code\t,\n",
      "    v.canton\t,v.population_type\t,v.age_gender\t,\n",
      "    sum(v.value) value_a\n",
      "    FROM ai_integration.ai_adultos_ninos_ref_migrantes_ven v\n",
      "    INNER JOIN osmosys.indicator_executions ie on v.ie_id=ie.id\n",
      "    INNER JOIN osmosys.projects pr on ie.project_id=pr.id\n",
      "    INNER JOIN osmosys.organizations org on pr.organization_id=org.\"id\"\n",
      "    WHERE v.year=2022 and v.month='JULIO' \n",
      "    and org.acronym='HIAS'\n",
      "    and v.canton_code='0801'\n",
      "    and ie.performance_indicator_id in (51)\n",
      "    GROUP BY 1,2,3,4,5,6,7,8,9,10,11,12\n",
      "    \n",
      "   ie_id  indicator_osmosys_id  month_id  year  month_year_order  month  \\\n",
      "0    127                    51       819  2022                 7  JULIO   \n",
      "1    127                    51       819  2022                 7  JULIO   \n",
      "2    127                    51       819  2022                 7  JULIO   \n",
      "3    127                    51       819  2022                 7  JULIO   \n",
      "4    127                    51       819  2022                 7  JULIO   \n",
      "\n",
      "   org_odmodyd_id osmosys_org canton_code      canton       population_type  \\\n",
      "0              26        HIAS        0801  ESMERALDAS  REFUGIADOS_MIGRANTES   \n",
      "1              26        HIAS        0801  ESMERALDAS  REFUGIADOS_MIGRANTES   \n",
      "2              26        HIAS        0801  ESMERALDAS  REFUGIADOS_MIGRANTES   \n",
      "3              26        HIAS        0801  ESMERALDAS  REFUGIADOS_MIGRANTES   \n",
      "4              26        HIAS        0801  ESMERALDAS  REFUGIADOS_MIGRANTES   \n",
      "\n",
      "  age_gender  value_a  \n",
      "0    ADULTAS      4.0  \n",
      "1    ADULTOS      0.0  \n",
      "2      NINAS      0.0  \n",
      "3      NINOS      0.0  \n",
      "4       OTRO      0.0  \n",
      "\n",
      "    SELECT \n",
      "    v.ie_id\t, ie.performance_indicator_id indicator_osmosys_id,\n",
      "     v.month_id\t,v.year\t,v.month_year_order\t,v.month\t,\n",
      "    org.id org_odmodyd_id,org.acronym osmosys_org, v.canton_code\t,\n",
      "    v.canton\t,v.population_type\t,v.age_gender\t,\n",
      "    sum(v.value) value_a\n",
      "    FROM ai_integration.ai_adultos_ninos_ref_migrantes_ven v\n",
      "    INNER JOIN osmosys.indicator_executions ie on v.ie_id=ie.id\n",
      "    INNER JOIN osmosys.projects pr on ie.project_id=pr.id\n",
      "    INNER JOIN osmosys.organizations org on pr.organization_id=org.\"id\"\n",
      "    WHERE v.year=2022 and v.month='JULIO' \n",
      "    and org.acronym='HIAS'\n",
      "    and v.canton_code='0901'\n",
      "    and ie.performance_indicator_id in (51)\n",
      "    GROUP BY 1,2,3,4,5,6,7,8,9,10,11,12\n",
      "    \n",
      "   ie_id  indicator_osmosys_id  month_id  year  month_year_order  month  \\\n",
      "0    127                    51       819  2022                 7  JULIO   \n",
      "1    127                    51       819  2022                 7  JULIO   \n",
      "2    127                    51       819  2022                 7  JULIO   \n",
      "3    127                    51       819  2022                 7  JULIO   \n",
      "4    127                    51       819  2022                 7  JULIO   \n",
      "\n",
      "   org_odmodyd_id osmosys_org canton_code     canton       population_type  \\\n",
      "0              26        HIAS        0901  GUAYAQUIL  REFUGIADOS_MIGRANTES   \n",
      "1              26        HIAS        0901  GUAYAQUIL  REFUGIADOS_MIGRANTES   \n",
      "2              26        HIAS        0901  GUAYAQUIL  REFUGIADOS_MIGRANTES   \n",
      "3              26        HIAS        0901  GUAYAQUIL  REFUGIADOS_MIGRANTES   \n",
      "4              26        HIAS        0901  GUAYAQUIL  REFUGIADOS_MIGRANTES   \n",
      "\n",
      "  age_gender  value_a  \n",
      "0    ADULTAS     28.0  \n",
      "1    ADULTOS      0.0  \n",
      "2      NINAS      0.0  \n",
      "3      NINOS      0.0  \n",
      "4       OTRO      0.0  \n",
      "changes to charge: 2\n"
     ]
    }
   ],
   "source": [
    "## contruyo las estructuras de datos\n",
    "changesList = []\n",
    "newIds = []\n",
    "for index, row in parentFormsIds.iterrows():\n",
    "    # print(row)\n",
    "    orgAcron = row.acronym\n",
    "    cantonCode = row.canton_code\n",
    "    df = osmosys.osmosys.getRefValues(year=year, month=month, orgOsmosys=orgAcron,\n",
    "                                      indicatorsIdsOmosys=indicatorIdsOsmosys, cantonCode=cantonCode)\n",
    "\n",
    "    print(df)\n",
    "\n",
    "    poblacion_meta = [\"Refugiados/as y migrantes\", \"Comunidad de acogida\"]\n",
    "    ED6_01_RM_NA = int(df.loc[df['age_gender'] == 'NINAS'].iloc[0].value_a)\n",
    "    ED6_01_RM_NN = int(df.loc[df['age_gender'] == 'NINOS'].iloc[0].value_a)\n",
    "    ED6_01_RM_MM = int(df.loc[df['age_gender'] == 'ADULTAS'].iloc[0].value_a)\n",
    "    ED6_01_RM_HH = int(df.loc[df['age_gender'] == 'ADULTOS'].iloc[0].value_a)\n",
    "\n",
    "    dfCa = osmosys.osmosys.getCAValues(year=year, month=month, orgOsmosys=orgAcron,\n",
    "                                       indicatorsIdsOmosys=indicatorIdsOsmosys, cantonCode=cantonCode)\n",
    "    ED6_01_CA_NA = int(dfCa.loc[df['age_gender'] == 'NINAS'].iloc[0].value_a)\n",
    "    ED6_01_CA_NN = int(dfCa.loc[df['age_gender'] == 'NINOS'].iloc[0].value_a)\n",
    "    ED6_01_CA_MM = int(dfCa.loc[df['age_gender'] == 'ADULTAS'].iloc[0].value_a)\n",
    "    ED6_01_CA_HH = int(dfCa.loc[df['age_gender'] == 'ADULTOS'].iloc[0].value_a)\n",
    "\n",
    "    dfDiversidad = osmosys.osmosys.getRefLgbtiDiscapacitadosValues(year=year, month=month, orgOsmosys=orgAcron,\n",
    "                                                                       indicatorsIdsOmosys=indicatorIdsOsmosys,\n",
    "                                                                       cantonCode=cantonCode)\n",
    "    ED6_01_RM_DS = int(dfDiversidad.loc[(dfDiversidad['diversity_type'] == 'DISCAPACITADOS') & (\n",
    "                dfDiversidad['country_of_origin'] == 'VENEZUELA')].iloc[0].value_a)\n",
    "    ED6_01_CA_DS = int(dfDiversidad.loc[(dfDiversidad['diversity_type'] == 'DISCAPACITADOS') & (\n",
    "                dfDiversidad['country_of_origin'] == 'ECUADOR')].iloc[0].value_a)\n",
    "    commentary = osmosys.osmosys.getCommentary(year=year, month=month, orgOsmosys=orgAcron,\n",
    "                                               indicatorsIdsOmosys=indicatorIdsOsmosys).iloc[\n",
    "        0].value_a\n",
    "\n",
    "    subform = model.modelAI.SubFormED6_01(\n",
    "        mes=month_number,\n",
    "        colltmgkykvhxgij6=indicatorIdAI,\n",
    "        rmrp='Si',\n",
    "        covid='No',\n",
    "        poblacion_meta=poblacion_meta,\n",
    "        modalidad_impl='cmo12q1kykwwosjka',\n",
    "        ED6_01_RM_NA=ED6_01_RM_NA,\n",
    "        ED6_01_RM_NN=ED6_01_RM_NN,\n",
    "        ED6_01_RM_MM=ED6_01_RM_MM,\n",
    "        ED6_01_RM_HH=ED6_01_RM_HH,\n",
    "        ED6_01_RM_DS=ED6_01_RM_DS,\n",
    "        ED6_01_CA_NA=ED6_01_CA_NA,\n",
    "        ED6_01_CA_NN=ED6_01_CA_NN,\n",
    "        ED6_01_CA_MM=ED6_01_CA_MM,\n",
    "        ED6_01_CA_HH=ED6_01_CA_HH,\n",
    "        ED6_01_CA_DS=ED6_01_CA_DS,\n",
    "        ED6_01_CUAL=commentary\n",
    "    )\n",
    "    newId = generate_id()\n",
    "    newIds.append(newId)\n",
    "    record = model.modelAI.Record(formId=formIdAI, recordId=newId, parentRecordId=row['@id'], fields=subform)\n",
    "    changesList.append(record)\n",
    "print('changes to charge: ' + str(len(changesList)))"
   ],
   "metadata": {
    "collapsed": false,
    "pycharm": {
     "name": "#%%\n"
    }
   }
  },
  {
   "cell_type": "code",
   "execution_count": null,
   "outputs": [],
   "source": [
    "## creo respaldo\n",
    "changes = model.modelAI.Changes(changesList)\n",
    "finalJson = json.dumps(changes, default=model.modelAI.default)"
   ],
   "metadata": {
    "collapsed": false,
    "pycharm": {
     "name": "#%%\n"
    }
   }
  },
  {
   "cell_type": "code",
   "execution_count": 8,
   "outputs": [
    {
     "name": "stdout",
     "output_type": "stream",
     "text": [
      " creado respaldo: JUNIO\\data_ED6_01-[51].json\n"
     ]
    }
   ],
   "source": [
    "#open text file\n",
    "try:\n",
    "    os.mkdir(month)\n",
    "except Exception:\n",
    "    pass\n",
    "text_file = open(os.path.join(month, \"data_\" + indicatorCodeAI + '-' + str(indicatorIdsOsmosys) + \".json\"), \"w\")\n",
    "#write string to file\n",
    "n = text_file.write(finalJson)\n",
    "\n",
    "#close file\n",
    "text_file.close()\n",
    "print(\" creado respaldo: \" + text_file.name)\n",
    "newIdsDict = {\"newIds\": newIds}\n",
    "newIdsDf = pd.DataFrame(newIdsDict)\n",
    "newIdsDf.to_csv(os.path.join(month, \"new_ids_\" + indicatorCodeAI + \".csv\"))"
   ],
   "metadata": {
    "collapsed": false,
    "pycharm": {
     "name": "#%%\n"
    }
   }
  },
  {
   "cell_type": "code",
   "execution_count": 9,
   "outputs": [
    {
     "name": "stdout",
     "output_type": "stream",
     "text": [
      "--------------------------------------ED6_01-[51]------------------------------------------------------\n"
     ]
    }
   ],
   "source": [
    "## envio a AI\n",
    "if (test):\n",
    "    print(\n",
    "        '--------------------------------------' + indicatorCodeAI + '-' + str(\n",
    "            indicatorIdsOsmosys) + '------------------------------------------------------')\n",
    "else:\n",
    "    try:\n",
    "        if len(changesList) > 0:\n",
    "            print('se envia a AI')\n",
    "            client = Client(token=osmosys.osmosys.getToken(), base_url='https://www.activityinfo.org/resources')\n",
    "            client.post_resource(path='update', body=finalJson)\n",
    "            print(\n",
    "                '--------------------------------------' + indicatorCodeAI + '-' + str(\n",
    "                    indicatorIdsOsmosys) + '------------------------------------------------------')\n",
    "        else:\n",
    "            print('nada que enviar a AI')\n",
    "    except HTTPError as e:\n",
    "        code = e.response.status_code\n",
    "        print('error:')\n",
    "        print(code)\n",
    "\n",
    "        print(e)"
   ],
   "metadata": {
    "collapsed": false,
    "pycharm": {
     "name": "#%%\n"
    }
   }
  },
  {
   "cell_type": "code",
   "execution_count": null,
   "outputs": [],
   "source": [],
   "metadata": {
    "collapsed": false,
    "pycharm": {
     "name": "#%%\n"
    }
   }
  }
 ],
 "metadata": {
  "kernelspec": {
   "display_name": "Python 3",
   "language": "python",
   "name": "python3"
  },
  "language_info": {
   "codemirror_mode": {
    "name": "ipython",
    "version": 2
   },
   "file_extension": ".py",
   "mimetype": "text/x-python",
   "name": "python",
   "nbconvert_exporter": "python",
   "pygments_lexer": "ipython2",
   "version": "2.7.6"
  }
 },
 "nbformat": 4,
 "nbformat_minor": 0
}