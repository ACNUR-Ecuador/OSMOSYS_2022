{
 "cells": [
  {
   "cell_type": "code",
   "execution_count": 10,
   "outputs": [
    {
     "data": {
      "text/plain": "<module 'model.modelAI' from 'D:\\\\Proyectos\\\\OSMOSYS_2022\\\\IntegraciónAI\\\\AI_OsmosysIntegrationScripts\\\\model\\\\modelAI.py'>"
     },
     "execution_count": 10,
     "metadata": {},
     "output_type": "execute_result"
    }
   ],
   "source": [
    "import pandas as pd\n",
    "\n",
    "import osmosys.osmosys\n",
    "import activityinfo\n",
    "from activityinfo import Client\n",
    "from activityinfo import FormProcessing\n",
    "import importlib\n",
    "import model.modelAI\n",
    "from activityinfo.id import generate_id\n",
    "import json\n",
    "from requests.exceptions import HTTPError\n",
    "import os.path\n",
    "\n",
    "importlib.reload(osmosys.osmosys)\n",
    "importlib.reload(activityinfo.FormProcessing)\n",
    "importlib.reload(model.modelAI)"
   ],
   "metadata": {
    "collapsed": false,
    "pycharm": {
     "name": "#%%\n"
    }
   }
  },
  {
   "cell_type": "code",
   "execution_count": 6,
   "outputs": [
    {
     "name": "stdout",
     "output_type": "stream",
     "text": [
      "--------------------------------------PRVBG2_01------------------------------------------------------\n"
     ]
    }
   ],
   "source": [
    "## parameters\n",
    "indicatorCodeAI = 'PRVBG2_01'\n",
    "print(\n",
    "    '--------------------------------------' + indicatorCodeAI + '------------------------------------------------------')\n",
    "month = 'JUNIO'\n",
    "month_number = '2022-06'\n",
    "year = 2022\n",
    "test = True"
   ],
   "metadata": {
    "collapsed": false,
    "pycharm": {
     "name": "#%%\n"
    }
   }
  },
  {
   "cell_type": "code",
   "execution_count": 7,
   "outputs": [
    {
     "name": "stdout",
     "output_type": "stream",
     "text": [
      "formIdAI: cpahpzql4q3ommxdj\n",
      "parentFormIdAI: cqc8ug2l4q3ommxdz\n",
      "indicatorIdAI: c4g1gcukylzqu4n4l\n",
      "indicatorIdsOsmosys: [130]\n"
     ]
    }
   ],
   "source": [
    "# busco matchs\n",
    "subformDf = osmosys.osmosys.getMatchSubforms(indicatorCodeAI)\n",
    "## print(subformDf)\n",
    "indicatorIdsOsmosys = subformDf.osmosys_indicador_id.unique()\n",
    "subformSeries = subformDf.iloc[0]\n",
    "formIdAI = subformSeries.form_id\n",
    "parentFormIdAI = subformSeries.parent_form_id\n",
    "indicatorIdAI = subformSeries.indicator_id\n",
    "print(\"formIdAI: \" + formIdAI)\n",
    "print(\"parentFormIdAI: \" + parentFormIdAI)\n",
    "print(\"indicatorIdAI: \" + indicatorIdAI)\n",
    "print(\"indicatorIdsOsmosys: \" + str(indicatorIdsOsmosys))"
   ],
   "metadata": {
    "collapsed": false,
    "pycharm": {
     "name": "#%%\n"
    }
   }
  },
  {
   "cell_type": "code",
   "execution_count": 8,
   "outputs": [
    {
     "name": "stdout",
     "output_type": "stream",
     "text": [
      "reported data: 23\n"
     ]
    }
   ],
   "source": [
    "## consulto los datos reportados\n",
    "reportedDf = osmosys.osmosys.getIesPartnerCantonsByIndicatorsIdsOsmosysAndMonth(indicatorsIdsOmosys=indicatorIdsOsmosys,\n",
    "                                                                                month=month, year=year)\n",
    "print('reported data: ' + str(reportedDf.shape[0]))"
   ],
   "metadata": {
    "collapsed": false,
    "pycharm": {
     "name": "#%%\n"
    }
   }
  },
  {
   "cell_type": "code",
   "execution_count": 9,
   "outputs": [],
   "source": [
    "parentFormsIds = FormProcessing.getParentsIds(parentFormIdAI=parentFormIdAI, reportedDf=reportedDf)"
   ],
   "metadata": {
    "collapsed": false,
    "pycharm": {
     "name": "#%%\n"
    }
   }
  },
  {
   "cell_type": "code",
   "execution_count": 12,
   "outputs": [
    {
     "name": "stdout",
     "output_type": "stream",
     "text": [
      "changes to charge: 23\n"
     ]
    }
   ],
   "source": [
    "## contruyo las estructuras de datos\n",
    "changesList = []\n",
    "newIds = []\n",
    "for index, row in parentFormsIds.iterrows():\n",
    "    # print(row)\n",
    "    orgAcron = row.acronym\n",
    "    cantonCode = row.canton_code\n",
    "\n",
    "    poblacion_meta = ['Refugiados/as y migrantes', 'Comunidad de acogida']\n",
    "    modalidad_impl = 'cmo12q1kykwwosjka'  # servicios\n",
    "\n",
    "    df = osmosys.osmosys.getRefValues(year=year, month=month, orgOsmosys=orgAcron,\n",
    "                                      indicatorsIdsOmosys=indicatorIdsOsmosys, cantonCode=cantonCode)\n",
    "    dfDiversidad = osmosys.osmosys.getRefLgbtiDiscapacitadosValues(year=year, month=month, orgOsmosys=orgAcron,\n",
    "                                                                   indicatorsIdsOmosys=indicatorIdsOsmosys,\n",
    "                                                                   cantonCode=cantonCode)\n",
    "\n",
    "    dfCa = osmosys.osmosys.getCAValues(year=year, month=month, orgOsmosys=orgAcron,\n",
    "                                       indicatorsIdsOmosys=indicatorIdsOsmosys, cantonCode=cantonCode)\n",
    "\n",
    "    PRVBG2_01_RM_NA = int(df.loc[df['age_gender'] == 'NINAS'].iloc[0].value_a)\n",
    "    PRVBG2_01_RM_NN = int(df.loc[df['age_gender'] == 'NINOS'].iloc[0].value_a)\n",
    "    PRVBG2_01_RM_MM = int(df.loc[df['age_gender'] == 'ADULTAS'].iloc[0].value_a)\n",
    "    PRVBG2_01_RM_HH = int(df.loc[df['age_gender'] == 'ADULTOS'].iloc[0].value_a)\n",
    "    PRVBG2_01_RM_OTR = int(df.loc[df['age_gender'] == 'OTRO'].iloc[0].value_a)\n",
    "    PRVBG2_01_RM_LGBT = int(dfDiversidad.loc[(dfDiversidad['diversity_type'] == 'LGBTI') & (\n",
    "            dfDiversidad['country_of_origin'] == 'VENEZUELA')].iloc[0].value_a)\n",
    "    PRVBG2_01_RM_DS = int(dfDiversidad.loc[(dfDiversidad['diversity_type'] == 'DISCAPACITADOS') & (\n",
    "            dfDiversidad['country_of_origin'] == 'VENEZUELA')].iloc[0].value_a)\n",
    "    PRVBG2_01_CA_NA = int(dfCa.loc[df['age_gender'] == 'NINAS'].iloc[0].value_a)\n",
    "    PRVBG2_01_CA_NN = int(dfCa.loc[df['age_gender'] == 'NINOS'].iloc[0].value_a)\n",
    "    PRVBG2_01_CA_MM = int(dfCa.loc[df['age_gender'] == 'ADULTAS'].iloc[0].value_a)\n",
    "    PRVBG2_01_CA_HH = int(dfCa.loc[df['age_gender'] == 'ADULTOS'].iloc[0].value_a)\n",
    "    PRVBG2_01_CA_OTR = int(dfCa.loc[df['age_gender'] == 'OTRO'].iloc[0].value_a)\n",
    "    PRVBG2_01_CA_LGBT = int(dfDiversidad.loc[(dfDiversidad['diversity_type'] == 'LGBTI') & (\n",
    "            dfDiversidad['country_of_origin'] == 'ECUADOR')].iloc[0].value_a)\n",
    "    PRVBG2_01_CA_DS = int(dfDiversidad.loc[(dfDiversidad['diversity_type'] == 'DISCAPACITADOS') & (\n",
    "            dfDiversidad['country_of_origin'] == 'ECUADOR')].iloc[0].value_a)\n",
    "    PRVBG2_01_CUAL = osmosys.osmosys.getCommentary(year=year, month=month, orgOsmosys=orgAcron,\n",
    "                                                   indicatorsIdsOmosys=indicatorIdsOsmosys).iloc[\n",
    "        0].value_a\n",
    "\n",
    "    subform = model.modelAI.SubFormPRVBG2_01(\n",
    "        mes=month_number,\n",
    "        colltmgkykvhxgij6=indicatorIdAI,\n",
    "        rmrp='Si',\n",
    "        covid='No',\n",
    "        poblacion_meta=poblacion_meta,\n",
    "        modalidad_impl=modalidad_impl,\n",
    "        PRVBG2_01_RM_NA=PRVBG2_01_RM_NA,\n",
    "        PRVBG2_01_RM_NN=PRVBG2_01_RM_NN,\n",
    "        PRVBG2_01_RM_MM=PRVBG2_01_RM_MM,\n",
    "        PRVBG2_01_RM_HH=PRVBG2_01_RM_HH,\n",
    "        PRVBG2_01_RM_OTR=PRVBG2_01_RM_OTR,\n",
    "        PRVBG2_01_RM_LGBT=PRVBG2_01_RM_LGBT,\n",
    "        PRVBG2_01_RM_DS=PRVBG2_01_RM_DS,\n",
    "        PRVBG2_01_CA_NA=PRVBG2_01_CA_NA,\n",
    "        PRVBG2_01_CA_NN=PRVBG2_01_CA_NN,\n",
    "        PRVBG2_01_CA_MM=PRVBG2_01_CA_MM,\n",
    "        PRVBG2_01_CA_HH=PRVBG2_01_CA_HH,\n",
    "        PRVBG2_01_CA_OTR=PRVBG2_01_CA_OTR,\n",
    "        PRVBG2_01_CA_LGBT=PRVBG2_01_CA_LGBT,\n",
    "        PRVBG2_01_CA_DS=PRVBG2_01_CA_DS,\n",
    "        PRVBG2_01_CUAL=PRVBG2_01_CUAL\n",
    "    )\n",
    "\n",
    "    newId = generate_id()\n",
    "    newIds.append(newId)\n",
    "    record = model.modelAI.Record(formId=formIdAI, recordId=newId, parentRecordId=row['@id'], fields=subform)\n",
    "    changesList.append(record)\n",
    "\n",
    "print('changes to charge: ' + str(len(changesList)))"
   ],
   "metadata": {
    "collapsed": false,
    "pycharm": {
     "name": "#%%\n"
    }
   }
  },
  {
   "cell_type": "code",
   "execution_count": 13,
   "outputs": [
    {
     "name": "stdout",
     "output_type": "stream",
     "text": [
      " creado respaldo: JUNIO\\data_PRVBG2_01.json\n"
     ]
    }
   ],
   "source": [
    "## creo respaldo\n",
    "changes = model.modelAI.Changes(changesList)\n",
    "finalJson = json.dumps(changes, default=model.modelAI.default)\n",
    "#open text file\n",
    "try:\n",
    "    os.mkdir(month)\n",
    "except Exception:\n",
    "    pass\n",
    "text_file = open(os.path.join(month,\"data_\" + indicatorCodeAI + \".json\"), \"w\")\n",
    "#write string to file\n",
    "n = text_file.write(finalJson)\n",
    "\n",
    "#close file\n",
    "text_file.close()\n",
    "print(\" creado respaldo: \"+text_file.name)\n",
    "newIdsDict= { \"newIds\": newIds}\n",
    "newIdsDf=pd.DataFrame(newIdsDict)\n",
    "newIdsDf.to_csv(os.path.join(month,\"new_ids_\" + indicatorCodeAI + \".csv\"))"
   ],
   "metadata": {
    "collapsed": false,
    "pycharm": {
     "name": "#%%\n"
    }
   }
  },
  {
   "cell_type": "code",
   "execution_count": 14,
   "outputs": [
    {
     "name": "stdout",
     "output_type": "stream",
     "text": [
      "--------------------------------------PRVBG2_01------------------------------------------------------\n"
     ]
    }
   ],
   "source": [
    "## envio a AI\n",
    "if (test):\n",
    "    print('--------------------------------------'+indicatorCodeAI+'------------------------------------------------------')\n",
    "else:\n",
    "    try:\n",
    "        if len(changesList) > 0:\n",
    "            print('se envia a AI')\n",
    "            client = Client(token=osmosys.osmosys.getToken(), base_url='https://www.activityinfo.org/resources')\n",
    "            client.post_resource(path='update', body=finalJson)\n",
    "            print(\n",
    "                '--------------------------------------' + indicatorCodeAI + '------------------------------------------------------')\n",
    "        else:\n",
    "            print('nada que enviar a AI')\n",
    "    except HTTPError as e:\n",
    "        code = e.response.status_code\n",
    "        print('error:')\n",
    "        print(code)\n",
    "\n",
    "        print(e)"
   ],
   "metadata": {
    "collapsed": false,
    "pycharm": {
     "name": "#%%\n"
    }
   }
  },
  {
   "cell_type": "code",
   "execution_count": null,
   "outputs": [],
   "source": [],
   "metadata": {
    "collapsed": false,
    "pycharm": {
     "name": "#%%\n"
    }
   }
  }
 ],
 "metadata": {
  "kernelspec": {
   "display_name": "Python 3",
   "language": "python",
   "name": "python3"
  },
  "language_info": {
   "codemirror_mode": {
    "name": "ipython",
    "version": 2
   },
   "file_extension": ".py",
   "mimetype": "text/x-python",
   "name": "python",
   "nbconvert_exporter": "python",
   "pygments_lexer": "ipython2",
   "version": "2.7.6"
  }
 },
 "nbformat": 4,
 "nbformat_minor": 0
}