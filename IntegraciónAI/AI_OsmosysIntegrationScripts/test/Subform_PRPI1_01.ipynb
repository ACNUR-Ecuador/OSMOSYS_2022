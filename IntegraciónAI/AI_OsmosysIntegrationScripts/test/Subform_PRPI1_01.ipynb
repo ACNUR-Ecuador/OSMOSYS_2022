{
 "cells": [
  {
   "cell_type": "code",
   "execution_count": 39,
   "metadata": {
    "collapsed": true,
    "pycharm": {
     "name": "#%%\n"
    }
   },
   "outputs": [
    {
     "data": {
      "text/plain": "<module 'model.modelAI' from 'D:\\\\Proyectos\\\\OSMOSYS_2022\\\\IntegraciónAI\\\\AI_OsmosysIntegrationScripts\\\\model\\\\modelAI.py'>"
     },
     "execution_count": 39,
     "metadata": {},
     "output_type": "execute_result"
    }
   ],
   "source": [
    "import pandas as pd\n",
    "\n",
    "import osmosys.osmosys\n",
    "import activityinfo\n",
    "from activityinfo import Client\n",
    "from activityinfo import FormProcessing\n",
    "import importlib\n",
    "import model.modelAI\n",
    "from activityinfo.id import generate_id\n",
    "import json\n",
    "from requests.exceptions import HTTPError\n",
    "import os.path\n",
    "\n",
    "importlib.reload(osmosys.osmosys)\n",
    "importlib.reload(activityinfo.FormProcessing)\n",
    "importlib.reload(model.modelAI)"
   ]
  },
  {
   "cell_type": "code",
   "execution_count": 40,
   "outputs": [
    {
     "name": "stdout",
     "output_type": "stream",
     "text": [
      "--------------------------------------PRPI1_01------------------------------------------------------\n"
     ]
    }
   ],
   "source": [
    "## parameters\n",
    "indicatorCodeAI = 'PRPI1_01'\n",
    "month = 'JUNIO'\n",
    "month_number = '2022-06'\n",
    "year = 2022\n",
    "test = True\n",
    "print(\n",
    "    '--------------------------------------' + indicatorCodeAI + '------------------------------------------------------')\n"
   ],
   "metadata": {
    "collapsed": false,
    "pycharm": {
     "name": "#%%\n"
    }
   }
  },
  {
   "cell_type": "code",
   "execution_count": 41,
   "outputs": [
    {
     "name": "stdout",
     "output_type": "stream",
     "text": [
      "formIdAI: clsgys9l4q3ommxdv\n",
      "parentFormIdAI: cr62ru9l4q3ommxdt\n",
      "indicatorIdAI: cjo64mykylzqu4p4r\n",
      "indicatorIdsOsmosys: [85 35]\n"
     ]
    }
   ],
   "source": [
    "# busco matchs\n",
    "subformDf = osmosys.osmosys.getMatchSubforms(indicatorCodeAI)\n",
    "## print(subformDf)\n",
    "indicatorIdsOsmosys = subformDf.osmosys_indicador_id.unique()\n",
    "subformSeries = subformDf.iloc[0]\n",
    "formIdAI = subformSeries.form_id\n",
    "parentFormIdAI = subformSeries.parent_form_id\n",
    "indicatorIdAI = subformSeries.indicator_id\n",
    "print(\"formIdAI: \" + formIdAI)\n",
    "print(\"parentFormIdAI: \" + parentFormIdAI)\n",
    "print(\"indicatorIdAI: \" + indicatorIdAI)\n",
    "print(\"indicatorIdsOsmosys: \" + str(indicatorIdsOsmosys))"
   ],
   "metadata": {
    "collapsed": false,
    "pycharm": {
     "name": "#%%\n"
    }
   }
  },
  {
   "cell_type": "code",
   "execution_count": 42,
   "outputs": [
    {
     "name": "stdout",
     "output_type": "stream",
     "text": [
      "reported data: 6\n"
     ]
    }
   ],
   "source": [
    "## consulto los datos reportados\n",
    "reportedDf = osmosys.osmosys.getIesPartnerCantonsByIndicatorsIdsOsmosysAndMonth(indicatorsIdsOmosys=indicatorIdsOsmosys,\n",
    "                                                                                month=month, year=year)\n",
    "print('reported data: ' + str(reportedDf.shape[0]))\n"
   ],
   "metadata": {
    "collapsed": false,
    "pycharm": {
     "name": "#%%\n"
    }
   }
  },
  {
   "cell_type": "code",
   "execution_count": 43,
   "outputs": [],
   "source": [
    "## obtengo los parents de AI\n",
    "parentFormsIds = FormProcessing.getParentsIds(parentFormIdAI=parentFormIdAI, reportedDf=reportedDf)"
   ],
   "metadata": {
    "collapsed": false,
    "pycharm": {
     "name": "#%%\n"
    }
   }
  },
  {
   "cell_type": "code",
   "execution_count": 44,
   "outputs": [
    {
     "name": "stdout",
     "output_type": "stream",
     "text": [
      "changes to charge: 3\n"
     ]
    }
   ],
   "source": [
    "## 2 fuentes por separado indicador 35\n",
    "indicatorIdsOsmosys35 = [35]\n",
    "## contruyo las estructuras de datos\n",
    "changesList = []\n",
    "newIds = []\n",
    "for index, row in parentFormsIds.iterrows():\n",
    "    # print(row)\n",
    "    orgAcron = row.acronym\n",
    "    cantonCode = row.canton_code\n",
    "    df = osmosys.osmosys.getRefValues(year=year, month=month, orgOsmosys=orgAcron,\n",
    "                                      indicatorsIdsOmosys=indicatorIdsOsmosys35, cantonCode=cantonCode)\n",
    "\n",
    "    poblacion_meta = ['Refugiados/as y migrantes', 'Comunidad de acogida']\n",
    "\n",
    "    PRPI1_01_RM_NA = int(df.loc[df['age_gender'] == 'NINAS'].iloc[0].value_a)\n",
    "    PRPI1_01_RM_NN = int(df.loc[df['age_gender'] == 'NINOS'].iloc[0].value_a)\n",
    "    PRPI1_01_RM_OTR = int(df.loc[df['age_gender'] == 'OTRO'].iloc[0].value_a)\n",
    "    dfDiversidad = osmosys.osmosys.getRefLgbtiDiscapacitadosValues(year=year, month=month, orgOsmosys=orgAcron,\n",
    "                                                                   indicatorsIdsOmosys=indicatorIdsOsmosys35,\n",
    "                                                                   cantonCode=cantonCode)\n",
    "    PRPI1_01_RM_LGBT = int(dfDiversidad.loc[(dfDiversidad['diversity_type'] == 'LGBTI') & (\n",
    "            dfDiversidad['country_of_origin'] == 'VENEZUELA')].iloc[0].value_a)\n",
    "    PRPI1_01_RM_DS = int(dfDiversidad.loc[(dfDiversidad['diversity_type'] == 'DISCAPACITADOS') & (\n",
    "            dfDiversidad['country_of_origin'] == 'VENEZUELA')].iloc[0].value_a)\n",
    "\n",
    "    dfCa = osmosys.osmosys.getCAValues(year=year, month=month, orgOsmosys=orgAcron,\n",
    "                                       indicatorsIdsOmosys=indicatorIdsOsmosys35, cantonCode=cantonCode)\n",
    "    PRPI1_01_CA_NA = int(dfCa.loc[df['age_gender'] == 'NINAS'].iloc[0].value_a)\n",
    "    PRPI1_01_CA_NN = int(dfCa.loc[df['age_gender'] == 'NINOS'].iloc[0].value_a)\n",
    "    PRPI1_01_CA_OTR = int(dfCa.loc[df['age_gender'] == 'OTRO'].iloc[0].value_a)\n",
    "\n",
    "    PRPI1_01_CA_LGBT = int(dfDiversidad.loc[(dfDiversidad['diversity_type'] == 'LGBTI') & (\n",
    "            dfDiversidad['country_of_origin'] == 'ECUADOR')].iloc[0].value_a)\n",
    "    PRPI1_01_CA_DS = int(dfDiversidad.loc[(dfDiversidad['diversity_type'] == 'DISCAPACITADOS') & (\n",
    "            dfDiversidad['country_of_origin'] == 'ECUADOR')].iloc[0].value_a)\n",
    "    PRPI1_01_CUAL = commentary = osmosys.osmosys.getCommentary(year=year, month=month, orgOsmosys=orgAcron,\n",
    "                                                               indicatorsIdsOmosys=indicatorIdsOsmosys35).iloc[\n",
    "        0].value_a\n",
    "\n",
    "    subform = model.modelAI.SubFormPRPI1_01_35(\n",
    "        mes=month_number,\n",
    "        colltmgkykvhxgij6=indicatorIdAI,\n",
    "        rmrp='Si',\n",
    "        covid='No',\n",
    "        espacion_apoyo='No',\n",
    "        poblacion_meta=poblacion_meta,\n",
    "        modalidad_impl='cmo12q1kykwwosjka',  ## servicio\n",
    "        PRPI1_01_RM_NA=PRPI1_01_RM_NA,\n",
    "        PRPI1_01_RM_NN=PRPI1_01_RM_NN,\n",
    "        PRPI1_01_RM_OTR=PRPI1_01_RM_OTR,\n",
    "        PRPI1_01_RM_LGBT=PRPI1_01_RM_LGBT,\n",
    "        PRPI1_01_RM_DS=PRPI1_01_RM_DS,\n",
    "        PRPI1_01_CA_NA=PRPI1_01_CA_NA,\n",
    "        PRPI1_01_CA_NN=PRPI1_01_CA_NN,\n",
    "        PRPI1_01_CA_OTR=PRPI1_01_CA_OTR,\n",
    "        PRPI1_01_CA_LGBT=PRPI1_01_CA_LGBT,\n",
    "        PRPI1_01_CA_DS=PRPI1_01_CA_DS,\n",
    "        PRPI1_01_CUAL=PRPI1_01_CUAL\n",
    "    )\n",
    "    newId = generate_id()\n",
    "    newIds.append(newId)\n",
    "    record = model.modelAI.Record(formId=formIdAI, recordId=newId, parentRecordId=row['@id'], fields=subform)\n",
    "    changesList.append(record)\n",
    "print('changes to charge: ' + str(len(changesList)))"
   ],
   "metadata": {
    "collapsed": false,
    "pycharm": {
     "name": "#%%\n"
    }
   }
  },
  {
   "cell_type": "code",
   "execution_count": 45,
   "outputs": [
    {
     "name": "stdout",
     "output_type": "stream",
     "text": [
      "changes to charge: 6\n"
     ]
    }
   ],
   "source": [
    "indicatorIdsOsmosys85 = [85]\n",
    "## contruyo las estructuras de datos\n",
    "for index, row in parentFormsIds.iterrows():\n",
    "    # print(row)\n",
    "    orgAcron = row.acronym\n",
    "    cantonCode = row.canton_code\n",
    "    df = osmosys.osmosys.getRefValues(year=year, month=month, orgOsmosys=orgAcron,\n",
    "                                      indicatorsIdsOmosys=indicatorIdsOsmosys85, cantonCode=cantonCode)\n",
    "\n",
    "    poblacion_meta = ['Refugiados/as y migrantes', 'Comunidad de acogida']\n",
    "\n",
    "    PRPI1_01_RM_NA = int(df.loc[df['age_gender'] == 'NINAS'].iloc[0].value_a)\n",
    "    PRPI1_01_RM_NN = int(df.loc[df['age_gender'] == 'NINOS'].iloc[0].value_a)\n",
    "    PRPI1_01_RM_OTR = int(df.loc[df['age_gender'] == 'OTRO'].iloc[0].value_a)\n",
    "    dfDiversidad = osmosys.osmosys.getRefLgbtiDiscapacitadosValues(year=year, month=month, orgOsmosys=orgAcron,\n",
    "                                                                   indicatorsIdsOmosys=indicatorIdsOsmosys85,\n",
    "                                                                   cantonCode=cantonCode)\n",
    "    PRPI1_01_RM_LGBT = int(dfDiversidad.loc[(dfDiversidad['diversity_type'] == 'LGBTI') & (\n",
    "            dfDiversidad['country_of_origin'] == 'VENEZUELA')].iloc[0].value_a)\n",
    "    PRPI1_01_RM_DS = int(dfDiversidad.loc[(dfDiversidad['diversity_type'] == 'DISCAPACITADOS') & (\n",
    "            dfDiversidad['country_of_origin'] == 'VENEZUELA')].iloc[0].value_a)\n",
    "\n",
    "    dfCa = osmosys.osmosys.getCAValues(year=year, month=month, orgOsmosys=orgAcron,\n",
    "                                       indicatorsIdsOmosys=indicatorIdsOsmosys85, cantonCode=cantonCode)\n",
    "    PRPI1_01_CA_NA = int(dfCa.loc[df['age_gender'] == 'NINAS'].iloc[0].value_a)\n",
    "    PRPI1_01_CA_NN = int(dfCa.loc[df['age_gender'] == 'NINOS'].iloc[0].value_a)\n",
    "    PRPI1_01_CA_OTR = int(dfCa.loc[df['age_gender'] == 'OTRO'].iloc[0].value_a)\n",
    "\n",
    "    PRPI1_01_CA_LGBT = int(dfDiversidad.loc[(dfDiversidad['diversity_type'] == 'LGBTI') & (\n",
    "            dfDiversidad['country_of_origin'] == 'ECUADOR')].iloc[0].value_a)\n",
    "    PRPI1_01_CA_DS = int(dfDiversidad.loc[(dfDiversidad['diversity_type'] == 'DISCAPACITADOS') & (\n",
    "            dfDiversidad['country_of_origin'] == 'ECUADOR')].iloc[0].value_a)\n",
    "    PRPI1_01_CUAL = commentary = osmosys.osmosys.getCommentary(year=year, month=month, orgOsmosys=orgAcron,\n",
    "                                                               indicatorsIdsOmosys=indicatorIdsOsmosys85).iloc[\n",
    "        0].value_a\n",
    "    usd_transfer = int(osmosys.osmosys.getCBIBudget(year=year, month=month, orgOsmosys=orgAcron,\n",
    "                                                    indicatorsIdsOmosys=indicatorIdsOsmosys85,\n",
    "                                                    cantonCode=cantonCode).iloc[0].budget)\n",
    "    subform = model.modelAI.SubFormPRPI1_01_85(\n",
    "        mes=month_number,\n",
    "        colltmgkykvhxgij6=indicatorIdAI,\n",
    "        rmrp='Si',\n",
    "        covid='No',\n",
    "        espacion_apoyo='No',\n",
    "        poblacion_meta=poblacion_meta,\n",
    "        modalidad_impl='cmo12q1kykwwosjka',  ## servicio\n",
    "        mecanismos='c6gspwxkym0dbinm',\n",
    "        transferencia='cib4u00kym0ixwew',\n",
    "        usd_transfer=usd_transfer,\n",
    "        PRPI1_01_RM_NA=PRPI1_01_RM_NA,\n",
    "        PRPI1_01_RM_NN=PRPI1_01_RM_NN,\n",
    "        PRPI1_01_RM_OTR=PRPI1_01_RM_OTR,\n",
    "        PRPI1_01_RM_LGBT=PRPI1_01_RM_LGBT,\n",
    "        PRPI1_01_RM_DS=PRPI1_01_RM_DS,\n",
    "        PRPI1_01_CA_NA=PRPI1_01_CA_NA,\n",
    "        PRPI1_01_CA_NN=PRPI1_01_CA_NN,\n",
    "        PRPI1_01_CA_OTR=PRPI1_01_CA_OTR,\n",
    "        PRPI1_01_CA_LGBT=PRPI1_01_CA_LGBT,\n",
    "        PRPI1_01_CA_DS=PRPI1_01_CA_DS,\n",
    "        PRPI1_01_CUAL=PRPI1_01_CUAL\n",
    "    )\n",
    "\n",
    "    newId = generate_id()\n",
    "    newIds.append(newId)\n",
    "    record = model.modelAI.Record(formId=formIdAI, recordId=newId, parentRecordId=row['@id'], fields=subform)\n",
    "    changesList.append(record)\n",
    "print('changes to charge: ' + str(len(changesList)))"
   ],
   "metadata": {
    "collapsed": false,
    "pycharm": {
     "name": "#%%\n"
    }
   }
  },
  {
   "cell_type": "code",
   "execution_count": 46,
   "outputs": [
    {
     "name": "stdout",
     "output_type": "stream",
     "text": [
      "{\"changes\": [{\"formId\": \"clsgys9l4q3ommxdv\", \"recordId\": \"cl5j44bac000o8onmxlt127kg\", \"parentRecordId\": \"cl52k2v5o00oxl4nm7zg8ggs2\", \"fields\": {\"mes\": \"2022-06\", \"colltmgkykvhxgij6\": \"cjo64mykylzqu4p4r\", \"rmrp\": \"Si\", \"covid\": \"No\", \"espacion_apoyo\": \"No\", \"poblacion_meta\": [\"Refugiados/as y migrantes\", \"Comunidad de acogida\"], \"modalidad_impl\": \"cmo12q1kykwwosjka\", \"PRPI1_01_RM_NA\": 1, \"PRPI1_01_RM_NN\": 1, \"PRPI1_01_RM_OTR\": 0, \"PRPI1_01_RM_LGBT\": 0, \"PRPI1_01_RM_DS\": 0, \"PRPI1_01_CA_NA\": 0, \"PRPI1_01_CA_NN\": 0, \"PRPI1_01_CA_OTR\": 0, \"PRPI1_01_CA_LGBT\": 0, \"PRPI1_01_CA_DS\": 0, \"PRPI1_01_CUAL\": \"Ibarra: Se realiza el abordaje de 4 adolescentes (3 mujeres y 1 hombre), 3 casos fueron referidos por HIAS y 1 por la DP. Tulc\\u00e1n: Durante el mes de junio se realizan dos ingresos  Se mantiene el acompa\\u00f1amiento a 6 adolescentes durante el mes de junio incluidos los nuevos ingresos\"}}, {\"formId\": \"clsgys9l4q3ommxdv\", \"recordId\": \"cl5j44d8i000p8onmc3qgmv7f\", \"parentRecordId\": \"cl52k2v5o00ozl4nmljwtodtl\", \"fields\": {\"mes\": \"2022-06\", \"colltmgkykvhxgij6\": \"cjo64mykylzqu4p4r\", \"rmrp\": \"Si\", \"covid\": \"No\", \"espacion_apoyo\": \"No\", \"poblacion_meta\": [\"Refugiados/as y migrantes\", \"Comunidad de acogida\"], \"modalidad_impl\": \"cmo12q1kykwwosjka\", \"PRPI1_01_RM_NA\": 3, \"PRPI1_01_RM_NN\": 1, \"PRPI1_01_RM_OTR\": 0, \"PRPI1_01_RM_LGBT\": 0, \"PRPI1_01_RM_DS\": 0, \"PRPI1_01_CA_NA\": 0, \"PRPI1_01_CA_NN\": 0, \"PRPI1_01_CA_OTR\": 0, \"PRPI1_01_CA_LGBT\": 0, \"PRPI1_01_CA_DS\": 0, \"PRPI1_01_CUAL\": \"Ibarra: Se realiza el abordaje de 4 adolescentes (3 mujeres y 1 hombre), 3 casos fueron referidos por HIAS y 1 por la DP. Tulc\\u00e1n: Durante el mes de junio se realizan dos ingresos  Se mantiene el acompa\\u00f1amiento a 6 adolescentes durante el mes de junio incluidos los nuevos ingresos\"}}, {\"formId\": \"clsgys9l4q3ommxdv\", \"recordId\": \"cl5j44f34000q8onm9ooc3u5x\", \"parentRecordId\": \"chuqttwkzcxucpy3\", \"fields\": {\"mes\": \"2022-06\", \"colltmgkykvhxgij6\": \"cjo64mykylzqu4p4r\", \"rmrp\": \"Si\", \"covid\": \"No\", \"espacion_apoyo\": \"No\", \"poblacion_meta\": [\"Refugiados/as y migrantes\", \"Comunidad de acogida\"], \"modalidad_impl\": \"cmo12q1kykwwosjka\", \"PRPI1_01_RM_NA\": 8, \"PRPI1_01_RM_NN\": 7, \"PRPI1_01_RM_OTR\": 0, \"PRPI1_01_RM_LGBT\": 1, \"PRPI1_01_RM_DS\": 0, \"PRPI1_01_CA_NA\": 0, \"PRPI1_01_CA_NN\": 1, \"PRPI1_01_CA_OTR\": 0, \"PRPI1_01_CA_LGBT\": 1, \"PRPI1_01_CA_DS\": 0, \"PRPI1_01_CUAL\": \"Durante el mes de junio se atendi\\u00f3 a 21 NNA mismos que fueron apoyados e incorporados a las modalidades de atenci\\u00f3n que maneja ASA.\"}}, {\"formId\": \"clsgys9l4q3ommxdv\", \"recordId\": \"cl5j44hcv000r8onmnrd8g87d\", \"parentRecordId\": \"cl52k2v5o00oxl4nm7zg8ggs2\", \"fields\": {\"mes\": \"2022-06\", \"colltmgkykvhxgij6\": \"cjo64mykylzqu4p4r\", \"rmrp\": \"Si\", \"covid\": \"No\", \"espacion_apoyo\": \"No\", \"poblacion_meta\": [\"Refugiados/as y migrantes\", \"Comunidad de acogida\"], \"modalidad_impl\": \"cmo12q1kykwwosjka\", \"mecanismos\": \"c6gspwxkym0dbinm\", \"transferencia\": \"cib4u00kym0ixwew\", \"usd_transfer\": 4880, \"PRPI1_01_RM_NA\": 1, \"PRPI1_01_RM_NN\": 1, \"PRPI1_01_RM_OTR\": 0, \"PRPI1_01_RM_LGBT\": 0, \"PRPI1_01_RM_DS\": 0, \"PRPI1_01_CA_NA\": 0, \"PRPI1_01_CA_NN\": 0, \"PRPI1_01_CA_OTR\": 0, \"PRPI1_01_CA_LGBT\": 0, \"PRPI1_01_CA_DS\": 0, \"PRPI1_01_CUAL\": \"Tulc\\u00e1n: 2 ingresos nuevos reciben CBI de  instalaci\\u00f3n y manutenci\\u00f3n.  Ibarra: 3 ingresos nuevos reciben CBI de instalaci\\u00f3n y manutenci\\u00f3n. \"}}, {\"formId\": \"clsgys9l4q3ommxdv\", \"recordId\": \"cl5j44jog000s8onm4hx3njrw\", \"parentRecordId\": \"cl52k2v5o00ozl4nmljwtodtl\", \"fields\": {\"mes\": \"2022-06\", \"colltmgkykvhxgij6\": \"cjo64mykylzqu4p4r\", \"rmrp\": \"Si\", \"covid\": \"No\", \"espacion_apoyo\": \"No\", \"poblacion_meta\": [\"Refugiados/as y migrantes\", \"Comunidad de acogida\"], \"modalidad_impl\": \"cmo12q1kykwwosjka\", \"mecanismos\": \"c6gspwxkym0dbinm\", \"transferencia\": \"cib4u00kym0ixwew\", \"usd_transfer\": 7320, \"PRPI1_01_RM_NA\": 3, \"PRPI1_01_RM_NN\": 0, \"PRPI1_01_RM_OTR\": 0, \"PRPI1_01_RM_LGBT\": 0, \"PRPI1_01_RM_DS\": 0, \"PRPI1_01_CA_NA\": 0, \"PRPI1_01_CA_NN\": 0, \"PRPI1_01_CA_OTR\": 0, \"PRPI1_01_CA_LGBT\": 0, \"PRPI1_01_CA_DS\": 0, \"PRPI1_01_CUAL\": \"Tulc\\u00e1n: 2 ingresos nuevos reciben CBI de  instalaci\\u00f3n y manutenci\\u00f3n.  Ibarra: 3 ingresos nuevos reciben CBI de instalaci\\u00f3n y manutenci\\u00f3n. \"}}, {\"formId\": \"clsgys9l4q3ommxdv\", \"recordId\": \"cl5j44lzy000t8onmo5wvtexl\", \"parentRecordId\": \"chuqttwkzcxucpy3\", \"fields\": {\"mes\": \"2022-06\", \"colltmgkykvhxgij6\": \"cjo64mykylzqu4p4r\", \"rmrp\": \"Si\", \"covid\": \"No\", \"espacion_apoyo\": \"No\", \"poblacion_meta\": [\"Refugiados/as y migrantes\", \"Comunidad de acogida\"], \"modalidad_impl\": \"cmo12q1kykwwosjka\", \"mecanismos\": \"c6gspwxkym0dbinm\", \"transferencia\": \"cib4u00kym0ixwew\", \"usd_transfer\": 110, \"PRPI1_01_RM_NA\": 7, \"PRPI1_01_RM_NN\": 2, \"PRPI1_01_RM_OTR\": 0, \"PRPI1_01_RM_LGBT\": 0, \"PRPI1_01_RM_DS\": 0, \"PRPI1_01_CA_NA\": 0, \"PRPI1_01_CA_NN\": 0, \"PRPI1_01_CA_OTR\": 0, \"PRPI1_01_CA_LGBT\": 0, \"PRPI1_01_CA_DS\": 0, \"PRPI1_01_CUAL\": \"En el mes de mayo se entrega $10,00 de movilizaci\\u00f3n a 11 NNA . El monto se entrega como CBI para uso de los NNA en todas las actividades que realicen durante el mes: compra de alimento, entrevistas, temas de salud, educaci\\u00f3n o laboral.\"}}]}\n"
     ]
    }
   ],
   "source": [
    "## creo respaldo\n",
    "changes = model.modelAI.Changes(changesList)\n",
    "finalJson = json.dumps(changes, default=model.modelAI.default)\n",
    "print(finalJson)"
   ],
   "metadata": {
    "collapsed": false,
    "pycharm": {
     "name": "#%%\n"
    }
   }
  },
  {
   "cell_type": "code",
   "execution_count": 47,
   "outputs": [
    {
     "name": "stdout",
     "output_type": "stream",
     "text": [
      " creado respaldo: JUNIO\\data_PRPI1_01.json\n"
     ]
    }
   ],
   "source": [
    "#open text file\n",
    "try:\n",
    "    os.mkdir(month)\n",
    "except Exception:\n",
    "    pass\n",
    "text_file = open(os.path.join(month, \"data_\" + indicatorCodeAI + \".json\"), \"w\")\n",
    "#write string to file\n",
    "n = text_file.write(finalJson)\n",
    "\n",
    "#close file\n",
    "text_file.close()\n",
    "print(\" creado respaldo: \" + text_file.name)\n",
    "newIdsDict = {\"newIds\": newIds}\n",
    "newIdsDf = pd.DataFrame(newIdsDict)\n",
    "newIdsDf.to_csv(os.path.join(month, \"new_ids_\" + indicatorCodeAI + \".csv\"))"
   ],
   "metadata": {
    "collapsed": false,
    "pycharm": {
     "name": "#%%\n"
    }
   }
  },
  {
   "cell_type": "code",
   "execution_count": 48,
   "outputs": [
    {
     "name": "stdout",
     "output_type": "stream",
     "text": [
      "--------------------------------------PRPI1_01------------------------------------------------------\n"
     ]
    }
   ],
   "source": [
    "## envio a AI\n",
    "if (test):\n",
    "    print(\n",
    "        '--------------------------------------' + indicatorCodeAI + '------------------------------------------------------')\n",
    "else:\n",
    "    try:\n",
    "        if len(changesList) > 0:\n",
    "            print('se envia a AI')\n",
    "            client = Client(token=osmosys.osmosys.getToken(), base_url='https://www.activityinfo.org/resources')\n",
    "            client.post_resource(path='update', body=finalJson)\n",
    "            print(\n",
    "                '--------------------------------------' + indicatorCodeAI + '------------------------------------------------------')\n",
    "        else:\n",
    "            print('nada que enviar a AI')\n",
    "    except HTTPError as e:\n",
    "        code = e.response.status_code\n",
    "        print('error:')\n",
    "        print(code)\n",
    "\n",
    "        print(e)"
   ],
   "metadata": {
    "collapsed": false,
    "pycharm": {
     "name": "#%%\n"
    }
   }
  }
 ],
 "metadata": {
  "kernelspec": {
   "display_name": "Python 3",
   "language": "python",
   "name": "python3"
  },
  "language_info": {
   "codemirror_mode": {
    "name": "ipython",
    "version": 2
   },
   "file_extension": ".py",
   "mimetype": "text/x-python",
   "name": "python",
   "nbconvert_exporter": "python",
   "pygments_lexer": "ipython2",
   "version": "2.7.6"
  }
 },
 "nbformat": 4,
 "nbformat_minor": 0
}