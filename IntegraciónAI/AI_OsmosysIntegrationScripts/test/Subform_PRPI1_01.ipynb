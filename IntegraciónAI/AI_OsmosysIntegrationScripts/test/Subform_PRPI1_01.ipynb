{
 "cells": [
  {
   "cell_type": "code",
   "execution_count": 19,
   "metadata": {
    "collapsed": true,
    "pycharm": {
     "name": "#%%\n"
    }
   },
   "outputs": [
    {
     "data": {
      "text/plain": "<module 'model.modelAI' from 'D:\\\\Proyectos\\\\OSMOSYS_2022\\\\IntegraciónAI\\\\AI_OsmosysIntegrationScripts\\\\model\\\\modelAI.py'>"
     },
     "execution_count": 19,
     "metadata": {},
     "output_type": "execute_result"
    }
   ],
   "source": [
    "import pandas as pd\n",
    "\n",
    "import osmosys.osmosys\n",
    "import activityinfo\n",
    "from activityinfo import Client\n",
    "from activityinfo import FormProcessing\n",
    "import importlib\n",
    "import model.modelAI\n",
    "from activityinfo.id import generate_id\n",
    "import json\n",
    "from requests.exceptions import HTTPError\n",
    "import os.path\n",
    "\n",
    "importlib.reload(osmosys.osmosys)\n",
    "importlib.reload(activityinfo.FormProcessing)\n",
    "importlib.reload(model.modelAI)"
   ]
  },
  {
   "cell_type": "code",
   "execution_count": 21,
   "outputs": [
    {
     "name": "stdout",
     "output_type": "stream",
     "text": [
      "--------------------------------------PRPI1_01------------------------------------------------------\n"
     ]
    }
   ],
   "source": [
    "## parameters\n",
    "indicatorCodeAI = 'PRPI1_01'\n",
    "month = 'JULIO'\n",
    "month_number = '2022-07'\n",
    "year = 2022\n",
    "test = True\n",
    "print(\n",
    "    '--------------------------------------' + indicatorCodeAI + '------------------------------------------------------')\n"
   ],
   "metadata": {
    "collapsed": false,
    "pycharm": {
     "name": "#%%\n"
    }
   }
  },
  {
   "cell_type": "code",
   "execution_count": 22,
   "outputs": [
    {
     "name": "stdout",
     "output_type": "stream",
     "text": [
      "formIdAI: c5vie2zkysumtk35\n",
      "parentFormIdAI: c81oy76kysumtk34\n",
      "indicatorIdAI: cjo64mykylzqu4p4r\n",
      "indicatorIdsOsmosys: [35 85]\n"
     ]
    }
   ],
   "source": [
    "# busco matchs\n",
    "subformDf = osmosys.osmosys.getMatchSubforms(indicatorCodeAI)\n",
    "## print(subformDf)\n",
    "indicatorIdsOsmosys = subformDf.osmosys_indicador_id.unique()\n",
    "subformSeries = subformDf.iloc[0]\n",
    "formIdAI = subformSeries.form_id\n",
    "parentFormIdAI = subformSeries.parent_form_id\n",
    "indicatorIdAI = subformSeries.indicator_id\n",
    "print(\"formIdAI: \" + formIdAI)\n",
    "print(\"parentFormIdAI: \" + parentFormIdAI)\n",
    "print(\"indicatorIdAI: \" + indicatorIdAI)\n",
    "print(\"indicatorIdsOsmosys: \" + str(indicatorIdsOsmosys))"
   ],
   "metadata": {
    "collapsed": false,
    "pycharm": {
     "name": "#%%\n"
    }
   }
  },
  {
   "cell_type": "code",
   "execution_count": 23,
   "outputs": [
    {
     "name": "stdout",
     "output_type": "stream",
     "text": [
      "\n",
      "    SELECT\n",
      "\tdistinct\n",
      "    ie.id ie_id, i.id indicador_id, i.code indicator_code, org.acronym, \n",
      "\t\taio.nombre ai_implementer,\n",
      "\t\tm.month ,\n",
      "\t\tm.total_execution, can.code canton_code,'EC'||can.code canton_ai_code, can.description canton,\n",
      "\t\tsum(iv.value ) total_canton\n",
      "    FROM\n",
      "    osmosys.indicator_executions ie \n",
      "    INNER JOIN osmosys.indicators i on ie.performance_indicator_id=i.id and ie.state='ACTIVO'\n",
      "    INNER JOIN osmosys.projects pr on ie.project_id=pr.id\n",
      "    INNER JOIN osmosys.organizations org on pr.organization_id=org.id\n",
      "\t\tINNER JOIN ai_integration.osmosys_ai_implementador_organi aio on org.id=aio.osmosys_id\n",
      "    INNER JOIN osmosys.quarters q ON ie.id=q.indicator_execution_id and q.state='ACTIVO'\n",
      "    INNER JOIN osmosys.months m ON q.id=m.quarter_id and m.state='ACTIVO'\n",
      "\t\tINNER JOIN osmosys.indicator_values iv on m.id=iv.month_id and iv.state='ACTIVO'\n",
      "\t\tINNER JOIN osmosys.cantones can on iv.canton_id=can.id\n",
      "    WHERE \n",
      "         i.id in (35,85) and\n",
      "        m.month = 'JULIO' and m.year = '2022'\n",
      "    GROUP BY 1,2,3,4,5,6,7,8,9,10\n",
      "\tHAVING sum(iv.value ) >0\n",
      "\tORDER BY org.acronym, canton_code\n",
      "    \n",
      "reported data: 1\n",
      "   ie_id  indicador_id indicator_code acronym ai_implementer  month  \\\n",
      "0     15            35          EE0D2     ASA            ASA  JULIO   \n",
      "\n",
      "   total_execution canton_code canton_ai_code canton  total_canton  \n",
      "0             18.0        1701         EC1701  QUITO          18.0  \n"
     ]
    }
   ],
   "source": [
    "## consulto los datos reportados\n",
    "reportedDf = osmosys.osmosys.getIesPartnerCantonsByIndicatorsIdsOsmosysAndMonth(indicatorsIdsOmosys=indicatorIdsOsmosys,\n",
    "                                                                                month=month, year=year)\n",
    "print('reported data: ' + str(reportedDf.shape[0]))\n",
    "print(reportedDf)\n"
   ],
   "metadata": {
    "collapsed": false,
    "pycharm": {
     "name": "#%%\n"
    }
   }
  },
  {
   "cell_type": "code",
   "execution_count": 12,
   "outputs": [],
   "source": [
    "## obtengo los parents de AI\n",
    "parentFormsIds = FormProcessing.getParentsIds(parentFormIdAI=parentFormIdAI, reportedDf=reportedDf)"
   ],
   "metadata": {
    "collapsed": false,
    "pycharm": {
     "name": "#%%\n"
    }
   }
  },
  {
   "cell_type": "code",
   "execution_count": 13,
   "outputs": [
    {
     "name": "stdout",
     "output_type": "stream",
     "text": [
      "changes to charge: 1\n"
     ]
    }
   ],
   "source": [
    "## 2 fuentes por separado indicador 35\n",
    "indicatorIdsOsmosys35 = [35]\n",
    "## contruyo las estructuras de datos\n",
    "changesList = []\n",
    "newIds = []\n",
    "for index, row in parentFormsIds.iterrows():\n",
    "    # print(row)\n",
    "    orgAcron = row.acronym\n",
    "    cantonCode = row.canton_code\n",
    "    df = osmosys.osmosys.getRefValues(year=year, month=month, orgOsmosys=orgAcron,\n",
    "                                      indicatorsIdsOmosys=indicatorIdsOsmosys35, cantonCode=cantonCode)\n",
    "\n",
    "    poblacion_meta = ['Refugiados/as y migrantes', 'Comunidad de acogida']\n",
    "\n",
    "    PRPI1_01_RM_NA = int(df.loc[df['age_gender'] == 'NINAS'].iloc[0].value_a)\n",
    "    PRPI1_01_RM_NN = int(df.loc[df['age_gender'] == 'NINOS'].iloc[0].value_a)\n",
    "    PRPI1_01_RM_OTR = int(df.loc[df['age_gender'] == 'OTRO'].iloc[0].value_a)\n",
    "    dfDiversidad = osmosys.osmosys.getRefLgbtiDiscapacitadosValues(year=year, month=month, orgOsmosys=orgAcron,\n",
    "                                                                   indicatorsIdsOmosys=indicatorIdsOsmosys35,\n",
    "                                                                   cantonCode=cantonCode)\n",
    "    PRPI1_01_RM_LGBT = int(dfDiversidad.loc[(dfDiversidad['diversity_type'] == 'LGBTI') & (\n",
    "            dfDiversidad['country_of_origin'] == 'VENEZUELA')].iloc[0].value_a)\n",
    "    PRPI1_01_RM_DS = int(dfDiversidad.loc[(dfDiversidad['diversity_type'] == 'DISCAPACITADOS') & (\n",
    "            dfDiversidad['country_of_origin'] == 'VENEZUELA')].iloc[0].value_a)\n",
    "\n",
    "    dfCa = osmosys.osmosys.getCAValues(year=year, month=month, orgOsmosys=orgAcron,\n",
    "                                       indicatorsIdsOmosys=indicatorIdsOsmosys35, cantonCode=cantonCode)\n",
    "    PRPI1_01_CA_NA = int(dfCa.loc[df['age_gender'] == 'NINAS'].iloc[0].value_a)\n",
    "    PRPI1_01_CA_NN = int(dfCa.loc[df['age_gender'] == 'NINOS'].iloc[0].value_a)\n",
    "    PRPI1_01_CA_OTR = int(dfCa.loc[df['age_gender'] == 'OTRO'].iloc[0].value_a)\n",
    "\n",
    "    PRPI1_01_CA_LGBT = int(dfDiversidad.loc[(dfDiversidad['diversity_type'] == 'LGBTI') & (\n",
    "            dfDiversidad['country_of_origin'] == 'ECUADOR')].iloc[0].value_a)\n",
    "    PRPI1_01_CA_DS = int(dfDiversidad.loc[(dfDiversidad['diversity_type'] == 'DISCAPACITADOS') & (\n",
    "            dfDiversidad['country_of_origin'] == 'ECUADOR')].iloc[0].value_a)\n",
    "    PRPI1_01_CUAL =  osmosys.osmosys.getCommentary(year=year, month=month, orgOsmosys=orgAcron,\n",
    "                                                               indicatorsIdsOmosys=indicatorIdsOsmosys35).iloc[\n",
    "        0].value_a\n",
    "\n",
    "    subform = model.modelAI.SubFormPRPI1_01_35(\n",
    "        mes=month_number,\n",
    "        colltmgkykvhxgij6=indicatorIdAI,\n",
    "        rmrp='Si',\n",
    "        covid='No',\n",
    "        espacion_apoyo='No',\n",
    "        poblacion_meta=poblacion_meta,\n",
    "        modalidad_impl='cmo12q1kykwwosjka',  ## servicio\n",
    "        PRPI1_01_RM_NA=PRPI1_01_RM_NA,\n",
    "        PRPI1_01_RM_NN=PRPI1_01_RM_NN,\n",
    "        PRPI1_01_RM_OTR=PRPI1_01_RM_OTR,\n",
    "        PRPI1_01_RM_LGBT=PRPI1_01_RM_LGBT,\n",
    "        PRPI1_01_RM_DS=PRPI1_01_RM_DS,\n",
    "        PRPI1_01_CA_NA=PRPI1_01_CA_NA,\n",
    "        PRPI1_01_CA_NN=PRPI1_01_CA_NN,\n",
    "        PRPI1_01_CA_OTR=PRPI1_01_CA_OTR,\n",
    "        PRPI1_01_CA_LGBT=PRPI1_01_CA_LGBT,\n",
    "        PRPI1_01_CA_DS=PRPI1_01_CA_DS,\n",
    "        PRPI1_01_CUAL=PRPI1_01_CUAL\n",
    "    )\n",
    "    newId = generate_id()\n",
    "    newIds.append(newId)\n",
    "    record = model.modelAI.Record(formId=formIdAI, recordId=newId, parentRecordId=row['@id'], fields=subform)\n",
    "    changesList.append(record)\n",
    "print('changes to charge: ' + str(len(changesList)))"
   ],
   "metadata": {
    "collapsed": false,
    "pycharm": {
     "name": "#%%\n"
    }
   }
  },
  {
   "cell_type": "code",
   "execution_count": 26,
   "outputs": [
    {
     "name": "stdout",
     "output_type": "stream",
     "text": [
      "No value\n",
      "changes to charge: 1\n"
     ]
    }
   ],
   "source": [
    "indicatorIdsOsmosys85 = [85]\n",
    "## contruyo las estructuras de datos\n",
    "for index, row in parentFormsIds.iterrows():\n",
    "\n",
    "    orgAcron = row.acronym\n",
    "\n",
    "    cantonCode = row.canton_code\n",
    "    df = osmosys.osmosys.getRefValues(year=year, month=month, orgOsmosys=orgAcron,\n",
    "                                      indicatorsIdsOmosys=indicatorIdsOsmosys85, cantonCode=cantonCode)\n",
    "    if df.loc[df['age_gender'] == 'NINAS'].iloc[0].value_a is None:\n",
    "        print('No value')\n",
    "        continue\n",
    "\n",
    "    poblacion_meta = ['Refugiados/as y migrantes', 'Comunidad de acogida']\n",
    "    PRPI1_01_RM_NA = int(df.loc[df['age_gender'] == 'NINAS'].iloc[0].value_a)\n",
    "    PRPI1_01_RM_NN = int(df.loc[df['age_gender'] == 'NINOS'].iloc[0].value_a)\n",
    "    PRPI1_01_RM_OTR = int(df.loc[df['age_gender'] == 'OTRO'].iloc[0].value_a)\n",
    "    dfDiversidad = osmosys.osmosys.getRefLgbtiDiscapacitadosValues(year=year, month=month, orgOsmosys=orgAcron,\n",
    "                                                                   indicatorsIdsOmosys=indicatorIdsOsmosys85,\n",
    "                                                                   cantonCode=cantonCode)\n",
    "    PRPI1_01_RM_LGBT = int(dfDiversidad.loc[(dfDiversidad['diversity_type'] == 'LGBTI') & (\n",
    "            dfDiversidad['country_of_origin'] == 'VENEZUELA')].iloc[0].value_a)\n",
    "    PRPI1_01_RM_DS = int(dfDiversidad.loc[(dfDiversidad['diversity_type'] == 'DISCAPACITADOS') & (\n",
    "            dfDiversidad['country_of_origin'] == 'VENEZUELA')].iloc[0].value_a)\n",
    "\n",
    "    dfCa = osmosys.osmosys.getCAValues(year=year, month=month, orgOsmosys=orgAcron,\n",
    "                                       indicatorsIdsOmosys=indicatorIdsOsmosys85, cantonCode=cantonCode)\n",
    "    PRPI1_01_CA_NA = int(dfCa.loc[df['age_gender'] == 'NINAS'].iloc[0].value_a)\n",
    "    PRPI1_01_CA_NN = int(dfCa.loc[df['age_gender'] == 'NINOS'].iloc[0].value_a)\n",
    "    PRPI1_01_CA_OTR = int(dfCa.loc[df['age_gender'] == 'OTRO'].iloc[0].value_a)\n",
    "\n",
    "    PRPI1_01_CA_LGBT = int(dfDiversidad.loc[(dfDiversidad['diversity_type'] == 'LGBTI') & (\n",
    "            dfDiversidad['country_of_origin'] == 'ECUADOR')].iloc[0].value_a)\n",
    "    PRPI1_01_CA_DS = int(dfDiversidad.loc[(dfDiversidad['diversity_type'] == 'DISCAPACITADOS') & (\n",
    "            dfDiversidad['country_of_origin'] == 'ECUADOR')].iloc[0].value_a)\n",
    "    PRPI1_01_CUAL = commentary = osmosys.osmosys.getCommentary(year=year, month=month, orgOsmosys=orgAcron,\n",
    "                                                               indicatorsIdsOmosys=indicatorIdsOsmosys85).iloc[\n",
    "        0].value_a\n",
    "    usd_transfer = int(osmosys.osmosys.getCBIBudget(year=year, month=month, orgOsmosys=orgAcron,\n",
    "                                                    indicatorsIdsOmosys=indicatorIdsOsmosys85,\n",
    "                                                    cantonCode=cantonCode).iloc[0].budget)\n",
    "    subform = model.modelAI.SubFormPRPI1_01_85(\n",
    "        mes=month_number,\n",
    "        colltmgkykvhxgij6=indicatorIdAI,\n",
    "        rmrp='Si',\n",
    "        covid='No',\n",
    "        espacion_apoyo='No',\n",
    "        poblacion_meta=poblacion_meta,\n",
    "        modalidad_impl='cmo12q1kykwwosjka',  ## servicio\n",
    "        mecanismos='c6gspwxkym0dbinm',\n",
    "        transferencia='cib4u00kym0ixwew',\n",
    "        usd_transfer=usd_transfer,\n",
    "        PRPI1_01_RM_NA=PRPI1_01_RM_NA,\n",
    "        PRPI1_01_RM_NN=PRPI1_01_RM_NN,\n",
    "        PRPI1_01_RM_OTR=PRPI1_01_RM_OTR,\n",
    "        PRPI1_01_RM_LGBT=PRPI1_01_RM_LGBT,\n",
    "        PRPI1_01_RM_DS=PRPI1_01_RM_DS,\n",
    "        PRPI1_01_CA_NA=PRPI1_01_CA_NA,\n",
    "        PRPI1_01_CA_NN=PRPI1_01_CA_NN,\n",
    "        PRPI1_01_CA_OTR=PRPI1_01_CA_OTR,\n",
    "        PRPI1_01_CA_LGBT=PRPI1_01_CA_LGBT,\n",
    "        PRPI1_01_CA_DS=PRPI1_01_CA_DS,\n",
    "        PRPI1_01_CUAL=PRPI1_01_CUAL\n",
    "    )\n",
    "\n",
    "    newId = generate_id()\n",
    "    newIds.append(newId)\n",
    "    record = model.modelAI.Record(formId=formIdAI, recordId=newId, parentRecordId=row['@id'], fields=subform)\n",
    "    changesList.append(record)\n",
    "print('changes to charge: ' + str(len(changesList)))"
   ],
   "metadata": {
    "collapsed": false,
    "pycharm": {
     "name": "#%%\n"
    }
   }
  },
  {
   "cell_type": "code",
   "execution_count": 8,
   "outputs": [],
   "source": [
    "## creo respaldo\n",
    "changes = model.modelAI.Changes(changesList)\n",
    "finalJson = json.dumps(changes, default=model.modelAI.default)\n"
   ],
   "metadata": {
    "collapsed": false,
    "pycharm": {
     "name": "#%%\n"
    }
   }
  },
  {
   "cell_type": "code",
   "execution_count": 47,
   "outputs": [
    {
     "name": "stdout",
     "output_type": "stream",
     "text": [
      " creado respaldo: JUNIO\\data_PRPI1_01.json\n"
     ]
    }
   ],
   "source": [
    "#open text file\n",
    "try:\n",
    "    os.mkdir(month)\n",
    "except Exception:\n",
    "    pass\n",
    "text_file = open(os.path.join(month, \"data_\" + indicatorCodeAI + \".json\"), \"w\")\n",
    "#write string to file\n",
    "n = text_file.write(finalJson)\n",
    "\n",
    "#close file\n",
    "text_file.close()\n",
    "print(\" creado respaldo: \" + text_file.name)\n",
    "newIdsDict = {\"newIds\": newIds}\n",
    "newIdsDf = pd.DataFrame(newIdsDict)\n",
    "newIdsDf.to_csv(os.path.join(month, \"new_ids_\" + indicatorCodeAI + \".csv\"))"
   ],
   "metadata": {
    "collapsed": false,
    "pycharm": {
     "name": "#%%\n"
    }
   }
  },
  {
   "cell_type": "code",
   "execution_count": 48,
   "outputs": [
    {
     "name": "stdout",
     "output_type": "stream",
     "text": [
      "--------------------------------------PRPI1_01------------------------------------------------------\n"
     ]
    }
   ],
   "source": [
    "## envio a AI\n",
    "if (test):\n",
    "    print(\n",
    "        '--------------------------------------' + indicatorCodeAI + '------------------------------------------------------')\n",
    "else:\n",
    "    try:\n",
    "        if len(changesList) > 0:\n",
    "            print('se envia a AI')\n",
    "            client = Client(token=osmosys.osmosys.getToken(), base_url='https://www.activityinfo.org/resources')\n",
    "            client.post_resource(path='update', body=finalJson)\n",
    "            print(\n",
    "                '--------------------------------------' + indicatorCodeAI + '------------------------------------------------------')\n",
    "        else:\n",
    "            print('nada que enviar a AI')\n",
    "    except HTTPError as e:\n",
    "        code = e.response.status_code\n",
    "        print('error:')\n",
    "        print(code)\n",
    "\n",
    "        print(e)"
   ],
   "metadata": {
    "collapsed": false,
    "pycharm": {
     "name": "#%%\n"
    }
   }
  }
 ],
 "metadata": {
  "kernelspec": {
   "display_name": "Python 3",
   "language": "python",
   "name": "python3"
  },
  "language_info": {
   "codemirror_mode": {
    "name": "ipython",
    "version": 2
   },
   "file_extension": ".py",
   "mimetype": "text/x-python",
   "name": "python",
   "nbconvert_exporter": "python",
   "pygments_lexer": "ipython2",
   "version": "2.7.6"
  }
 },
 "nbformat": 4,
 "nbformat_minor": 0
}