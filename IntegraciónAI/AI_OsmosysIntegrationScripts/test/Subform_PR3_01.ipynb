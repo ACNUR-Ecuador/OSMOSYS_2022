{
 "cells": [
  {
   "cell_type": "code",
   "execution_count": 26,
   "metadata": {
    "collapsed": true,
    "pycharm": {
     "name": "#%%\n"
    }
   },
   "outputs": [
    {
     "data": {
      "text/plain": "<module 'model.modelAI' from 'D:\\\\Proyectos\\\\OSMOSYS_2022\\\\IntegraciónAI\\\\AI_OsmosysIntegrationScripts\\\\model\\\\modelAI.py'>"
     },
     "execution_count": 26,
     "metadata": {},
     "output_type": "execute_result"
    }
   ],
   "source": [
    "import pandas as pd\n",
    "\n",
    "import osmosys.osmosys\n",
    "import activityinfo\n",
    "from activityinfo import Client\n",
    "from activityinfo import FormProcessing\n",
    "import importlib\n",
    "import model.modelAI\n",
    "from activityinfo.id import generate_id\n",
    "import json\n",
    "from requests.exceptions import HTTPError\n",
    "import os.path\n",
    "\n",
    "importlib.reload(osmosys.osmosys)\n",
    "importlib.reload(activityinfo.FormProcessing)\n",
    "importlib.reload(model.modelAI)"
   ]
  },
  {
   "cell_type": "code",
   "execution_count": 15,
   "outputs": [
    {
     "name": "stdout",
     "output_type": "stream",
     "text": [
      "--------------------------------------PR2_02------------------------------------------------------\n"
     ]
    }
   ],
   "source": [
    "## parameters\n",
    "indicatorCodeAI = 'PR3_01'\n",
    "indicatorCodeOsmosys = 'AE0I1'\n",
    "month = 'JUNIO'\n",
    "month_number = '2022-06'\n",
    "year = 2022\n",
    "print('--------------------------------------PR2_02------------------------------------------------------')"
   ],
   "metadata": {
    "collapsed": false,
    "pycharm": {
     "name": "#%%\n"
    }
   }
  },
  {
   "cell_type": "code",
   "execution_count": 16,
   "outputs": [
    {
     "name": "stdout",
     "output_type": "stream",
     "text": [
      "formIdAI: cxsom3tl4q3ommxdi\n",
      "parentFormIdAI: cq0tf6fl4q3ommxdu\n",
      "indicatorIdAI: cqoikgjkylzqu4j46\n",
      "indicatorIdsOsmosys: [82 81]\n"
     ]
    }
   ],
   "source": [
    "# busco matchs\n",
    "subformDf = osmosys.osmosys.getMatchSubforms(indicatorCodeAI)\n",
    "## print(subformDf)\n",
    "indicatorIdsOsmosys = subformDf.osmosys_indicador_id.unique()\n",
    "subformSeries = subformDf.iloc[0]\n",
    "formIdAI = subformSeries.form_id\n",
    "parentFormIdAI = subformSeries.parent_form_id\n",
    "indicatorIdAI = subformSeries.indicator_id\n",
    "print(\"formIdAI: \" + formIdAI)\n",
    "print(\"parentFormIdAI: \" + parentFormIdAI)\n",
    "print(\"indicatorIdAI: \" + indicatorIdAI)\n",
    "print(\"indicatorIdsOsmosys: \" + str(indicatorIdsOsmosys))"
   ],
   "metadata": {
    "collapsed": false,
    "pycharm": {
     "name": "#%%\n"
    }
   }
  },
  {
   "cell_type": "code",
   "execution_count": 17,
   "outputs": [
    {
     "name": "stdout",
     "output_type": "stream",
     "text": [
      "reported data: 24\n"
     ]
    }
   ],
   "source": [
    "## consulto los datos reportados\n",
    "reportedDf = osmosys.osmosys.getIesPartnerCantonsByIndicatorsIdsOsmosysAndMonth(indicatorsIdsOmosys=indicatorIdsOsmosys,\n",
    "                                                                                month=month, year=year)\n",
    "print('reported data: ' + str(reportedDf.shape[0]))\n"
   ],
   "metadata": {
    "collapsed": false,
    "pycharm": {
     "name": "#%%\n"
    }
   }
  },
  {
   "cell_type": "code",
   "execution_count": 18,
   "outputs": [],
   "source": [
    "## obtengo los parents de AI\n",
    "parentFormsIds = FormProcessing.getParentsIds(parentFormIdAI=parentFormIdAI, reportedDf=reportedDf)\n"
   ],
   "metadata": {
    "collapsed": false,
    "pycharm": {
     "name": "#%%\n"
    }
   }
  },
  {
   "cell_type": "code",
   "execution_count": 27,
   "outputs": [
    {
     "name": "stdout",
     "output_type": "stream",
     "text": [
      "4176\n",
      "778\n",
      "538\n",
      "891\n",
      "859\n",
      "1299\n",
      "4681\n",
      "3102\n",
      "2997\n",
      "442\n",
      "6308\n",
      "1364\n",
      "changes to charge: 12\n"
     ]
    }
   ],
   "source": [
    "## contruyo las estructuras de datos\n",
    "changesList = []\n",
    "newIds = []\n",
    "for index, row in parentFormsIds.iterrows():\n",
    "    # print(row)\n",
    "    orgAcron = row.acronym\n",
    "    cantonCode = row.canton_code\n",
    "    df = osmosys.osmosys.getRefValues(year=year, month=month, orgOsmosys=orgAcron,\n",
    "                                      indicatorsIdsOmosys=indicatorIdsOsmosys, cantonCode=cantonCode)\n",
    "    r = df.loc[df['age_gender'] == 'NINAS'].iloc[0].value_a\n",
    "\n",
    "    PR3_01_RM_NA = int(df.loc[df['age_gender'] == 'NINAS'].iloc[0].value_a)\n",
    "    PR3_01_RM_NN = int(df.loc[df['age_gender'] == 'NINOS'].iloc[0].value_a)\n",
    "    PR3_01_RM_MM = int(df.loc[df['age_gender'] == 'ADULTAS'].iloc[0].value_a)\n",
    "    PR3_01_RM_HH = int(df.loc[df['age_gender'] == 'ADULTOS'].iloc[0].value_a)\n",
    "    PR3_01_RM_OTR = int(df.loc[df['age_gender'] == 'OTRO'].iloc[0].value_a)\n",
    "    dfDiversidad = osmosys.osmosys.getRefLgbtiDiscapacitadosValues(year=year, month=month, orgOsmosys=orgAcron,\n",
    "                                                                   indicatorsIdsOmosys=indicatorIdsOsmosys,\n",
    "                                                                   cantonCode=cantonCode)\n",
    "    #print(dfDiversidad)\n",
    "    PR3_01_RM_LGBT = int(dfDiversidad.loc[(dfDiversidad['diversity_type'] == 'LGBTI') & (\n",
    "            dfDiversidad['country_of_origin'] == 'VENEZUELA')].iloc[0].value_a)\n",
    "    PR3_01_RM_DS = int(dfDiversidad.loc[(dfDiversidad['diversity_type'] == 'DISCAPACITADOS') & (\n",
    "            dfDiversidad['country_of_origin'] == 'VENEZUELA')].iloc[0].value_a)\n",
    "    commentary = osmosys.osmosys.getCommentary(year=year, month=month, orgOsmosys=orgAcron,\n",
    "                                               indicatorsIdsOmosys=indicatorIdsOsmosys).iloc[0].value_a\n",
    "    PR3_01_CUAL = commentary\n",
    "    usd_transfer = int(osmosys.osmosys.getCBIBudget(year=year, month=month,orgOsmosys= orgAcron,indicatorsIdsOmosys= indicatorIdsOsmosys,cantonCode=cantonCode).iloc[0].budget)\n",
    "    print(usd_transfer)\n",
    "    modalidad_impl = \"c3jf6gykykwwemuk7\"  # efectivo\n",
    "    mecanismos = \"cr04avekym0dbimj\"  ## ventanilla\n",
    "    transferencia = \"Condicional\"\n",
    "\n",
    "    subform = model.modelAI.SubFormPR3_01(\n",
    "        mes=month_number,\n",
    "        colltmgkykvhxgij6=indicatorIdAI,\n",
    "        rmrp='Si',\n",
    "        covid='No',\n",
    "        espacion_apoyo='No',\n",
    "        poblacion_meta='Refugiados/as y migrantes',\n",
    "        modalidad_impl=modalidad_impl,\n",
    "        mecanismos=mecanismos,\n",
    "        transferencia=transferencia,\n",
    "        usd_transfer=usd_transfer,\n",
    "        PR3_01_RM_NA=PR3_01_RM_NA,\n",
    "        PR3_01_RM_NN=PR3_01_RM_NN,\n",
    "        PR3_01_RM_MM=PR3_01_RM_MM,\n",
    "        PR3_01_RM_HH=PR3_01_RM_HH,\n",
    "        PR3_01_RM_OTR=PR3_01_RM_OTR,\n",
    "        PR3_01_RM_LGBT=PR3_01_RM_LGBT,\n",
    "        PR3_01_RM_DS=PR3_01_RM_DS,\n",
    "        PR3_01_CUAL=PR3_01_CUAL\n",
    "    )\n",
    "    newId = generate_id()\n",
    "    newIds.append(newId)\n",
    "    record = model.modelAI.Record(formId=formIdAI, recordId=newId, parentRecordId=row['@id'], fields=subform)\n",
    "    changesList.append(record)\n",
    "print('changes to charge: ' + str(len(changesList)))"
   ],
   "metadata": {
    "collapsed": false,
    "pycharm": {
     "name": "#%%\n"
    }
   }
  },
  {
   "cell_type": "code",
   "execution_count": 30,
   "outputs": [
    {
     "name": "stdout",
     "output_type": "stream",
     "text": [
      " creado respaldo: JUNIO\\data_PR3_01.json\n"
     ]
    }
   ],
   "source": [
    "## creo respaldo\n",
    "changes = model.modelAI.Changes(changesList)\n",
    "finalJson = json.dumps(changes, default=model.modelAI.default)\n",
    "#open text file\n",
    "try:\n",
    "    os.mkdir(month)\n",
    "except Exception:\n",
    "    pass\n",
    "text_file = open(os.path.join(month, \"data_\" + indicatorCodeAI + \".json\"), \"w\")\n",
    "#write string to file\n",
    "n = text_file.write(finalJson)\n",
    "\n",
    "#close file\n",
    "text_file.close()\n",
    "print(\" creado respaldo: \" + text_file.name)\n",
    "newIdsDict = {\"newIds\": newIds}\n",
    "newIdsDf = pd.DataFrame(newIdsDict)\n",
    "newIdsDf.to_csv(os.path.join(month, \"new_ids_\" + indicatorCodeAI + \".csv\"))\n"
   ],
   "metadata": {
    "collapsed": false,
    "pycharm": {
     "name": "#%%\n"
    }
   }
  },
  {
   "cell_type": "code",
   "execution_count": null,
   "outputs": [],
   "source": [
    "## envio a AI\n",
    "try:\n",
    "    if len(changesList) > 0:\n",
    "        print('se envia a AI')\n",
    "        client = Client(token=osmosys.osmosys.getToken(), base_url='https://www.activityinfo.org/resources')\n",
    "        client.post_resource(path='update', body=finalJson)\n",
    "    else:\n",
    "        print('nada que enviar a AI')\n",
    "except HTTPError as e:\n",
    "    code = e.response.status_code\n",
    "    print('error:')\n",
    "    print(code)\n",
    "\n",
    "    print(e)"
   ],
   "metadata": {
    "collapsed": false,
    "pycharm": {
     "name": "#%%\n"
    }
   }
  }
 ],
 "metadata": {
  "kernelspec": {
   "display_name": "Python 3",
   "language": "python",
   "name": "python3"
  },
  "language_info": {
   "codemirror_mode": {
    "name": "ipython",
    "version": 2
   },
   "file_extension": ".py",
   "mimetype": "text/x-python",
   "name": "python",
   "nbconvert_exporter": "python",
   "pygments_lexer": "ipython2",
   "version": "2.7.6"
  }
 },
 "nbformat": 4,
 "nbformat_minor": 0
}