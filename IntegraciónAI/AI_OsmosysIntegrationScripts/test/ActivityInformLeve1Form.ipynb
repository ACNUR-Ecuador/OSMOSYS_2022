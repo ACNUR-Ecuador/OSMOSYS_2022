{
 "cells": [
  {
   "cell_type": "code",
   "execution_count": 34,
   "metadata": {
    "collapsed": true,
    "pycharm": {
     "name": "#%%\n"
    }
   },
   "outputs": [
    {
     "data": {
      "text/plain": "<module 'activityinfo' from 'D:\\\\Proyectos\\\\OSMOSYS_2022\\\\IntegraciónAI\\\\AI_OsmosysIntegrationScripts\\\\activityinfo\\\\__init__.py'>"
     },
     "execution_count": 34,
     "metadata": {},
     "output_type": "execute_result"
    }
   ],
   "source": [
    "## imports\n",
    "import importlib\n",
    "import osmosys.osmosys\n",
    "import osmosys.Backups\n",
    "import activityinfo\n",
    "import pandas as pd\n",
    "import model.modelAI\n",
    "from IPython.display import display\n",
    "import json\n",
    "import os.path\n",
    "from urllib.error import HTTPError\n",
    "\n",
    "importlib.reload(osmosys.osmosys)\n",
    "importlib.reload(activityinfo)"
   ]
  },
  {
   "cell_type": "code",
   "execution_count": 35,
   "outputs": [],
   "source": [
    "month = 'JUNIO'"
   ],
   "metadata": {
    "collapsed": false,
    "pycharm": {
     "name": "#%%\n"
    }
   }
  },
  {
   "cell_type": "code",
   "execution_count": 36,
   "outputs": [
    {
     "name": "stdout",
     "output_type": "stream",
     "text": [
      "<class 'pandas.core.frame.DataFrame'>\n",
      "Index: 0 entries\n",
      "Data columns (total 10 columns):\n",
      " #   Column              Non-Null Count  Dtype \n",
      "---  ------              --------------  ----- \n",
      " 0   folder              0 non-null      object\n",
      " 1   form                0 non-null      object\n",
      " 2   form_id             0 non-null      object\n",
      " 3   parent_form         0 non-null      object\n",
      " 4   parent_form_id      0 non-null      object\n",
      " 5   org_acron           0 non-null      object\n",
      " 6   id_registro_imp     0 non-null      object\n",
      " 7   osmosys_code        0 non-null      object\n",
      " 8   canton              0 non-null      object\n",
      " 9   canton_id_registro  0 non-null      object\n",
      "dtypes: object(10)\n",
      "memory usage: 0.0+ bytes\n",
      "None\n"
     ]
    }
   ],
   "source": [
    "osmosysData = osmosys.osmosys.get_ai_form_level_1()\n",
    "print(osmosysData.info())"
   ],
   "metadata": {
    "collapsed": false,
    "pycharm": {
     "name": "#%%\n"
    }
   }
  },
  {
   "cell_type": "code",
   "execution_count": 31,
   "outputs": [
    {
     "name": "stdout",
     "output_type": "stream",
     "text": [
      "[]\n",
      "<class 'numpy.ndarray'>\n",
      "Series([], dtype: int64)\n"
     ]
    }
   ],
   "source": [
    "# get all unique form ids\n",
    "#osmosysData.form_id.value_counts()\n",
    "parentFormsIds = osmosysData.parent_form_id.unique()\n",
    "print(parentFormsIds)\n",
    "print(type(parentFormsIds))\n",
    "print(osmosysData.groupby(['parent_form', 'parent_form_id']).size())"
   ],
   "metadata": {
    "collapsed": false,
    "pycharm": {
     "name": "#%%\n"
    }
   }
  },
  {
   "cell_type": "code",
   "execution_count": 32,
   "outputs": [],
   "source": [
    "importlib.reload(osmosys.osmosys)\n",
    "aiToken = osmosys.osmosys.getToken()\n",
    "formTotalDf = None\n",
    "for parentFormsId in parentFormsIds:\n",
    "    print(parentFormsId)\n",
    "    client = activityinfo.Client(token=aiToken, base_url='https://www.activityinfo.org/resources')\n",
    "    dbsJson = client.get_resource('form/{parentFormsId}/query'.format(parentFormsId=parentFormsId))\n",
    "    dbsDf = pd.DataFrame.from_records(dbsJson)\n",
    "    dbsDf['parent_form_id'] = parentFormsId\n",
    "    print(dbsDf.shape)\n",
    "    if formTotalDf is None:\n",
    "        formTotalDf = dbsDf\n",
    "    else:\n",
    "        formTotalDf = pd.concat([formTotalDf, dbsDf], axis=0)\n",
    "    print(formTotalDf.shape)"
   ],
   "metadata": {
    "collapsed": false,
    "pycharm": {
     "name": "#%%\n"
    }
   }
  },
  {
   "cell_type": "code",
   "execution_count": 33,
   "outputs": [
    {
     "ename": "AttributeError",
     "evalue": "'NoneType' object has no attribute 'shape'",
     "output_type": "error",
     "traceback": [
      "\u001B[1;31m---------------------------------------------------------------------------\u001B[0m",
      "\u001B[1;31mAttributeError\u001B[0m                            Traceback (most recent call last)",
      "Input \u001B[1;32mIn [33]\u001B[0m, in \u001B[0;36m<cell line: 3>\u001B[1;34m()\u001B[0m\n\u001B[0;32m      1\u001B[0m \u001B[38;5;66;03m# ordeno para quitar duplicados\u001B[39;00m\n\u001B[0;32m      2\u001B[0m \u001B[38;5;66;03m# filtro implementaciòn indirecta y doante acnur\u001B[39;00m\n\u001B[1;32m----> 3\u001B[0m \u001B[38;5;28mprint\u001B[39m(\u001B[38;5;124m'\u001B[39m\u001B[38;5;124mformTotalDf: \u001B[39m\u001B[38;5;124m'\u001B[39m \u001B[38;5;241m+\u001B[39m \u001B[38;5;28mstr\u001B[39m(\u001B[43mformTotalDf\u001B[49m\u001B[38;5;241;43m.\u001B[39;49m\u001B[43mshape\u001B[49m))\n\u001B[0;32m      4\u001B[0m formPartnersDf \u001B[38;5;241m=\u001B[39m formTotalDf\u001B[38;5;241m.\u001B[39mloc[\n\u001B[0;32m      5\u001B[0m     (formTotalDf[\u001B[38;5;124m'\u001B[39m\u001B[38;5;124mimplementacion\u001B[39m\u001B[38;5;124m'\u001B[39m] \u001B[38;5;241m==\u001B[39m \u001B[38;5;124m'\u001B[39m\u001B[38;5;124mIndirecta\u001B[39m\u001B[38;5;124m'\u001B[39m) \u001B[38;5;241m&\u001B[39m (formTotalDf[\u001B[38;5;124m'\u001B[39m\u001B[38;5;124mdonante.@id\u001B[39m\u001B[38;5;124m'\u001B[39m] \u001B[38;5;241m==\u001B[39m \u001B[38;5;124m'\u001B[39m\u001B[38;5;124mchgxs46l02wy5i81e\u001B[39m\u001B[38;5;124m'\u001B[39m)]\n\u001B[0;32m      6\u001B[0m \u001B[38;5;28mprint\u001B[39m(\u001B[38;5;124m'\u001B[39m\u001B[38;5;124mformPartnersDf: \u001B[39m\u001B[38;5;124m'\u001B[39m \u001B[38;5;241m+\u001B[39m \u001B[38;5;28mstr\u001B[39m(formPartnersDf\u001B[38;5;241m.\u001B[39mshape))\n",
      "\u001B[1;31mAttributeError\u001B[0m: 'NoneType' object has no attribute 'shape'"
     ]
    }
   ],
   "source": [
    "# ordeno para quitar duplicados\n",
    "# filtro implementaciòn indirecta y doante acnur\n",
    "print('formTotalDf: ' + str(formTotalDf.shape))\n",
    "formPartnersDf = formTotalDf.loc[\n",
    "    (formTotalDf['implementacion'] == 'Indirecta') & (formTotalDf['donante.@id'] == 'chgxs46l02wy5i81e')]\n",
    "print('formPartnersDf: ' + str(formPartnersDf.shape))"
   ],
   "metadata": {
    "collapsed": false,
    "pycharm": {
     "name": "#%%\n"
    }
   }
  },
  {
   "cell_type": "code",
   "execution_count": 24,
   "outputs": [
    {
     "name": "stdout",
     "output_type": "stream",
     "text": [
      "formPartnersDfClean: (139, 40)\n"
     ]
    }
   ],
   "source": [
    "formPartnersDfClean = formPartnersDf.sort_values('@lastEditTime', ascending=False).drop_duplicates(\n",
    "    subset=['implementador.@id', 'ubicacion.@id', 'parent_form_id'])\n",
    "print('formPartnersDfClean: ' + str(formPartnersDfClean.shape))\n",
    "formPartnersDfClean = formPartnersDfClean[\n",
    "    [\"@id\", \"@lastEditTime\", \"implementacion\", \"donante.@id\", \"donante.org_nombre\", \"donante.donante\",\n",
    "     \"implementador.@id\",\n",
    "     \"implementador.org_nombre\", \"implementador.donante\", \"ubicacion.@id\", \"ubicacion.name\", \"ubicacion.code\",\n",
    "     \"ubicacion.parent.name\", \"ubicacion.parent.code\", \"codigo_referencia\", \"parent_form_id\"\n",
    "     ]]"
   ],
   "metadata": {
    "collapsed": false,
    "pycharm": {
     "name": "#%%\n"
    }
   }
  },
  {
   "cell_type": "code",
   "execution_count": 25,
   "outputs": [
    {
     "name": "stdout",
     "output_type": "stream",
     "text": [
      "Forms to create: 142\n"
     ]
    }
   ],
   "source": [
    "## hago merge para buscar cuales falta por crear\n",
    "mergeDf = pd.merge(osmosysData, formPartnersDfClean, how='left',\n",
    "                   left_on=['parent_form_id', 'id_registro_imp', 'canton_id_registro'],\n",
    "                   right_on=['parent_form_id', 'implementador.@id', 'ubicacion.@id'])\n",
    "formsToCreate = mergeDf[mergeDf['@id'].isna()]\n",
    "numberOfFormTocreate = formsToCreate.shape[0]\n",
    "print('Forms to create: ' + str(numberOfFormTocreate))"
   ],
   "metadata": {
    "collapsed": false,
    "pycharm": {
     "name": "#%%\n"
    }
   }
  },
  {
   "cell_type": "code",
   "execution_count": 26,
   "outputs": [],
   "source": [
    "importlib.reload(model.modelAI)\n",
    "\n",
    "## creo las estructuras de datos\n",
    "changesList = []\n",
    "newIds = []\n",
    "for index, row in formsToCreate.iterrows():\n",
    "    form = model.modelAI.Form(cqes12jkykah3la9='40038', org_user='cc9fjcdkyyk18oj6', implementacion='c89eykqkykc8oig1b',\n",
    "                              donante='chgxs46l02wy5i81e',\n",
    "                              implementador=row['id_registro_imp'],\n",
    "                              ubicacion=row['canton_id_registro'])\n",
    "    newId = activityinfo.generate_id()\n",
    "    newIds.append(newId)\n",
    "    record = model.modelAI.Record(row['parent_form_id'], newId, None, form)\n",
    "    changesList.append(record)\n",
    "\n",
    "changes = model.modelAI.Changes(changesList)\n",
    "finalJson = json.dumps(changes, default=model.modelAI.default)"
   ],
   "metadata": {
    "collapsed": false,
    "pycharm": {
     "name": "#%%\n"
    }
   }
  },
  {
   "cell_type": "code",
   "execution_count": 27,
   "outputs": [
    {
     "name": "stdout",
     "output_type": "stream",
     "text": [
      "<class 'list'>\n",
      " creado respaldo: 2022-JUNIO\\data_form1_canton_org-.json\n"
     ]
    }
   ],
   "source": [
    "osmosys.Backups.do_backup('form1_canton_org','',month,2022, changesList, finalJson)"
   ],
   "metadata": {
    "collapsed": false,
    "pycharm": {
     "name": "#%%\n"
    }
   }
  },
  {
   "cell_type": "code",
   "execution_count": 109,
   "outputs": [
    {
     "name": "stdout",
     "output_type": "stream",
     "text": [
      "nada por crear en AI\n"
     ]
    }
   ],
   "source": [
    "## send to AI\n",
    "try:\n",
    "    if (numberOfFormTocreate > 0):\n",
    "        client.post_resource('update', body=finalJson)\n",
    "        print(\"Enviado a AI\")\n",
    "    else:\n",
    "        print(\"nada por crear en AI\")\n",
    "except HTTPError as e:\n",
    "    code = e.response.status_code\n",
    "    print('error:')\n",
    "    print(code)\n",
    "    print(e)"
   ],
   "metadata": {
    "collapsed": false,
    "pycharm": {
     "name": "#%%\n"
    }
   }
  }
 ],
 "metadata": {
  "kernelspec": {
   "display_name": "Python 3",
   "language": "python",
   "name": "python3"
  },
  "language_info": {
   "codemirror_mode": {
    "name": "ipython",
    "version": 2
   },
   "file_extension": ".py",
   "mimetype": "text/x-python",
   "name": "python",
   "nbconvert_exporter": "python",
   "pygments_lexer": "ipython2",
   "version": "2.7.6"
  }
 },
 "nbformat": 4,
 "nbformat_minor": 0
}