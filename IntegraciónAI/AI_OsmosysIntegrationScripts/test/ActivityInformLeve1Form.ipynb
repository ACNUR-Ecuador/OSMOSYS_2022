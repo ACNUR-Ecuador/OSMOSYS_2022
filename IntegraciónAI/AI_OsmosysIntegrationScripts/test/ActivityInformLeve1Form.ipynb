{
 "cells": [
  {
   "cell_type": "code",
   "execution_count": 18,
   "metadata": {
    "collapsed": true,
    "pycharm": {
     "name": "#%%\n"
    }
   },
   "outputs": [
    {
     "data": {
      "text/plain": "<module 'activityinfo' from 'D:\\\\Proyectos\\\\OSMOSYS_2022\\\\IntegraciónAI\\\\AI_OsmosysIntegrationScripts\\\\activityinfo\\\\__init__.py'>"
     },
     "execution_count": 18,
     "metadata": {},
     "output_type": "execute_result"
    }
   ],
   "source": [
    "## imports\n",
    "import importlib\n",
    "import osmosys.osmosys\n",
    "import osmosys.Backups\n",
    "import activityinfo\n",
    "import pandas as pd\n",
    "import model.modelAI\n",
    "from IPython.display import display\n",
    "import json\n",
    "import os.path\n",
    "from urllib.error import HTTPError\n",
    "\n",
    "importlib.reload(osmosys.osmosys)\n",
    "importlib.reload(activityinfo)"
   ]
  },
  {
   "cell_type": "code",
   "execution_count": 19,
   "outputs": [],
   "source": [
    "month = 'JUNIO'"
   ],
   "metadata": {
    "collapsed": false,
    "pycharm": {
     "name": "#%%\n"
    }
   }
  },
  {
   "cell_type": "code",
   "execution_count": 20,
   "outputs": [
    {
     "name": "stdout",
     "output_type": "stream",
     "text": [
      "<class 'pandas.core.frame.DataFrame'>\n",
      "RangeIndex: 265 entries, 0 to 264\n",
      "Data columns (total 10 columns):\n",
      " #   Column              Non-Null Count  Dtype \n",
      "---  ------              --------------  ----- \n",
      " 0   folder              265 non-null    object\n",
      " 1   form                265 non-null    object\n",
      " 2   form_id             265 non-null    object\n",
      " 3   parent_form         265 non-null    object\n",
      " 4   parent_form_id      265 non-null    object\n",
      " 5   org_acron           265 non-null    object\n",
      " 6   id_registro_imp     261 non-null    object\n",
      " 7   osmosys_code        265 non-null    object\n",
      " 8   canton              265 non-null    object\n",
      " 9   canton_id_registro  265 non-null    object\n",
      "dtypes: object(10)\n",
      "memory usage: 20.8+ KB\n",
      "None\n"
     ]
    }
   ],
   "source": [
    "osmosysData = osmosys.osmosys.get_ai_form_level_1()\n",
    "print(osmosysData.info())"
   ],
   "metadata": {
    "collapsed": false,
    "pycharm": {
     "name": "#%%\n"
    }
   }
  },
  {
   "cell_type": "code",
   "execution_count": 21,
   "outputs": [
    {
     "name": "stdout",
     "output_type": "stream",
     "text": [
      "['cbuetdgl5h80ssui' 'cxu2duhl5h80ssu7' 'ciu4i6l5h80ssu11'\n",
      " 'cn5gy4sl5h80ssu12' 'c1rc4lbl5h80ssu17' 'c9dlxgnl5h80ssux'\n",
      " 'cq6zi6ll5h80ssuz' 'cnyt9whl5h80ssuw']\n",
      "<class 'numpy.ndarray'>\n",
      "parent_form               parent_form_id   \n",
      "Agua saneamiento higiene  cq6zi6ll5h80ssuz      5\n",
      "Alojamiento               cnyt9whl5h80ssuw     26\n",
      "Educación                 cbuetdgl5h80ssui     36\n",
      "Integración               cxu2duhl5h80ssu7     47\n",
      "Protección VBG            c1rc4lbl5h80ssu17    50\n",
      "Protección a la infancia  ciu4i6l5h80ssu11     37\n",
      "Protección general        cn5gy4sl5h80ssu12    61\n",
      "Salud                     c9dlxgnl5h80ssux      3\n",
      "dtype: int64\n"
     ]
    }
   ],
   "source": [
    "# get all unique form ids\n",
    "#osmosysData.form_id.value_counts()\n",
    "parentFormsIds = osmosysData.parent_form_id.unique()\n",
    "print(parentFormsIds)\n",
    "print(type(parentFormsIds))\n",
    "print(osmosysData.groupby(['parent_form', 'parent_form_id']).size())"
   ],
   "metadata": {
    "collapsed": false,
    "pycharm": {
     "name": "#%%\n"
    }
   }
  },
  {
   "cell_type": "code",
   "execution_count": 22,
   "outputs": [
    {
     "name": "stdout",
     "output_type": "stream",
     "text": [
      "cbuetdgl5h80ssui\n",
      "(85, 33)\n",
      "(85, 33)\n",
      "cxu2duhl5h80ssu7\n",
      "(254, 33)\n",
      "(339, 34)\n",
      "ciu4i6l5h80ssu11\n",
      "(198, 33)\n",
      "(537, 35)\n",
      "cn5gy4sl5h80ssu12\n",
      "(307, 33)\n",
      "(844, 36)\n",
      "c1rc4lbl5h80ssu17\n",
      "(190, 33)\n",
      "(1034, 37)\n",
      "c9dlxgnl5h80ssux\n",
      "(319, 33)\n",
      "(1353, 38)\n",
      "cq6zi6ll5h80ssuz\n",
      "(164, 33)\n",
      "(1517, 39)\n",
      "cnyt9whl5h80ssuw\n",
      "(359, 33)\n",
      "(1876, 40)\n"
     ]
    }
   ],
   "source": [
    "importlib.reload(osmosys.osmosys)\n",
    "aiToken = osmosys.osmosys.getToken()\n",
    "formTotalDf = None\n",
    "for parentFormsId in parentFormsIds:\n",
    "    print(parentFormsId)\n",
    "    client = activityinfo.Client(token=aiToken, base_url='https://www.activityinfo.org/resources')\n",
    "    dbsJson = client.get_resource('form/{parentFormsId}/query'.format(parentFormsId=parentFormsId))\n",
    "    dbsDf = pd.DataFrame.from_records(dbsJson)\n",
    "    dbsDf['parent_form_id'] = parentFormsId\n",
    "    print(dbsDf.shape)\n",
    "    if formTotalDf is None:\n",
    "        formTotalDf = dbsDf\n",
    "    else:\n",
    "        formTotalDf = pd.concat([formTotalDf, dbsDf], axis=0)\n",
    "    print(formTotalDf.shape)"
   ],
   "metadata": {
    "collapsed": false,
    "pycharm": {
     "name": "#%%\n"
    }
   }
  },
  {
   "cell_type": "code",
   "execution_count": 23,
   "outputs": [
    {
     "name": "stdout",
     "output_type": "stream",
     "text": [
      "formTotalDf: (1876, 40)\n",
      "formPartnersDf: (198, 40)\n"
     ]
    }
   ],
   "source": [
    "# ordeno para quitar duplicados\n",
    "# filtro implementaciòn indirecta y doante acnur\n",
    "print('formTotalDf: ' + str(formTotalDf.shape))\n",
    "formPartnersDf = formTotalDf.loc[\n",
    "    (formTotalDf['implementacion'] == 'Indirecta') & (formTotalDf['donante.@id'] == 'chgxs46l02wy5i81e')]\n",
    "print('formPartnersDf: ' + str(formPartnersDf.shape))"
   ],
   "metadata": {
    "collapsed": false,
    "pycharm": {
     "name": "#%%\n"
    }
   }
  },
  {
   "cell_type": "code",
   "execution_count": 24,
   "outputs": [
    {
     "name": "stdout",
     "output_type": "stream",
     "text": [
      "formPartnersDfClean: (139, 40)\n"
     ]
    }
   ],
   "source": [
    "formPartnersDfClean = formPartnersDf.sort_values('@lastEditTime', ascending=False).drop_duplicates(\n",
    "    subset=['implementador.@id', 'ubicacion.@id', 'parent_form_id'])\n",
    "print('formPartnersDfClean: ' + str(formPartnersDfClean.shape))\n",
    "formPartnersDfClean = formPartnersDfClean[\n",
    "    [\"@id\", \"@lastEditTime\", \"implementacion\", \"donante.@id\", \"donante.org_nombre\", \"donante.donante\",\n",
    "     \"implementador.@id\",\n",
    "     \"implementador.org_nombre\", \"implementador.donante\", \"ubicacion.@id\", \"ubicacion.name\", \"ubicacion.code\",\n",
    "     \"ubicacion.parent.name\", \"ubicacion.parent.code\", \"codigo_referencia\", \"parent_form_id\"\n",
    "     ]]"
   ],
   "metadata": {
    "collapsed": false,
    "pycharm": {
     "name": "#%%\n"
    }
   }
  },
  {
   "cell_type": "code",
   "execution_count": 25,
   "outputs": [
    {
     "name": "stdout",
     "output_type": "stream",
     "text": [
      "Forms to create: 142\n"
     ]
    }
   ],
   "source": [
    "## hago merge para buscar cuales falta por crear\n",
    "mergeDf = pd.merge(osmosysData, formPartnersDfClean, how='left',\n",
    "                   left_on=['parent_form_id', 'id_registro_imp', 'canton_id_registro'],\n",
    "                   right_on=['parent_form_id', 'implementador.@id', 'ubicacion.@id'])\n",
    "formsToCreate = mergeDf[mergeDf['@id'].isna()]\n",
    "numberOfFormTocreate = formsToCreate.shape[0]\n",
    "print('Forms to create: ' + str(numberOfFormTocreate))"
   ],
   "metadata": {
    "collapsed": false,
    "pycharm": {
     "name": "#%%\n"
    }
   }
  },
  {
   "cell_type": "code",
   "execution_count": 26,
   "outputs": [],
   "source": [
    "importlib.reload(model.modelAI)\n",
    "\n",
    "## creo las estructuras de datos\n",
    "changesList = []\n",
    "newIds = []\n",
    "for index, row in formsToCreate.iterrows():\n",
    "    form = model.modelAI.Form(cqes12jkykah3la9='40038', org_user='cc9fjcdkyyk18oj6', implementacion='c89eykqkykc8oig1b',\n",
    "                              donante='chgxs46l02wy5i81e',\n",
    "                              implementador=row['id_registro_imp'],\n",
    "                              ubicacion=row['canton_id_registro'])\n",
    "    newId = activityinfo.generate_id()\n",
    "    newIds.append(newId)\n",
    "    record = model.modelAI.Record(row['parent_form_id'], newId, None, form)\n",
    "    changesList.append(record)\n",
    "\n",
    "changes = model.modelAI.Changes(changesList)\n",
    "finalJson = json.dumps(changes, default=model.modelAI.default)"
   ],
   "metadata": {
    "collapsed": false,
    "pycharm": {
     "name": "#%%\n"
    }
   }
  },
  {
   "cell_type": "code",
   "execution_count": 27,
   "outputs": [
    {
     "name": "stdout",
     "output_type": "stream",
     "text": [
      "<class 'list'>\n",
      " creado respaldo: 2022-JUNIO\\data_form1_canton_org-.json\n"
     ]
    }
   ],
   "source": [
    "osmosys.Backups.do_backup('form1_canton_org','',month,2022, changesList, finalJson)"
   ],
   "metadata": {
    "collapsed": false,
    "pycharm": {
     "name": "#%%\n"
    }
   }
  },
  {
   "cell_type": "code",
   "execution_count": 109,
   "outputs": [
    {
     "name": "stdout",
     "output_type": "stream",
     "text": [
      "nada por crear en AI\n"
     ]
    }
   ],
   "source": [
    "## send to AI\n",
    "try:\n",
    "    if (numberOfFormTocreate > 0):\n",
    "        client.post_resource('update', body=finalJson)\n",
    "        print(\"Enviado a AI\")\n",
    "    else:\n",
    "        print(\"nada por crear en AI\")\n",
    "except HTTPError as e:\n",
    "    code = e.response.status_code\n",
    "    print('error:')\n",
    "    print(code)\n",
    "    print(e)"
   ],
   "metadata": {
    "collapsed": false,
    "pycharm": {
     "name": "#%%\n"
    }
   }
  }
 ],
 "metadata": {
  "kernelspec": {
   "display_name": "Python 3",
   "language": "python",
   "name": "python3"
  },
  "language_info": {
   "codemirror_mode": {
    "name": "ipython",
    "version": 2
   },
   "file_extension": ".py",
   "mimetype": "text/x-python",
   "name": "python",
   "nbconvert_exporter": "python",
   "pygments_lexer": "ipython2",
   "version": "2.7.6"
  }
 },
 "nbformat": 4,
 "nbformat_minor": 0
}