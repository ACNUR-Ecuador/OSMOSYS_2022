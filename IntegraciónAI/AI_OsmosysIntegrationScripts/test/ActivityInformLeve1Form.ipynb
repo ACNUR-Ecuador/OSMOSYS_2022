{
 "cells": [
  {
   "cell_type": "code",
   "execution_count": 112,
   "metadata": {
    "collapsed": true,
    "pycharm": {
     "name": "#%%\n"
    }
   },
   "outputs": [
    {
     "data": {
      "text/plain": "<module 'activityinfo' from 'D:\\\\Proyectos\\\\OSMOSYS_2022\\\\IntegraciónAI\\\\AI_OsmosysIntegrationScripts\\\\activityinfo\\\\__init__.py'>"
     },
     "execution_count": 112,
     "metadata": {},
     "output_type": "execute_result"
    }
   ],
   "source": [
    "## imports\n",
    "import importlib\n",
    "import osmosys.osmosys\n",
    "import activityinfo\n",
    "import pandas as pd\n",
    "import model.modelAI\n",
    "from IPython.display import display\n",
    "import json\n",
    "import os.path\n",
    "from urllib.error import HTTPError\n",
    "\n",
    "importlib.reload(osmosys.osmosys)\n",
    "importlib.reload(activityinfo)"
   ]
  },
  {
   "cell_type": "code",
   "execution_count": 101,
   "outputs": [],
   "source": [
    "month = 'JUNIO'"
   ],
   "metadata": {
    "collapsed": false,
    "pycharm": {
     "name": "#%%\n"
    }
   }
  },
  {
   "cell_type": "code",
   "execution_count": 102,
   "outputs": [
    {
     "name": "stdout",
     "output_type": "stream",
     "text": [
      "<class 'pandas.core.frame.DataFrame'>\n",
      "RangeIndex: 262 entries, 0 to 261\n",
      "Data columns (total 10 columns):\n",
      " #   Column              Non-Null Count  Dtype \n",
      "---  ------              --------------  ----- \n",
      " 0   folder              262 non-null    object\n",
      " 1   form                262 non-null    object\n",
      " 2   form_id             262 non-null    object\n",
      " 3   parent_form         262 non-null    object\n",
      " 4   parent_form_id      262 non-null    object\n",
      " 5   org_acron           262 non-null    object\n",
      " 6   id_registro_imp     258 non-null    object\n",
      " 7   osmosys_code        262 non-null    object\n",
      " 8   canton              262 non-null    object\n",
      " 9   canton_id_registro  262 non-null    object\n",
      "dtypes: object(10)\n",
      "memory usage: 20.6+ KB\n",
      "None\n"
     ]
    }
   ],
   "source": [
    "osmosysData = osmosys.osmosys.get_ai_form_level_1()\n",
    "print(osmosysData.info())"
   ],
   "metadata": {
    "collapsed": false,
    "pycharm": {
     "name": "#%%\n"
    }
   }
  },
  {
   "cell_type": "code",
   "execution_count": 103,
   "outputs": [
    {
     "name": "stdout",
     "output_type": "stream",
     "text": [
      "['cx2rbbnl4q3ommxda' 'chmqarpl4q3ommxcz' 'cr62ru9l4q3ommxdt'\n",
      " 'cq0tf6fl4q3ommxdu' 'cqc8ug2l4q3ommxdz' 'cf6k80l4q3ommxdp'\n",
      " 'culktyl4q3ommxdr' 'c41ibpyl4q3ommxdo']\n",
      "<class 'numpy.ndarray'>\n",
      "parent_form               parent_form_id   \n",
      "Agua saneamiento higiene  culktyl4q3ommxdr      5\n",
      "Alojamiento               c41ibpyl4q3ommxdo    26\n",
      "Educación                 cx2rbbnl4q3ommxda    33\n",
      "Integración               chmqarpl4q3ommxcz    47\n",
      "Protección VBG            cqc8ug2l4q3ommxdz    50\n",
      "Protección a la infancia  cr62ru9l4q3ommxdt    37\n",
      "Protección general        cq0tf6fl4q3ommxdu    61\n",
      "Salud                     cf6k80l4q3ommxdp      3\n",
      "dtype: int64\n"
     ]
    }
   ],
   "source": [
    "# get all unique form ids\n",
    "#osmosysData.form_id.value_counts()\n",
    "parentFormsIds = osmosysData.parent_form_id.unique()\n",
    "print(parentFormsIds)\n",
    "print(type(parentFormsIds))\n",
    "print(osmosysData.groupby(['parent_form', 'parent_form_id']).size())"
   ],
   "metadata": {
    "collapsed": false,
    "pycharm": {
     "name": "#%%\n"
    }
   }
  },
  {
   "cell_type": "code",
   "execution_count": 104,
   "outputs": [
    {
     "name": "stdout",
     "output_type": "stream",
     "text": [
      "cx2rbbnl4q3ommxda\n",
      "(89, 33)\n",
      "(89, 33)\n",
      "chmqarpl4q3ommxcz\n",
      "(252, 33)\n",
      "(341, 34)\n",
      "cr62ru9l4q3ommxdt\n",
      "(204, 33)\n",
      "(545, 35)\n",
      "cq0tf6fl4q3ommxdu\n",
      "(332, 33)\n",
      "(877, 36)\n",
      "cqc8ug2l4q3ommxdz\n",
      "(216, 33)\n",
      "(1093, 37)\n",
      "cf6k80l4q3ommxdp\n",
      "(292, 33)\n",
      "(1385, 38)\n",
      "culktyl4q3ommxdr\n",
      "(151, 33)\n",
      "(1536, 39)\n",
      "c41ibpyl4q3ommxdo\n",
      "(335, 33)\n",
      "(1871, 40)\n"
     ]
    }
   ],
   "source": [
    "importlib.reload(osmosys.osmosys)\n",
    "aiToken = osmosys.osmosys.getToken()\n",
    "formTotalDf = None\n",
    "for parentFormsId in parentFormsIds:\n",
    "    print(parentFormsId)\n",
    "    client = activityinfo.Client(token=aiToken, base_url='https://www.activityinfo.org/resources')\n",
    "    dbsJson = client.get_resource('form/{parentFormsId}/query'.format(parentFormsId=parentFormsId))\n",
    "    dbsDf = pd.DataFrame.from_records(dbsJson)\n",
    "    dbsDf['parent_form_id'] = parentFormsId\n",
    "    print(dbsDf.shape)\n",
    "    if formTotalDf is None:\n",
    "        formTotalDf = dbsDf\n",
    "    else:\n",
    "        formTotalDf = pd.concat([formTotalDf, dbsDf], axis=0)\n",
    "    print(formTotalDf.shape)"
   ],
   "metadata": {
    "collapsed": false,
    "pycharm": {
     "name": "#%%\n"
    }
   }
  },
  {
   "cell_type": "code",
   "execution_count": 105,
   "outputs": [
    {
     "name": "stdout",
     "output_type": "stream",
     "text": [
      "formTotalDf: (1871, 40)\n",
      "formPartnersDf: (350, 40)\n"
     ]
    }
   ],
   "source": [
    "# ordeno para quitar duplicados\n",
    "# filtro implementaciòn indirecta y doante acnur\n",
    "print('formTotalDf: ' + str(formTotalDf.shape))\n",
    "formPartnersDf = formTotalDf.loc[\n",
    "    (formTotalDf['implementacion'] == 'Indirecta') & (formTotalDf['donante.@id'] == 'chgxs46l02wy5i81e')]\n",
    "print('formPartnersDf: ' + str(formPartnersDf.shape))"
   ],
   "metadata": {
    "collapsed": false,
    "pycharm": {
     "name": "#%%\n"
    }
   }
  },
  {
   "cell_type": "code",
   "execution_count": 106,
   "outputs": [
    {
     "name": "stdout",
     "output_type": "stream",
     "text": [
      "formPartnersDfClean: (284, 40)\n"
     ]
    }
   ],
   "source": [
    "formPartnersDfClean = formPartnersDf.sort_values('@lastEditTime', ascending=False).drop_duplicates(\n",
    "    subset=['implementador.@id', 'ubicacion.@id', 'parent_form_id'])\n",
    "print('formPartnersDfClean: ' + str(formPartnersDfClean.shape))\n",
    "formPartnersDfClean = formPartnersDfClean[\n",
    "    [\"@id\", \"@lastEditTime\", \"implementacion\", \"donante.@id\", \"donante.org_nombre\", \"donante.donante\",\n",
    "     \"implementador.@id\",\n",
    "     \"implementador.org_nombre\", \"implementador.donante\", \"ubicacion.@id\", \"ubicacion.name\", \"ubicacion.code\",\n",
    "     \"ubicacion.parent.name\", \"ubicacion.parent.code\", \"codigo_referencia\", \"parent_form_id\"\n",
    "     ]]"
   ],
   "metadata": {
    "collapsed": false,
    "pycharm": {
     "name": "#%%\n"
    }
   }
  },
  {
   "cell_type": "code",
   "execution_count": 107,
   "outputs": [
    {
     "name": "stdout",
     "output_type": "stream",
     "text": [
      "Forms to create: 0\n"
     ]
    }
   ],
   "source": [
    "## hago merge para buscar cuales falta por crear\n",
    "mergeDf = pd.merge(osmosysData, formPartnersDfClean, how='left',\n",
    "                   left_on=['parent_form_id', 'id_registro_imp', 'canton_id_registro'],\n",
    "                   right_on=['parent_form_id', 'implementador.@id', 'ubicacion.@id'])\n",
    "formsToCreate = mergeDf[mergeDf['@id'].isna()]\n",
    "numberOfFormTocreate = formsToCreate.shape[0]\n",
    "print('Forms to create: ' + str(numberOfFormTocreate))"
   ],
   "metadata": {
    "collapsed": false,
    "pycharm": {
     "name": "#%%\n"
    }
   }
  },
  {
   "cell_type": "code",
   "execution_count": 111,
   "outputs": [],
   "source": [
    "importlib.reload(model.modelAI)\n",
    "\n",
    "## creo las estructuras de datos\n",
    "changesList = []\n",
    "newIds = []\n",
    "for index, row in formsToCreate.iterrows():\n",
    "    form = model.modelAI.Form(cqes12jkykah3la9='40038', org_user='cc9fjcdkyyk18oj6', implementacion='c89eykqkykc8oig1b',\n",
    "                              donante='chgxs46l02wy5i81e',\n",
    "                              implementador=row['id_registro_imp'],\n",
    "                              ubicacion=row['canton_id_registro'])\n",
    "    newId = activityinfo.generate_id()\n",
    "    newIds.append(newId)\n",
    "    record = model.modelAI.Record(row['parent_form_id'], newId, None, form)\n",
    "    changesList.append(record)\n",
    "\n",
    "changes = model.modelAI.Changes(changesList)\n",
    "finalJson = json.dumps(changes, default=model.modelAI.default)\n",
    "\n",
    "#open text file\n",
    "try:\n",
    "    os.mkdir(month)\n",
    "except Exception:\n",
    "    pass\n",
    "text_file = open(os.path.join(month, \"form_level_1\" + month + \".json\"), \"w\")\n",
    "#write string to file\n",
    "n = text_file.write(finalJson)\n",
    "#close file\n",
    "text_file.close()\n",
    "newIdsDict = {\"newIds\": newIds}\n",
    "newIdsDf = pd.DataFrame(newIdsDict)\n",
    "newIdsDf.to_csv(os.path.join(month, \"new_ids_\" + \"FormLevel1\" + \".csv\"))"
   ],
   "metadata": {
    "collapsed": false,
    "pycharm": {
     "name": "#%%\n"
    }
   }
  },
  {
   "cell_type": "code",
   "execution_count": 109,
   "outputs": [
    {
     "name": "stdout",
     "output_type": "stream",
     "text": [
      "nada por crear en AI\n"
     ]
    }
   ],
   "source": [
    "## send to AI\n",
    "try:\n",
    "    if (numberOfFormTocreate > 0):\n",
    "        client.post_resource('update', body=finalJson)\n",
    "        print(\"Enviado a AI\")\n",
    "    else:\n",
    "        print(\"nada por crear en AI\")\n",
    "except HTTPError as e:\n",
    "    code = e.response.status_code\n",
    "    print('error:')\n",
    "    print(code)\n",
    "    print(e)"
   ],
   "metadata": {
    "collapsed": false,
    "pycharm": {
     "name": "#%%\n"
    }
   }
  }
 ],
 "metadata": {
  "kernelspec": {
   "display_name": "Python 3",
   "language": "python",
   "name": "python3"
  },
  "language_info": {
   "codemirror_mode": {
    "name": "ipython",
    "version": 2
   },
   "file_extension": ".py",
   "mimetype": "text/x-python",
   "name": "python",
   "nbconvert_exporter": "python",
   "pygments_lexer": "ipython2",
   "version": "2.7.6"
  }
 },
 "nbformat": 4,
 "nbformat_minor": 0
}